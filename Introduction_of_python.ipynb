{
  "nbformat": 4,
  "nbformat_minor": 0,
  "metadata": {
    "colab": {
      "provenance": [],
      "authorship_tag": "ABX9TyOgIVzN72SwswwpAeelDEzA",
      "include_colab_link": true
    },
    "kernelspec": {
      "name": "python3",
      "display_name": "Python 3"
    },
    "language_info": {
      "name": "python"
    }
  },
  "cells": [
    {
      "cell_type": "markdown",
      "metadata": {
        "id": "view-in-github",
        "colab_type": "text"
      },
      "source": [
        "<a href=\"https://colab.research.google.com/github/2003MADHAV/CodingNinjas_Basic-of-Python-with-Datastructure-Algorithm-__Solution/blob/main/Introduction_of_python.ipynb\" target=\"_parent\"><img src=\"https://colab.research.google.com/assets/colab-badge.svg\" alt=\"Open In Colab\"/></a>"
      ]
    },
    {
      "cell_type": "markdown",
      "source": [
        "week-1\n",
        "Intoduction to python"
      ],
      "metadata": {
        "id": "WAZQDHmMZ2ND"
      }
    },
    {
      "cell_type": "markdown",
      "source": [
        "Arithmetic Progression"
      ],
      "metadata": {
        "id": "mVEr-bjta88J"
      }
    },
    {
      "cell_type": "code",
      "source": [
        "a = int(input())\n",
        "b = int(input())\n",
        "c = int(input())\n",
        "\n",
        "# Calculate the common difference\n",
        "common_difference = b - a\n",
        "\n",
        "# Print the result\n",
        "print(common_difference)"
      ],
      "metadata": {
        "id": "r2s9szaha7on"
      },
      "execution_count": null,
      "outputs": []
    },
    {
      "cell_type": "markdown",
      "source": [
        "Rectangular Area"
      ],
      "metadata": {
        "id": "m214slPlcpom"
      }
    },
    {
      "cell_type": "code",
      "source": [
        "x1 = int(input())\n",
        "y1 = int(input())\n",
        "x2 = int(input())\n",
        "y2 = int(input())\n",
        "\n",
        "# Calculate width and height\n",
        "width = abs(x2 - x1)\n",
        "height = abs(y2 - y1)\n",
        "\n",
        "# Calculate the total area\n",
        "area = width * height\n",
        "\n",
        "# Print the result\n",
        "print(area)"
      ],
      "metadata": {
        "id": "oYg1QcUqcxTE"
      },
      "execution_count": null,
      "outputs": []
    },
    {
      "cell_type": "markdown",
      "source": [
        "week-2\n",
        "Condition and Loops"
      ],
      "metadata": {
        "id": "0zYtawYydG3B"
      }
    },
    {
      "cell_type": "markdown",
      "source": [
        "Check Number"
      ],
      "metadata": {
        "id": "_f7x7O3ddU1g"
      }
    },
    {
      "cell_type": "code",
      "source": [
        "# Input\n",
        "n = int(input())\n",
        "if n > 0:\n",
        "    print(\"Positive\")\n",
        "elif n < 0:\n",
        "     print(\"Negative\")\n",
        "elif n==0:\n",
        "    print(\"Zero\")"
      ],
      "metadata": {
        "id": "8H4Aly0LdPl3"
      },
      "execution_count": null,
      "outputs": []
    },
    {
      "cell_type": "markdown",
      "source": [
        "Sum of N numbers"
      ],
      "metadata": {
        "id": "Dgh8ijibdgEZ"
      }
    },
    {
      "cell_type": "code",
      "source": [
        "# Print output as specified in the question\n",
        "n = int(input())\n",
        "\n",
        "sum_of_numbers = 0\n",
        "current_number = 1\n",
        "\n",
        "while current_number <= n:\n",
        "    sum_of_numbers += current_number\n",
        "    current_number += 1\n",
        "\n",
        "print(sum_of_numbers)"
      ],
      "metadata": {
        "id": "miJhTsR-dl3K"
      },
      "execution_count": null,
      "outputs": []
    },
    {
      "cell_type": "markdown",
      "source": [
        "Sum of Even Numbers till N"
      ],
      "metadata": {
        "id": "kZNiVbutdqLF"
      }
    },
    {
      "cell_type": "code",
      "source": [
        "## Print output as specified in the question.\n",
        "N = int(input())\n",
        "sum_of_even_numbers = 0\n",
        "for num in range(1, N + 1):\n",
        "\n",
        "       if num % 2 == 0:\n",
        "               sum_of_even_numbers += num\n",
        "\n",
        "\n",
        "print(sum_of_even_numbers)"
      ],
      "metadata": {
        "id": "7drAzksMd0xd"
      },
      "execution_count": null,
      "outputs": []
    },
    {
      "cell_type": "markdown",
      "source": [
        "Fahrenheit to Celsius"
      ],
      "metadata": {
        "id": "hHk8vtwWd3rD"
      }
    },
    {
      "cell_type": "code",
      "source": [
        "# Print output as specified in the question\n",
        "S = int(input())\n",
        "E = int(input())\n",
        "W = int(input())\n",
        "while S <= E:\n",
        "    C = (S - 32) * 5 /9\n",
        "    print(S,int(C))\n",
        "    S += W"
      ],
      "metadata": {
        "id": "Gt2o-xlpeCsq"
      },
      "execution_count": null,
      "outputs": []
    },
    {
      "cell_type": "markdown",
      "source": [
        "Practice\n"
      ],
      "metadata": {
        "id": "XJdtGLE9eIQj"
      }
    },
    {
      "cell_type": "markdown",
      "source": [
        "Calculator"
      ],
      "metadata": {
        "id": "FFaPLCtleQB7"
      }
    },
    {
      "cell_type": "code",
      "source": [
        "while True:\n",
        "    choice=int(input())\n",
        "    if choice==1:\n",
        "        num1=int(input())\n",
        "        num2=int(input())\n",
        "        result=num1+num2\n",
        "        print(result)\n",
        "    elif choice==2:\n",
        "        num1=int(input())\n",
        "        num2=int(input())\n",
        "        result=num1-num2\n",
        "        print(result)\n",
        "    elif choice==3:\n",
        "        num1=int(input())\n",
        "        num2=int(input())\n",
        "        result=num1*num2\n",
        "        print(result)\n",
        "    elif choice==4:\n",
        "        num1=int(input())\n",
        "        num2=int(input())\n",
        "        if num2 !=0:\n",
        "            result=num1//num2\n",
        "            print(result)\n",
        "        else:\n",
        "            print(\"Invalid operatiom\")\n",
        "    elif choice==5:\n",
        "        num1=int(input())\n",
        "        num2=int(input())\n",
        "        if num2 !=0:\n",
        "            result=num1%num2\n",
        "            print(result)\n",
        "        else:\n",
        "            print(\"Invalid Operation\")\n",
        "    elif choice==6:\n",
        "        break\n",
        "    else:\n",
        "        print(\"Invalid Operation\")"
      ],
      "metadata": {
        "id": "24XjgdDEeOoq"
      },
      "execution_count": null,
      "outputs": []
    },
    {
      "cell_type": "markdown",
      "source": [
        "Reverse of number"
      ],
      "metadata": {
        "id": "lXY68-M9eYHF"
      }
    },
    {
      "cell_type": "code",
      "source": [
        "#Write Your Code Here\n",
        "N=int(input())\n",
        "reverse_str = str(N)[::-1]\n",
        "reverse_num = int(reverse_str)\n",
        "print(reverse_num)"
      ],
      "metadata": {
        "id": "dtYz0i57echQ"
      },
      "execution_count": null,
      "outputs": []
    },
    {
      "cell_type": "markdown",
      "source": [
        "Palindrome Number"
      ],
      "metadata": {
        "id": "PIW6VeMEefzM"
      }
    },
    {
      "cell_type": "code",
      "source": [
        "def is_palindrome(n):\n",
        "    if n < 0:\n",
        "        return False\n",
        "    num_digits = 0\n",
        "    temp = n\n",
        "    while temp > 0:\n",
        "        temp //= 10\n",
        "        num_digits += 1\n",
        "    left, right = n, 0\n",
        "    for _ in range(num_digits // 2):\n",
        "        right = right * 10 + left % 10\n",
        "        left //= 10\n",
        "    if num_digits % 2 == 1:\n",
        "        left //= 10\n",
        "    return str(left == right).lower()\n",
        "number = int(input())\n",
        "result = is_palindrome(number)\n",
        "print(result)"
      ],
      "metadata": {
        "id": "fPSxCWL6ek6f"
      },
      "execution_count": null,
      "outputs": []
    },
    {
      "cell_type": "markdown",
      "source": [
        "Sum of Even and Odd"
      ],
      "metadata": {
        "id": "3T1EC4j2engr"
      }
    },
    {
      "cell_type": "code",
      "source": [
        "## Note : For printing multiple values in one line, put them inside print separated by space.\n",
        "## You can follow this syntax for printing values of two variables val1 and val2 separaetd by space -\n",
        "## print(val1, \" \", val2)\n",
        "def sum_even_and_odd_digits(n):\n",
        "    sum_even = 0\n",
        "    sum_odd = 0\n",
        "    while n > 0:\n",
        "\n",
        "        digit = n % 10\n",
        "        if digit % 2 == 0:\n",
        "            sum_even += digit\n",
        "        else:\n",
        "            sum_odd += digit\n",
        "        n //= 10\n",
        "    return sum_even, sum_odd\n",
        "n = int(input( ))\n",
        "even_sum, odd_sum = sum_even_and_odd_digits(n)\n",
        "print(even_sum, odd_sum)\n"
      ],
      "metadata": {
        "id": "kJlSYXYUeuYW"
      },
      "execution_count": null,
      "outputs": []
    },
    {
      "cell_type": "markdown",
      "source": [
        "Nth Fibonacci Number"
      ],
      "metadata": {
        "id": "nEZ1Hi5lev6p"
      }
    },
    {
      "cell_type": "code",
      "source": [
        "from math import *\n",
        "from collections import *\n",
        "from sys import *\n",
        "from os import *\n",
        "# Function to find the Nth Fibonacci number using loops\n",
        "def find_nth_fibonacci(n):\n",
        "    if n <= 0:\n",
        "        return 0\n",
        "    elif n == 1:\n",
        "        return 1\n",
        "    else:\n",
        "        fib = [0] * (n + 1)\n",
        "        fib[1] = 1\n",
        "        for i in range(2, n + 1):\n",
        "            fib[i] = fib[i - 1] + fib[i - 2]\n",
        "        return fib[n]\n",
        "\n",
        "n = int(input())\n",
        "\n",
        "result = find_nth_fibonacci(n)\n",
        "print(result)"
      ],
      "metadata": {
        "id": "_Vo3gL_Rez34"
      },
      "execution_count": null,
      "outputs": []
    },
    {
      "cell_type": "markdown",
      "source": [
        "Pattern-1"
      ],
      "metadata": {
        "id": "r4QGvuyXfLvC"
      }
    },
    {
      "cell_type": "markdown",
      "source": [
        "Lecture---"
      ],
      "metadata": {
        "id": "t_UW-20FfQDG"
      }
    },
    {
      "cell_type": "markdown",
      "source": [
        "Square Pattern"
      ],
      "metadata": {
        "id": "fSzcu89ifZp5"
      }
    },
    {
      "cell_type": "code",
      "source": [
        "## Read input as specified in the question\n",
        "## Print the required output in given format\n",
        "N=int(input())\n",
        "i=1\n",
        "while i<=N:\n",
        "    j=1\n",
        "    while j<=N:\n",
        "        print(str(N),end=\"\")\n",
        "        j=j+1\n",
        "    print( )\n",
        "    i=i+1"
      ],
      "metadata": {
        "id": "spSBP-x1fPRZ"
      },
      "execution_count": null,
      "outputs": []
    },
    {
      "cell_type": "markdown",
      "source": [
        "Triangular Star Pattern"
      ],
      "metadata": {
        "id": "_8U7sDqBfhEW"
      }
    },
    {
      "cell_type": "code",
      "source": [
        "## Read input as specified in the question\n",
        "## Print the required output in given format\n",
        "N = int(input())\n",
        "i = 1\n",
        "while i <= N:\n",
        "    j = 1\n",
        "    while j <= i:\n",
        "        print(\"*\", end=\"\")\n",
        "        j = j + 1\n",
        "    print()\n",
        "    i = i + 1"
      ],
      "metadata": {
        "id": "tagRSiT3fr7W"
      },
      "execution_count": null,
      "outputs": []
    },
    {
      "cell_type": "markdown",
      "source": [
        "Triangle Number Pattern"
      ],
      "metadata": {
        "id": "uzGJU7YXgI8Q"
      }
    },
    {
      "cell_type": "code",
      "source": [
        "## Read input as specified in the question\n",
        "## Print the required output in given format\n",
        "N = int(input())\n",
        "i = 1\n",
        "while i <= N:\n",
        "    j = 1\n",
        "    while j <= i:\n",
        "        print(i, end=\"\")\n",
        "        j = j + 1\n",
        "    print()\n",
        "    i = i + 1"
      ],
      "metadata": {
        "id": "ECiL9uVqgNP3"
      },
      "execution_count": null,
      "outputs": []
    },
    {
      "cell_type": "markdown",
      "source": [
        "Reverse Number Pattern"
      ],
      "metadata": {
        "id": "sEIu5OHIgWkn"
      }
    },
    {
      "cell_type": "code",
      "source": [
        "## Read input as specified in the question\n",
        "## Print the required output in given format\n",
        "N = int(input())\n",
        "i = 1\n",
        "while i <= N:\n",
        "    j = 1\n",
        "    while j <= i:\n",
        "        print(i - j + 1, end=\"\")\n",
        "        j = j + 1\n",
        "    print()\n",
        "    i = i + 1"
      ],
      "metadata": {
        "id": "6xE24FUZgwj4"
      },
      "execution_count": null,
      "outputs": []
    },
    {
      "cell_type": "markdown",
      "source": [
        "Character Pattern"
      ],
      "metadata": {
        "id": "fd0YUQ2lgxy-"
      }
    },
    {
      "cell_type": "code",
      "source": [
        "n=int(input())\n",
        "i=1\n",
        "while i<=n:\n",
        "    j=1\n",
        "    char=chr(ord(\"A\")+i-1)\n",
        "    while j<=i:\n",
        "        print(char,end=\"\")\n",
        "        char=chr(ord(char)+1)\n",
        "        j=j+1\n",
        "    print()\n",
        "    i=i+1"
      ],
      "metadata": {
        "id": "EeyW6XZlg6CB"
      },
      "execution_count": null,
      "outputs": []
    },
    {
      "cell_type": "markdown",
      "source": [
        "Interesting Alphabet"
      ],
      "metadata": {
        "id": "esjJynPSg7Ja"
      }
    },
    {
      "cell_type": "code",
      "source": [
        "from math import *\n",
        "from collections import *\n",
        "from sys import *\n",
        "from os import *\n",
        "n = int(input())\n",
        "i = 0\n",
        "while i < n:\n",
        "    j = 0\n",
        "    char = chr(ord(\"A\")+i-1)\n",
        "    while j <= i:\n",
        "        print(char, end=\"\")\n",
        "        char = chr(ord(char) + 1)\n",
        "        j = j + 1\n",
        "    print()\n",
        "    i = i + 1"
      ],
      "metadata": {
        "id": "IB68HJPmhDa8"
      },
      "execution_count": null,
      "outputs": []
    },
    {
      "cell_type": "markdown",
      "source": [
        "Assignment"
      ],
      "metadata": {
        "id": "6V2yLkJphJdc"
      }
    },
    {
      "cell_type": "markdown",
      "source": [
        "Number Pattern 1"
      ],
      "metadata": {
        "id": "_SzfUxlPhNu2"
      }
    },
    {
      "cell_type": "code",
      "source": [
        "from math import *\n",
        "from collections import *\n",
        "from sys import *\n",
        "from os import *\n",
        "\n",
        "## Read input as specified in the question.\n",
        "## Print output as specified in the question.\n",
        "N = int(input())\n",
        "i = 1\n",
        "while i <= N:\n",
        "    j = 1\n",
        "    while j <= i:\n",
        "        print(str(1), end=\"\")\n",
        "        j = j + 1\n",
        "    print()\n",
        "    i = i + 1"
      ],
      "metadata": {
        "id": "EX6MIKPdhK1Q"
      },
      "execution_count": null,
      "outputs": []
    },
    {
      "cell_type": "markdown",
      "source": [
        "Number Pattern 2"
      ],
      "metadata": {
        "id": "AQTdshm-hT0c"
      }
    },
    {
      "cell_type": "code",
      "source": [
        "from math import *\n",
        "from collections import *\n",
        "from sys import *\n",
        "from os import *\n",
        "N = int(input())\n",
        "print(\"1\")\n",
        "N=N-1\n",
        "i = 1\n",
        "while i <= N:\n",
        "    j = 1\n",
        "    while j <= i+1:\n",
        "        if j == 1 or j == i+1:\n",
        "            print(i , end=\"\")\n",
        "        else :\n",
        "            print(0,end='')\n",
        "        j=j+1\n",
        "    print()\n",
        "    i = i + 1"
      ],
      "metadata": {
        "id": "OHLPHpgohZ9Q"
      },
      "execution_count": null,
      "outputs": []
    },
    {
      "cell_type": "markdown",
      "source": [
        "Number Pattern 3"
      ],
      "metadata": {
        "id": "PE9-V9WYhjjf"
      }
    },
    {
      "cell_type": "code",
      "source": [
        "from math import *\n",
        "from collections import *\n",
        "from sys import *\n",
        "from os import *\n",
        "\n",
        "## Read input as specified in the question.\n",
        "## Print output as specified in the question.\n",
        "N = int(input())\n",
        "for i in range(1, N + 1):\n",
        "    for j in range(1, i + 1):\n",
        "        if j == 1 or j == i:\n",
        "            print(\"1\", end=\"\")\n",
        "        else:\n",
        "            print(\"2\", end=\"\")\n",
        "    print()"
      ],
      "metadata": {
        "id": "i-VRLmWhhpFN"
      },
      "execution_count": null,
      "outputs": []
    },
    {
      "cell_type": "markdown",
      "source": [
        "Number Pattern"
      ],
      "metadata": {
        "id": "ff7rJwXphqAa"
      }
    },
    {
      "cell_type": "code",
      "source": [
        "from math import *\n",
        "from collections import *\n",
        "from sys import *\n",
        "from os import *\n",
        "\n",
        "## Read input as specified in the question.\n",
        "## Print output as specified in the question.\n",
        "N = int(input())\n",
        "\n",
        "for i in range(N, 0, -1):\n",
        "    for j in range(1, i + 1):\n",
        "        print(j, end=\"\")\n",
        "    print()\n"
      ],
      "metadata": {
        "id": "sVq3YMTRhzVn"
      },
      "execution_count": null,
      "outputs": []
    },
    {
      "cell_type": "markdown",
      "source": [
        "Alpha Pattern"
      ],
      "metadata": {
        "id": "bFMoIZ8Lh0hY"
      }
    },
    {
      "cell_type": "code",
      "source": [
        "from math import *\n",
        "from collections import *\n",
        "from sys import *\n",
        "from os import *\n",
        "\n",
        "## Read input as specified in the question.\n",
        "## Print output as specified in the question.\n",
        "N = int(input())\n",
        "for i in range(N):\n",
        "    for j in range(i + 1):\n",
        "        print(chr(ord('A') + i), end=\"\")\n",
        "    print()"
      ],
      "metadata": {
        "id": "yS1bNIHbh7ly"
      },
      "execution_count": null,
      "outputs": []
    },
    {
      "cell_type": "markdown",
      "source": [
        "Week -3"
      ],
      "metadata": {
        "id": "UEQG0FZ8iEtj"
      }
    },
    {
      "cell_type": "markdown",
      "source": [
        "Pattern 2"
      ],
      "metadata": {
        "id": "Ej_E-sMfiHl5"
      }
    },
    {
      "cell_type": "markdown",
      "source": [
        "Lecture\n",
        "\n",
        "Inverted Number Pattern"
      ],
      "metadata": {
        "id": "HZ-rLLnnihi_"
      }
    },
    {
      "cell_type": "code",
      "source": [
        "n = int(input())\n",
        "\n",
        "for i in range(n, 0, -1):\n",
        "    for j in range(i, 0, -1):\n",
        "        print(i, end=\"\")\n",
        "    print()"
      ],
      "metadata": {
        "id": "1LbknQWXicsm"
      },
      "execution_count": null,
      "outputs": []
    },
    {
      "cell_type": "markdown",
      "source": [
        "Mirror Number Pattern"
      ],
      "metadata": {
        "id": "yd0HcTR5i4Fm"
      }
    },
    {
      "cell_type": "code",
      "source": [
        "## Read input as specified in the question\n",
        "## Print the required output in given format\n",
        "n = int(input())\n",
        "i = 1\n",
        "while i <= n:\n",
        "    space = 1\n",
        "    while space <= n - i:\n",
        "        print(\"  \", end=\"\")\n",
        "        space += 1\n",
        "    star = 1\n",
        "    while star <= i:\n",
        "        print(star, end=\"\")\n",
        "        star += 1\n",
        "    print()\n",
        "    i += 1"
      ],
      "metadata": {
        "id": "UP9L6FlXi_cC"
      },
      "execution_count": null,
      "outputs": []
    },
    {
      "cell_type": "markdown",
      "source": [
        "Star Pattern"
      ],
      "metadata": {
        "id": "kTs-SPwPjAmX"
      }
    },
    {
      "cell_type": "code",
      "source": [
        "from math import *\n",
        "from collections import *\n",
        "from sys import *\n",
        "from os import *\n",
        "\n",
        "## Read input as specified in the question.\n",
        "## Print output as specified in the question.\n",
        "n=int(input())\n",
        "i=1\n",
        "while i<=n:\n",
        "    space=1\n",
        "    while space<=n-i:\n",
        "        print(\"  \",end=\"\")\n",
        "        space=space+1\n",
        "    p=1\n",
        "    j=1\n",
        "    while j<=i:\n",
        "        print(\"*\",end=\"\")\n",
        "        j=j+1\n",
        "        p=p+1\n",
        "    p=i-1\n",
        "    while p>=1:\n",
        "        print(\"*\",end=\"\")\n",
        "        p=p-1\n",
        "    print()\n",
        "    i=i+1"
      ],
      "metadata": {
        "id": "mjsF7KahjHC4"
      },
      "execution_count": null,
      "outputs": []
    },
    {
      "cell_type": "markdown",
      "source": [
        "Triangle Number of Pattern"
      ],
      "metadata": {
        "id": "ownKhqr6jIGt"
      }
    },
    {
      "cell_type": "code",
      "source": [
        "from math import *\n",
        "from collections import *\n",
        "from sys import *\n",
        "from os import *\n",
        "\n",
        "## Read input as specified in the question.\n",
        "## Print output as specified in the question.\n",
        "n = int(input())\n",
        "\n",
        "for i in range(1, n + 1):\n",
        "    # Print leading spaces\n",
        "    for j in range(n - i):\n",
        "        print(\" \", end=\"\")\n",
        "\n",
        "    # Print increasing numbers\n",
        "    for j in range(i, 2 * i):\n",
        "        print(j, end=\"\")\n",
        "\n",
        "    # Print decreasing numbers\n",
        "    for j in range(2 * i - 2, i - 1, -1):\n",
        "        print(j, end=\"\")\n",
        "\n",
        "    print()"
      ],
      "metadata": {
        "id": "giQmvh4UjQ9h"
      },
      "execution_count": null,
      "outputs": []
    },
    {
      "cell_type": "markdown",
      "source": [
        "Diamond of Star"
      ],
      "metadata": {
        "id": "TSbVfdNOjR2Q"
      }
    },
    {
      "cell_type": "code",
      "source": [
        "from math import *\n",
        "from collections import *\n",
        "from sys import *\n",
        "from os import *\n",
        "\n",
        "## Read input as specified in the question.\n",
        "## Print output as specified in the question.\n",
        "N = int(input())\n",
        "i = 1\n",
        "while i <= N // 2 + 1:\n",
        "    spaces = 1\n",
        "    while spaces <= N // 2 + 1 - i:\n",
        "        print(\" \", end=\"\")\n",
        "        spaces += 1\n",
        "\n",
        "    stars = 1\n",
        "    while stars <= 2 * i - 1:\n",
        "        print(\"*\", end=\"\")\n",
        "        stars += 1\n",
        "\n",
        "    print()\n",
        "    i += 1\n",
        "\n",
        "# Print the lower half of the diamond\n",
        "i = N // 2\n",
        "while i >= 1:\n",
        "    spaces = 1\n",
        "    while spaces <= N // 2 + 1 - i:\n",
        "        print(\" \", end=\"\")\n",
        "        spaces += 1\n",
        "\n",
        "    stars = 1\n",
        "    while stars <= 2 * i - 1:\n",
        "        print(\"*\", end=\"\")\n",
        "        stars += 1\n",
        "\n",
        "    print()\n",
        "    i -= 1"
      ],
      "metadata": {
        "id": "kGc9KtfkjYeL"
      },
      "execution_count": null,
      "outputs": []
    },
    {
      "cell_type": "markdown",
      "source": [
        "Assignment"
      ],
      "metadata": {
        "id": "1tPMCKxYjg2X"
      }
    },
    {
      "cell_type": "markdown",
      "source": [
        "Number Pattern"
      ],
      "metadata": {
        "id": "YI6w8JYGjizD"
      }
    },
    {
      "cell_type": "code",
      "source": [
        "n = int(input())\n",
        "\n",
        "# Loop for each row\n",
        "for i in range(1, n + 1):\n",
        "\n",
        "    # Print numbers in ascending order\n",
        "    for j in range(1, i + 1):\n",
        "        print(j, end=\"\")\n",
        "\n",
        "    # Print spaces\n",
        "    for j in range(1, n - i + 1):\n",
        "        print(\" \", end=\"\")\n",
        "\n",
        "    # Print numbers in descending order\n",
        "    for j in range(i, 0, -1):\n",
        "        print(j, end=\"\")\n",
        "\n",
        "    # Move to the next line for the next row\n",
        "    print()\n"
      ],
      "metadata": {
        "id": "VsD_3UQejk-2"
      },
      "execution_count": null,
      "outputs": []
    },
    {
      "cell_type": "markdown",
      "source": [
        "Zeros and Stars Pattern"
      ],
      "metadata": {
        "id": "QhIkL6A2jsBF"
      }
    },
    {
      "cell_type": "code",
      "source": [
        "from os import *\n",
        "from sys import *\n",
        "from collections import *\n",
        "from math import *\n",
        "n = int(input())\n",
        "i = 1\n",
        "while i<=n:\n",
        "    j=1\n",
        "    while j<=n:\n",
        "        if i==j:\n",
        "            print(\"*\",end=\"\")\n",
        "        else :\n",
        "            print(\"0\",end=\"\")\n",
        "        j=j+1\n",
        "    j=j-1\n",
        "    print(\"*\",end=\"\")\n",
        "    while j>=1:\n",
        "        if i==j:\n",
        "            print(\"*\",end=\"\")\n",
        "        else:\n",
        "            print(\"0\",end=\"\")\n",
        "        j=j-1\n",
        "    print(\"\")\n",
        "    i=i+1\n"
      ],
      "metadata": {
        "id": "fY5IAuMDjymR"
      },
      "execution_count": null,
      "outputs": []
    },
    {
      "cell_type": "markdown",
      "source": [
        "Pyramid number pattern"
      ],
      "metadata": {
        "id": "NsPcj_WCjz6U"
      }
    },
    {
      "cell_type": "code",
      "source": [
        "from math import *\n",
        "from collections import *\n",
        "from sys import *\n",
        "from os import *\n",
        "\n",
        "## Read input as specified in the question.\n",
        "## Print output as specified in the question.\n",
        "N = int(input())\n",
        "i = 1\n",
        "\n",
        "while i <= N:\n",
        "    # Print spaces\n",
        "    spaces = 1\n",
        "    while spaces <= N - i:\n",
        "        print(\" \", end=\"\")\n",
        "        spaces += 1\n",
        "\n",
        "    # Print decreasing numbers\n",
        "    j = i\n",
        "    while j >= 1:\n",
        "        print(j, end=\"\")\n",
        "        j -= 1\n",
        "\n",
        "    # Print increasing numbers\n",
        "    j = 2\n",
        "    while j <= i:\n",
        "        print(j, end=\"\")\n",
        "        j += 1\n",
        "\n",
        "    # Move to the next row\n",
        "    print()\n",
        "    i += 1"
      ],
      "metadata": {
        "id": "OADULuv_kArN"
      },
      "execution_count": null,
      "outputs": []
    },
    {
      "cell_type": "markdown",
      "source": [
        "Arrow Pattern"
      ],
      "metadata": {
        "id": "--xpElDekB0r"
      }
    },
    {
      "cell_type": "code",
      "source": [
        "## Read input as specified in the question.\n",
        "## Print output as specified in the question.\n",
        "N = int(input())\n",
        "n = (N + 1) // 2\n",
        "\n",
        "i = 1\n",
        "while i <= n:\n",
        "    # Print leading spaces\n",
        "    spaces = 1\n",
        "    while spaces < i:\n",
        "        print(\" \", end=\" \")\n",
        "        spaces += 1\n",
        "\n",
        "    # Print stars\n",
        "    j = 1\n",
        "    while j <= i:\n",
        "        print(\"*\", end=\" \")\n",
        "        j += 1\n",
        "\n",
        "    # Move to the next row\n",
        "    print()\n",
        "    i += 1\n",
        "\n",
        "i = n - 1\n",
        "while i >= 1:\n",
        "    # Print leading spaces\n",
        "    spaces = 1\n",
        "    while spaces < i:\n",
        "        print(\" \", end=\" \")\n",
        "        spaces += 1\n",
        "\n",
        "    # Print stars\n",
        "    j = 1\n",
        "    while j <= i:\n",
        "        print(\"*\", end=\" \")\n",
        "        j += 1\n",
        "\n",
        "    # Move to the next row\n",
        "    print()\n",
        "    i -= 1"
      ],
      "metadata": {
        "id": "NQbsqA_VkIqp"
      },
      "execution_count": null,
      "outputs": []
    },
    {
      "cell_type": "markdown",
      "source": [
        "More on Loops"
      ],
      "metadata": {
        "id": "EMeB6m3SiRJW"
      }
    },
    {
      "cell_type": "markdown",
      "source": [
        "Assignment"
      ],
      "metadata": {
        "id": "dxYh137nkYs2"
      }
    },
    {
      "cell_type": "markdown",
      "source": [
        "Binary Pattern"
      ],
      "metadata": {
        "id": "WkV7OIk5kb6I"
      }
    },
    {
      "cell_type": "code",
      "source": [
        "from math import *\n",
        "from collections import *\n",
        "from sys import *\n",
        "from os import *\n",
        "\n",
        "def print_binary_pattern(N):\n",
        "    for i in range(N):\n",
        "        for j in range(N - i):\n",
        "            if i % 2 == 0:\n",
        "                print(\"1\", end=\"\")\n",
        "            else:\n",
        "                print(\"0\", end=\"\")\n",
        "        print()\n",
        "\n",
        "N = int(input())\n",
        "\n",
        "\n",
        "print_binary_pattern(N)"
      ],
      "metadata": {
        "id": "5ye0nJ30kHWz"
      },
      "execution_count": null,
      "outputs": []
    },
    {
      "cell_type": "markdown",
      "source": [
        "Print Numbers Pyramid"
      ],
      "metadata": {
        "id": "rRvzpb1zkjDV"
      }
    },
    {
      "cell_type": "code",
      "source": [
        "from math import *\n",
        "from collections import *\n",
        "from sys import *\n",
        "from os import *\n",
        "\n",
        "def print_number_pyramid(n):\n",
        "    for i in range(1, n + 1):\n",
        "\n",
        "        for j in range(i - 1):\n",
        "            print(\" \", end=\"\")\n",
        "\n",
        "        for j in range(i, n + 1):\n",
        "            print(j, end=\"\")\n",
        "\n",
        "        print()\n",
        "\n",
        "\n",
        "    for i in range(n - 1, 0, -1):\n",
        "\n",
        "        for j in range(i - 1):\n",
        "            print(\" \", end=\"\")\n",
        "\n",
        "\n",
        "        for j in range(i, n + 1):\n",
        "            print(j, end=\"\")\n",
        "\n",
        "        print()\n",
        "\n",
        "\n",
        "n = int(input())\n",
        "\n",
        "\n",
        "print_number_pyramid(n)\n"
      ],
      "metadata": {
        "id": "wSVHMtqEia5W"
      },
      "execution_count": null,
      "outputs": []
    },
    {
      "cell_type": "markdown",
      "source": [
        "Diamonds of Star"
      ],
      "metadata": {
        "id": "xjo_-mISktEx"
      }
    },
    {
      "cell_type": "code",
      "source": [
        "from math import *\n",
        "from collections import *\n",
        "from sys import *\n",
        "from os import *\n",
        "# Function to print the corrected diamond pattern\n",
        "def print_diamond_pattern(N):\n",
        "    for i in range(N // 2):\n",
        "        # Print leading spaces\n",
        "        for j in range(N // 2 - i):\n",
        "            print(\" \", end=\"\")\n",
        "\n",
        "        # Print stars\n",
        "        for j in range(2 * i + 1):\n",
        "            print(\"*\", end=\"\")\n",
        "\n",
        "        print()  # Move to the next line\n",
        "\n",
        "    # Print the middle row of stars\n",
        "    for i in range(N):\n",
        "        print(\"*\", end=\"\")\n",
        "    print()  # Move to the next line\n",
        "\n",
        "    # Print the lower half of the diamond\n",
        "    for i in range(N // 2 - 1, -1, -1):\n",
        "        # Print leading spaces\n",
        "        for j in range(N // 2 - i):\n",
        "            print(\" \", end=\"\")\n",
        "\n",
        "        # Print stars\n",
        "        for j in range(2 * i + 1):\n",
        "            print(\"*\", end=\"\")\n",
        "\n",
        "        print()  # Move to the next line\n",
        "\n",
        "# Input the value of N (always odd)\n",
        "N = int(input())\n",
        "\n",
        "# Call the function to print the corrected pattern\n",
        "print_diamond_pattern(N)"
      ],
      "metadata": {
        "id": "xnb359MOiGzj"
      },
      "execution_count": null,
      "outputs": []
    },
    {
      "cell_type": "markdown",
      "source": [
        "Rectangular Numbers"
      ],
      "metadata": {
        "id": "jyvRrNd-k1RH"
      }
    },
    {
      "cell_type": "code",
      "source": [
        "from math import *\n",
        "from collections import *\n",
        "from sys import *\n",
        "from os import *\n",
        "\n",
        "# Input the value of N\n",
        "N = int(input())\n",
        "\n",
        "# Print the rectangular numbers pattern\n",
        "for i in range(2 * N - 1):\n",
        "    for j in range(2 * N - 1):\n",
        "        print(N - min(i, j, 2 * N - 2 - i, 2 * N - 2 - j), end=\"\")\n",
        "    print()"
      ],
      "metadata": {
        "id": "toKQl07rk8kY"
      },
      "execution_count": null,
      "outputs": []
    },
    {
      "cell_type": "markdown",
      "source": [
        "Print the Pattern"
      ],
      "metadata": {
        "id": "ImNHd9SVk9dq"
      }
    },
    {
      "cell_type": "code",
      "source": [
        "n= int(input())\n",
        "startValue = 1\n",
        "for i in range(1,n+1):\n",
        "    for j in range(startValue,startValue + n):\n",
        "        print(j,end=\" \")\n",
        "    print()\n",
        "    if(i==((n+1)//2)):\n",
        "        if((n%2)!=0):\n",
        "            startValue = n*(n-2)+1\n",
        "        else:\n",
        "            startValue = n*(n-1) + 1\n",
        "    elif((i>(n+1)//2)):\n",
        "        startValue = startValue- 2*n\n",
        "    else:\n",
        "        startValue = startValue + 2*n\n",
        "\n",
        "'''\n",
        "j=Columns\n",
        "i=Rows\n",
        "            Columns\n",
        "rows 1  2   3   4   5\n",
        "1      1   2   3   4   5\n",
        "2    11   12  13  14  15\n",
        "3    21   22  23  24  25\n",
        "4    16   17  18  19  20\n",
        "5      6   7   8   9   10\n",
        "\n",
        "First Loop\n",
        "i=1,\n",
        "StartVlaue = 1\n",
        "j = 1   2   3   4   5\n",
        "Updated StartValue = startValue + 2*n = 1+2*5 = 11\n",
        "\n",
        "Second Loop\n",
        "i=2\n",
        "StartVlaue=11\n",
        "j= 11   12  13  14  15\n",
        "Updated StartValue = startValue + 2*n = 11+2*5 = 21\n",
        "\n",
        "Third Loop\n",
        "i=3\n",
        "StartVlaue=21\n",
        "j= 21   22  23  24  25\n",
        "Updated StartValue = startValue = n*(n-2)+1 = 5*(5-2)+1 = 16\n",
        "\n",
        "Fourth loop\n",
        "i=4\n",
        "StartVlaue=16\n",
        "j= 16   17  18  19  20\n",
        "Updated StartValue = startValue- 2*n = 16-2*5 = 6\n",
        "\n",
        "Fifth Loop\n",
        "i=5\n",
        "StartVlaue=6\n",
        "j= 6    7   8   9   10\n",
        "\n",
        "'''"
      ],
      "metadata": {
        "id": "wJZm0qAUlG_J"
      },
      "execution_count": null,
      "outputs": []
    },
    {
      "cell_type": "markdown",
      "source": [
        "Week 4"
      ],
      "metadata": {
        "id": "VIMt598zlSXS"
      }
    },
    {
      "cell_type": "markdown",
      "source": [
        "Function"
      ],
      "metadata": {
        "id": "vTeZw057lcFK"
      }
    },
    {
      "cell_type": "markdown",
      "source": [
        "Lecture"
      ],
      "metadata": {
        "id": "IqHhUl2AlfvA"
      }
    },
    {
      "cell_type": "code",
      "source": [
        "#Problem statement\n",
        "#What will be the output of following code?\n",
        "\n",
        "def func(a):\n",
        "    a = a + 10\n",
        "    return a\n",
        "a = 5\n",
        "func(a)\n",
        "print(a)\n",
        "\n",
        "# output 5"
      ],
      "metadata": {
        "id": "XRlEheealbmZ"
      },
      "execution_count": null,
      "outputs": []
    },
    {
      "cell_type": "code",
      "source": [
        "#Problem statement\n",
        "#What will be the output of following code?\n",
        "\n",
        "def square(a):\n",
        "    ans  = a*a\n",
        "    return  ans\n",
        "\n",
        "a = 4\n",
        "a = square(a)\n",
        "print(a)\n",
        "\n",
        "#output 16"
      ],
      "metadata": {
        "id": "sgzDPOX1mLk3"
      },
      "execution_count": null,
      "outputs": []
    },
    {
      "cell_type": "code",
      "source": [
        "#Problem statement\n",
        "#What will be the output of following code?\n",
        "\n",
        "a = 14\n",
        "def f():\n",
        "    a=12\n",
        "f()\n",
        "print(a)\n",
        "\n",
        "#output 14"
      ],
      "metadata": {
        "id": "fTjzXkxHmQ8F"
      },
      "execution_count": null,
      "outputs": []
    },
    {
      "cell_type": "code",
      "source": [
        "#Problem statement\n",
        "#What will be the output of following code?\n",
        "\n",
        "a=14\n",
        "def f():\n",
        "    global a\n",
        "    a=12\n",
        "f()\n",
        "print(a)\n",
        "\n",
        "#output 12"
      ],
      "metadata": {
        "id": "NdnrhHivmZU0"
      },
      "execution_count": null,
      "outputs": []
    },
    {
      "cell_type": "code",
      "source": [
        "#Problem statement\n",
        "#What will be the output of following code?\n",
        "\n",
        "a = 14\n",
        "def f():\n",
        "    a = 12\n",
        "    return a\n",
        "a = f()\n",
        "print(a)\n",
        "\n",
        "#output 12"
      ],
      "metadata": {
        "id": "kPQBYzwhmnNk"
      },
      "execution_count": null,
      "outputs": []
    },
    {
      "cell_type": "code",
      "source": [
        "#roblem statement\n",
        "#What will the output of the following code?\n",
        "\n",
        "def function(a,b,c=1):\n",
        "    return a+b-c\n",
        "value = function(10,12)\n",
        "print(value)\n",
        "\n",
        "#output  21"
      ],
      "metadata": {
        "id": "B9lPIWZum1Zi"
      },
      "execution_count": null,
      "outputs": []
    },
    {
      "cell_type": "code",
      "source": [
        "Problem statement\n",
        "What will the output of the following code?\n",
        "\n",
        "def function(a,b,c=1):\n",
        "    return a+b-c\n",
        "value = function(10,12,5)\n",
        "print(value)\n",
        "\n",
        "#output 17\n"
      ],
      "metadata": {
        "id": "uwfY450KnBlP"
      },
      "execution_count": null,
      "outputs": []
    },
    {
      "cell_type": "code",
      "source": [
        "#Problem statement\n",
        "#What will the output of the following code?\n",
        "\n",
        "def function(a,b,c=1,d=5):\n",
        "    return a+b+c+d\n",
        "value = function(1,2,d=7)\n",
        "print(value)\n",
        "\n",
        "#output 11"
      ],
      "metadata": {
        "id": "oOR-uKzfnPNF"
      },
      "execution_count": null,
      "outputs": []
    },
    {
      "cell_type": "markdown",
      "source": [
        "Assignment"
      ],
      "metadata": {
        "id": "w_cZMlIBnVVM"
      }
    },
    {
      "cell_type": "markdown",
      "source": [
        "Fahrenheit to Celsius Function"
      ],
      "metadata": {
        "id": "SDFjrB_snZMZ"
      }
    },
    {
      "cell_type": "code",
      "source": [
        "\n",
        "def printTable(start, end, step):\n",
        "    # Iterate through Fahrenheit values from start to end with step size\n",
        "    for fahrenheit in range(start, end + 1, step):\n",
        "        # Calculate the corresponding Celsius value\n",
        "        celsius = int((5/9) * (fahrenheit - 32))\n",
        "        # Print Fahrenheit and Celsius values separated by a tab\n",
        "        print(fahrenheit, celsius, sep='\\t')\n",
        "\n",
        "# Input values from user\n",
        "s = int(input())\n",
        "e = int(input())\n",
        "step = int(input())\n",
        "\n",
        "# Call the function to print the table\n",
        "printTable(s, e, step)\n"
      ],
      "metadata": {
        "id": "KXbms13znh73"
      },
      "execution_count": null,
      "outputs": []
    },
    {
      "cell_type": "markdown",
      "source": [
        "Fibonacci Member"
      ],
      "metadata": {
        "id": "PoUVcmHlnkNP"
      }
    },
    {
      "cell_type": "code",
      "source": [
        "def checkMember(n):\n",
        "    # Initialize the first two Fibonacci numbers\n",
        "    a, b = 0, 1\n",
        "\n",
        "    # Check if N is 0 or 1 (special cases)\n",
        "    if n == 0 or n == 1:\n",
        "        return True\n",
        "\n",
        "    # Calculate Fibonacci numbers until they are less than or equal to N\n",
        "    while b <= n:\n",
        "        # If the current Fibonacci number is equal to N, it's a member\n",
        "        if b == n:\n",
        "            return True\n",
        "        # Calculate the next Fibonacci number in the sequence\n",
        "        a, b = b, a + b\n",
        "\n",
        "    # If we reach here, N is not a member of the Fibonacci series\n",
        "    return False\n",
        "\n",
        "# Input value from user\n",
        "n = int(input())\n",
        "\n",
        "# Check if N is a member of the Fibonacci series and print the result\n",
        "if checkMember(n):\n",
        "    print(\"true\")\n",
        "else:\n",
        "    print(\"false\")\n"
      ],
      "metadata": {
        "id": "fnI9fn3dnxPf"
      },
      "execution_count": null,
      "outputs": []
    },
    {
      "cell_type": "markdown",
      "source": [
        "Palindrome Number"
      ],
      "metadata": {
        "id": "WdNvpzbYnyje"
      }
    },
    {
      "cell_type": "code",
      "source": [
        "def isPalindrome(n):\n",
        "    # Convert the number to a string\n",
        "    num_str = str(n)\n",
        "\n",
        "    # Check if the string is equal to its reverse\n",
        "    return num_str == num_str[::-1]\n",
        "\n",
        "# Input value from user\n",
        "n = int(input())\n",
        "\n",
        "# Check if n is a palindrome and print the result in lowercase\n",
        "if isPalindrome(n):\n",
        "    print(\"true\")\n",
        "else:\n",
        "    print(\"false\")"
      ],
      "metadata": {
        "id": "4ES177gqn3tK"
      },
      "execution_count": null,
      "outputs": []
    },
    {
      "cell_type": "markdown",
      "source": [
        "Check Armstrong"
      ],
      "metadata": {
        "id": "_u66lEFpn4oh"
      }
    },
    {
      "cell_type": "code",
      "source": [
        "from os import *\n",
        "from sys import *\n",
        "from collections import *\n",
        "from math import *\n",
        "def isArmstrong(n):\n",
        "    # Convert the number to a string to count the number of digits\n",
        "    num_str = str(n)\n",
        "\n",
        "    # Calculate the number of digits\n",
        "    num_digits = len(num_str)\n",
        "\n",
        "    # Initialize the sum of digits raised to the power of num_digits\n",
        "    armstrong_sum = 0\n",
        "\n",
        "    # Iterate through each digit and add it to the sum\n",
        "    for digit_char in num_str:\n",
        "        digit = int(digit_char)\n",
        "        armstrong_sum += digit ** num_digits\n",
        "\n",
        "    # Check if the sum is equal to the original number\n",
        "    return armstrong_sum == n\n",
        "\n",
        "# Input value from user\n",
        "n = int(input())\n",
        "\n",
        "# Check if n is an Armstrong number and print the result\n",
        "if isArmstrong(n):\n",
        "    print(\"true\")\n",
        "else:\n",
        "    print(\"false\")"
      ],
      "metadata": {
        "id": "9sOAEnMOn_QW"
      },
      "execution_count": null,
      "outputs": []
    },
    {
      "cell_type": "markdown",
      "source": [
        "Test -1"
      ],
      "metadata": {
        "id": "tP26hTz4oj4m"
      }
    },
    {
      "cell_type": "markdown",
      "source": [
        "Number Star Pattern 1"
      ],
      "metadata": {
        "id": "JFdCzJGfpL6b"
      }
    },
    {
      "cell_type": "code",
      "source": [
        "from os import *\n",
        "from sys import *\n",
        "from collections import *\n",
        "from math import *\n",
        "def generate_number_star_pattern(N):\n",
        "    for i in range(1, N + 1):\n",
        "        for j in range(N, 0, -1):\n",
        "            if j == i:\n",
        "                print('*', end='')\n",
        "            else:\n",
        "                print(j, end='')\n",
        "        print()\n",
        "\n",
        "# Input\n",
        "N = int(input())\n",
        "generate_number_star_pattern(N)\n"
      ],
      "metadata": {
        "id": "8dTwnVsvpVCb"
      },
      "execution_count": null,
      "outputs": []
    },
    {
      "cell_type": "markdown",
      "source": [
        "Yet Another Pattern"
      ],
      "metadata": {
        "id": "vZcHX_u5pWDG"
      }
    },
    {
      "cell_type": "code",
      "source": [
        "from os import *\n",
        "from sys import *\n",
        "from collections import *\n",
        "from math import *\n",
        "from sys import argv\n",
        "\n",
        "def ninjaPuzzle(n):\n",
        "    for i in range(n, 0, -1):\n",
        "        for _ in range(n - i):\n",
        "            print(\" \", end=\"\")\n",
        "        for _ in range(i):\n",
        "            print(\"*\", end=\"\")\n",
        "        print()\n",
        "\n",
        "if __name__ == \"__main__\":\n",
        "    if len(argv) != 2:\n",
        "        print(\"Usage: python script.py <test_cases>\")\n",
        "        exit(1)\n",
        "\n",
        "    t = int(argv[1])\n",
        "    for _ in range(t):\n",
        "        n = int(input())\n",
        "        ninjaPuzzle(n)"
      ],
      "metadata": {
        "id": "ga9o1x2Wpdm9"
      },
      "execution_count": null,
      "outputs": []
    },
    {
      "cell_type": "markdown",
      "source": [
        "Greator Common Divisor"
      ],
      "metadata": {
        "id": "qmT-2lVRoqp3"
      }
    },
    {
      "cell_type": "code",
      "source": [
        "from os import *\n",
        "from sys import *\n",
        "from collections import *\n",
        "from math import *\n",
        "\n",
        "from math import gcd\n",
        "\n",
        "def findGcd(x, y):\n",
        "    return gcd(x, y)\n",
        "\n",
        "# Input\n",
        "t = int(input())\n",
        "for _ in range(t):\n",
        "    x, y = map(int, input().split())\n",
        "    result = findGcd(x, y)\n",
        "    print(result)"
      ],
      "metadata": {
        "id": "Mb0by_zaolWJ"
      },
      "execution_count": null,
      "outputs": []
    },
    {
      "cell_type": "markdown",
      "source": [
        "Array and List"
      ],
      "metadata": {
        "id": "g9gBnNjsoy5Y"
      }
    },
    {
      "cell_type": "markdown",
      "source": [
        "Lecture"
      ],
      "metadata": {
        "id": "dXFRrfISprRJ"
      }
    },
    {
      "cell_type": "markdown",
      "source": [
        "predict output"
      ],
      "metadata": {
        "id": "eNp6EUpoqY7i"
      }
    },
    {
      "cell_type": "code",
      "source": [
        "#What will be the output of following code?\n",
        "\n",
        "li =['abcd', 'def']\n",
        "li.insert(4,5)\n",
        "print(li)\n",
        "\n",
        "#output ['abcd','def',5]"
      ],
      "metadata": {
        "id": "XO0KBr7mptAp"
      },
      "execution_count": null,
      "outputs": []
    },
    {
      "cell_type": "code",
      "source": [
        "#What will be the output of following code?\n",
        "\n",
        "li = [‘abcd’,5,’def’,5]\n",
        "li.remove(5)\n",
        "print(li)\n",
        "\n",
        "#output  ['abcd','def',5]"
      ],
      "metadata": {
        "id": "Bd3ggIeHqcYA"
      },
      "execution_count": null,
      "outputs": []
    },
    {
      "cell_type": "code",
      "source": [
        "#What will be the output of following code?\n",
        "\n",
        "li = [5,2,6,8]\n",
        "li.pop(2)\n",
        "print(li)\n",
        "\n",
        "#output [5,2,8]"
      ],
      "metadata": {
        "id": "YDK2ylRBqsAQ"
      },
      "execution_count": null,
      "outputs": []
    },
    {
      "cell_type": "code",
      "source": [
        "#What will be the output of following code?\n",
        "\n",
        "li = [1,2,3,4,5]\n",
        "for i in li[1:4]:\n",
        "    print(i,end= \" \")\n",
        "\n",
        "#output 234"
      ],
      "metadata": {
        "id": "au7k0fpNq3Lt"
      },
      "execution_count": null,
      "outputs": []
    },
    {
      "cell_type": "code",
      "source": [
        "\"\"\"What will be the output of code if following input is provided to the code below?\n",
        "\n",
        "Input:\n",
        "\n",
        "5\n",
        "1\n",
        "2\n",
        "3\n",
        "4\n",
        "5\n",
        "Code:\"\"\"\n",
        "\n",
        "n = int(input())\n",
        "li = []\n",
        "for i in range(n):\n",
        "    li.append(input())\n",
        "print(li)\n",
        "\n",
        "\n",
        "#output ['1', '2', '3', '4', '5']"
      ],
      "metadata": {
        "id": "5bPeQ3d9rDhy"
      },
      "execution_count": null,
      "outputs": []
    },
    {
      "cell_type": "code",
      "source": [
        "\"\"\"What will be the output of code if following input is provided?\n",
        "\n",
        "1 3 6 8 9\"\"\"\n",
        "li = [x for x in input().split()]\n",
        "print(li)\n",
        "\n",
        "#output  [‘1’, ’3’, ’6’, ’8’, ’9’]"
      ],
      "metadata": {
        "id": "iIk06hX0rjpq"
      },
      "execution_count": null,
      "outputs": []
    },
    {
      "cell_type": "markdown",
      "source": [
        "Print Array Sum"
      ],
      "metadata": {
        "id": "bRHM1tVfrzA9"
      }
    },
    {
      "cell_type": "code",
      "source": [
        "N = int(input())\n",
        "\n",
        "elements = list(map(int, input().split()))\n",
        "\n",
        "array_sum = sum(elements)\n",
        "\n",
        "\n",
        "print(array_sum)"
      ],
      "metadata": {
        "id": "pQyxHDYArurn"
      },
      "execution_count": null,
      "outputs": []
    },
    {
      "cell_type": "code",
      "source": [
        "#predict the output\n",
        "#What will be the output of following code?\n",
        "\n",
        "def change(li):\n",
        "    li[1] = li[1] + 2\n",
        "li = [1,2,3,4,5]\n",
        "change(li)\n",
        "print(li)\n",
        "\n",
        "#output  [1, 4, 3, 4, 5]"
      ],
      "metadata": {
        "id": "N3er57nCsLcP"
      },
      "execution_count": null,
      "outputs": []
    },
    {
      "cell_type": "code",
      "source": [
        "#What will be the output of following code?\n",
        "\n",
        "def change(li):\n",
        "    li[1] = li[1] + 2\n",
        "    li = [3,3,3,4,5]\n",
        "li = [1,2,3,4,5]\n",
        "change(li)\n",
        "print(li)\n",
        "\n",
        "#output [1, 4, 3, 4, 5]"
      ],
      "metadata": {
        "id": "Vq4GOLYIseaU"
      },
      "execution_count": null,
      "outputs": []
    },
    {
      "cell_type": "markdown",
      "source": [
        "Swap Alternate"
      ],
      "metadata": {
        "id": "4JgaJk6gswHW"
      }
    },
    {
      "cell_type": "code",
      "source": [
        "from sys import stdin\n",
        "\n",
        "def swapAlternate(arr, n):\n",
        "    for i in range(0, n - 1, 2):\n",
        "        arr[i], arr[i + 1] = arr[i + 1], arr[i]\n",
        "\n",
        "# Taking Input Using Fast I/O\n",
        "def takeInput():\n",
        "    n = int(stdin.readline().rstrip())\n",
        "    if n == 0:\n",
        "        return list(), 0\n",
        "    arr = list(map(int, stdin.readline().rstrip().split(\" \")))\n",
        "    return arr, n\n",
        "\n",
        "# Printing the array/list\n",
        "def printList(arr, n):\n",
        "    for i in range(n):\n",
        "        print(arr[i], end=\" \")\n",
        "    print()\n",
        "\n",
        "# Main\n",
        "t = int(stdin.readline().rstrip())\n",
        "\n",
        "while t > 0:\n",
        "    arr, n = takeInput()\n",
        "    if n != 0:\n",
        "        swapAlternate(arr, n)\n",
        "        printList(arr, n)\n",
        "    t -= 1"
      ],
      "metadata": {
        "id": "rFFreqgLsz7i"
      },
      "execution_count": null,
      "outputs": []
    },
    {
      "cell_type": "markdown",
      "source": [
        "Assignment"
      ],
      "metadata": {
        "id": "_oQ3Sr0Zs59k"
      }
    },
    {
      "cell_type": "markdown",
      "source": [
        "Find Unique"
      ],
      "metadata": {
        "id": "AWcPBYpUs78c"
      }
    },
    {
      "cell_type": "code",
      "source": [
        "import sys\n",
        "\n",
        "def findUnique(arr, n):\n",
        "    unique_element = 0\n",
        "    for num in arr:\n",
        "        unique_element ^= num\n",
        "    return unique_element\n",
        "\n",
        "# Taking Input Using Fast I/O\n",
        "def takeInput():\n",
        "    n = int(sys.stdin.readline().rstrip())\n",
        "\n",
        "    if n == 0:\n",
        "        return list(), 0\n",
        "\n",
        "    arr = list(map(int, sys.stdin.readline().rstrip().split(\" \")))\n",
        "    return arr, n\n",
        "\n",
        "# Main\n",
        "t = int(sys.stdin.readline().rstrip())"
      ],
      "metadata": {
        "id": "ok40l-Vxtd1h"
      },
      "execution_count": null,
      "outputs": []
    },
    {
      "cell_type": "markdown",
      "source": [
        "Find Duplicate"
      ],
      "metadata": {
        "id": "E2nLbe4Kte79"
      }
    },
    {
      "cell_type": "code",
      "source": [
        "import sys\n",
        "\n",
        "def duplicateNumber(arr, n):\n",
        "    xor = 0\n",
        "    for num in arr:\n",
        "        xor ^= num\n",
        "\n",
        "    for i in range(1, n - 1):\n",
        "        xor ^= i\n",
        "\n",
        "    return xor\n",
        "\n",
        "# Taking Input Using Fast I/O\n",
        "def takeInput():\n",
        "    n = int(sys.stdin.readline().strip())\n",
        "\n",
        "    if n == 0:\n",
        "        return list(), 0\n",
        "\n",
        "    arr = list(map(int, sys.stdin.readline().strip().split()))\n",
        "    return arr, n\n",
        "\n",
        "# Main\n",
        "t = int(sys.stdin.readline().strip())\n",
        "\n",
        "while t > 0:\n",
        "\n",
        "    arr, n = takeInput()\n",
        "    print(duplicateNumber(arr, n))\n",
        "\n",
        "    t -= 1"
      ],
      "metadata": {
        "id": "hT1qkI6otnun"
      },
      "execution_count": null,
      "outputs": []
    },
    {
      "cell_type": "markdown",
      "source": [
        "Intersection of two Arrays II"
      ],
      "metadata": {
        "id": "FyEjeSoKtopY"
      }
    },
    {
      "cell_type": "code",
      "source": [
        "import sys\n",
        "\n",
        "def intersections(arr1, n, arr2, m):\n",
        "    intersection = []\n",
        "\n",
        "    for num in arr1:\n",
        "        if num in arr2:\n",
        "            intersection.append(num)\n",
        "            arr2.remove(num)  # Remove the element from the second array\n",
        "\n",
        "    for num in intersection:\n",
        "        print(num, end=' ')\n",
        "\n",
        "# Taking Input Using Fast I/O\n",
        "def takeInput():\n",
        "    n = int(sys.stdin.readline().strip())\n",
        "    if n == 0:\n",
        "        return list(), 0\n",
        "\n",
        "    arr = list(map(int, sys.stdin.readline().strip().split(\" \")))\n",
        "    return arr, n\n",
        "\n",
        "# Main\n",
        "t = int(sys.stdin.readline().strip())\n",
        "\n",
        "while t > 0:\n",
        "    arr1, n = takeInput()\n",
        "    arr2, m = takeInput()\n",
        "\n",
        "    intersections(arr1, n, arr2, m)\n",
        "    print()\n",
        "\n",
        "    t -= 1"
      ],
      "metadata": {
        "id": "bK6NvcsNt5jP"
      },
      "execution_count": null,
      "outputs": []
    },
    {
      "cell_type": "markdown",
      "source": [
        "Pair Sum"
      ],
      "metadata": {
        "id": "bnQUP5BWuAik"
      }
    },
    {
      "cell_type": "code",
      "source": [
        "from sys import stdin\n",
        "\n",
        "def pairSum(arr, n, x):\n",
        "    # Create a dictionary to store the count of elements\n",
        "    element_count = {}\n",
        "\n",
        "    # Initialize the count of pairs\n",
        "    pair_count = 0\n",
        "\n",
        "    # Iterate through the array\n",
        "    for num in arr:\n",
        "        # Calculate the difference needed to get the sum x\n",
        "        difference = x - num\n",
        "\n",
        "        # Check if the difference is in the dictionary\n",
        "        if difference in element_count:\n",
        "            pair_count += element_count[difference]\n",
        "\n",
        "        # Update the count for the current element\n",
        "        if num in element_count:\n",
        "            element_count[num] += 1\n",
        "        else:\n",
        "            element_count[num] = 1\n",
        "\n",
        "    return pair_count\n",
        "\n",
        "# Taking Input Using Fast I/O\n",
        "def takeInput():\n",
        "    n = int(stdin.readline().strip())\n",
        "    if n == 0:\n",
        "        return list(), 0\n",
        "\n",
        "    arr = list(map(int, stdin.readline().strip().split(\" \")))\n",
        "    return arr, n\n",
        "\n",
        "# Main\n",
        "t = int(stdin.readline().strip())\n",
        "\n",
        "while t > 0:\n",
        "    arr, n = takeInput()\n",
        "    x = int(stdin.readline().strip())\n",
        "    print(pairSum(arr, n, x))\n",
        "\n",
        "    t -= 1"
      ],
      "metadata": {
        "id": "QIbde-2juB0U"
      },
      "execution_count": null,
      "outputs": []
    },
    {
      "cell_type": "markdown",
      "source": [
        "Triplet Sum"
      ],
      "metadata": {
        "id": "Mel7-MNXuDyX"
      }
    },
    {
      "cell_type": "code",
      "source": [
        "from sys import stdin\n",
        "\n",
        "def findTriplet(arr, n, x):\n",
        "    count = 0\n",
        "\n",
        "    for i in range(n):\n",
        "        for j in range(i + 1, n):\n",
        "            for k in range(j + 1, n):\n",
        "                if arr[i] + arr[j] + arr[k] == x:\n",
        "                    count += 1\n",
        "\n",
        "    return count\n",
        "\n",
        "# Taking Input Using Fast I/O\n",
        "def takeInput():\n",
        "    n = int(stdin.readline().strip())\n",
        "    if n == 0:\n",
        "        return list(), 0\n",
        "    arr = list(map(int, stdin.readline().strip().split()))\n",
        "    return arr, n\n",
        "\n",
        "# Main\n",
        "t = int(stdin.readline().strip())\n",
        "while t > 0:\n",
        "    arr, n = takeInput()\n",
        "    x = int(stdin.readline().strip())\n",
        "    print(findTriplet(arr, n, x))\n",
        "    t -= 1"
      ],
      "metadata": {
        "id": "kT-wUSosuUd9"
      },
      "execution_count": null,
      "outputs": []
    },
    {
      "cell_type": "markdown",
      "source": [
        "Sort 0 1"
      ],
      "metadata": {
        "id": "L4xqmvMwuXa1"
      }
    },
    {
      "cell_type": "code",
      "source": [
        "from sys import stdin\n",
        "\n",
        "def sortZeroesAndOne(arr, n):\n",
        "    # Initialize two pointers, one for 0 and the other for 1\n",
        "    left = 0\n",
        "    right = n - 1\n",
        "\n",
        "    while left < right:\n",
        "        if arr[left] == 1:\n",
        "            # Swap 1 with the element at the right pointer\n",
        "            arr[left], arr[right] = arr[right], arr[left]\n",
        "            right -= 1\n",
        "        else:\n",
        "            left += 1\n",
        "\n",
        "# Taking Input Using Fast I/O\n",
        "def takeInput():\n",
        "    n = int(stdin.readline().strip())\n",
        "\n",
        "    if n == 0:\n",
        "        return list(), 0\n",
        "\n",
        "    arr = list(map(int, stdin.readline().strip().split(\" \")))\n",
        "    return arr, n\n",
        "\n",
        "def printList(arr, n):\n",
        "    for i in range(n):\n",
        "        print(arr[i], end=' ')\n",
        "    print()\n",
        "\n",
        "# Main\n",
        "t = int(stdin.readline().strip())\n",
        "\n",
        "while t > 0:\n",
        "    arr, n = takeInput()\n",
        "    sortZeroesAndOne(arr, n)\n",
        "    printList(arr, n)\n",
        "    print()\n",
        "    t -= 1"
      ],
      "metadata": {
        "id": "HQSiqKSeudJ6"
      },
      "execution_count": null,
      "outputs": []
    },
    {
      "cell_type": "markdown",
      "source": [
        "Week 5"
      ],
      "metadata": {
        "id": "Q7QB1A90uoo2"
      }
    },
    {
      "cell_type": "markdown",
      "source": [
        "Searching & Sorting"
      ],
      "metadata": {
        "id": "EbBvwHeuutCG"
      }
    },
    {
      "cell_type": "markdown",
      "source": [
        "Binary Search"
      ],
      "metadata": {
        "id": "QvEhxskCu36s"
      }
    },
    {
      "cell_type": "code",
      "source": [
        "def search(nums: [int], target: int):\n",
        "\n",
        "    left, right = 0, len(nums) - 1\n",
        "\n",
        "\n",
        "    while left <= right:\n",
        "        mid = (left + right) // 2\n",
        "\n",
        "        if nums[mid] == target:\n",
        "            return mid\n",
        "        elif nums[mid] < target:\n",
        "            left = mid + 1\n",
        "        else:\n",
        "            right = mid - 1\n",
        "\n",
        "    return -1\n",
        "    # write your code logic !!\n",
        "\n",
        "\n",
        "\n",
        "\n",
        "\n",
        "n= int (input())\n",
        "arr = list(map(int,input().strip().split()))[:n]\n",
        "target =int (input())\n",
        "print (search(arr, target))"
      ],
      "metadata": {
        "id": "x331I65HurCU"
      },
      "execution_count": null,
      "outputs": []
    },
    {
      "cell_type": "markdown",
      "source": [
        "Selection sort"
      ],
      "metadata": {
        "id": "Awk6jffzvCEG"
      }
    },
    {
      "cell_type": "code",
      "source": [
        "from typing import List\n",
        "\n",
        "def selectionSort(arr: List[int]) -> None:\n",
        "    n = len(arr)\n",
        "\n",
        "    for i in range(n - 1):\n",
        "        min_index = i\n",
        "\n",
        "        for j in range(i + 1, n):\n",
        "            if arr[j] < arr[min_index]:\n",
        "                min_index = j\n",
        "\n",
        "        arr[i], arr[min_index] = arr[min_index], arr[i]\n",
        "\n",
        "# Example usage\n",
        "if __name__ == \"__main__\":\n",
        "    arr = [8, 6, 2, 5, 1]\n",
        "    selectionSort(arr)\n",
        "    print(arr)\n"
      ],
      "metadata": {
        "id": "Vvwvi0FrvLHi"
      },
      "execution_count": null,
      "outputs": []
    },
    {
      "cell_type": "markdown",
      "source": [
        "Bubble sort"
      ],
      "metadata": {
        "id": "AHj2ckBQvNo9"
      }
    },
    {
      "cell_type": "code",
      "source": [
        "from typing import List\n",
        "\n",
        "def bubbleSort(arr: List[int], n: int):\n",
        "    for i in range(n):\n",
        "        for j in range(0, n - i - 1):\n",
        "            if arr[j] > arr[j + 1]:\n",
        "                arr[j], arr[j + 1] = arr[j + 1], arr[j]\n",
        "\n",
        "# Example usage\n",
        "if __name__ == \"__main__\":\n",
        "    N = 7\n",
        "    arr = [2, 13, 4, 1, 3, 6, 28]\n",
        "    bubbleSort(arr, N)\n",
        "    print(*arr)  # Output: 1 2 3 4 6 13 28"
      ],
      "metadata": {
        "id": "a4FWZUNFvT6j"
      },
      "execution_count": null,
      "outputs": []
    },
    {
      "cell_type": "markdown",
      "source": [
        "Insertion sort"
      ],
      "metadata": {
        "id": "veRR82-WvU23"
      }
    },
    {
      "cell_type": "code",
      "source": [
        "from typing import List\n",
        "\n",
        "def insertionSort(arr: List[int], n: int):\n",
        "    if n <= 1:\n",
        "        return\n",
        "\n",
        "    insertionSort(arr, n - 1)\n",
        "\n",
        "    last_element = arr[n - 1]\n",
        "    j = n - 2\n",
        "\n",
        "    while (j >= 0 and arr[j] > last_element):\n",
        "        arr[j + 1] = arr[j]\n",
        "        j -= 1\n",
        "\n",
        "    arr[j + 1] = last_element\n",
        "\n",
        "if __name__ == \"__main__\":\n",
        "    N = 5\n",
        "    arr = [9, 3, 6, 2, 0]\n",
        "    insertionSort(arr, N)\n",
        "    print(*arr)\n"
      ],
      "metadata": {
        "id": "uGN20HYGvbzG"
      },
      "execution_count": null,
      "outputs": []
    },
    {
      "cell_type": "markdown",
      "source": [
        "merg sort"
      ],
      "metadata": {
        "id": "6c79XCZ2vcw0"
      }
    },
    {
      "cell_type": "code",
      "source": [
        "from sys import stdin\n",
        "\n",
        "def merge(arr1, n, arr2, m):\n",
        "    i = 0\n",
        "    j = 0\n",
        "    merged_arr = []\n",
        "\n",
        "    while i < n and j < m:\n",
        "        if arr1[i] < arr2[j]:\n",
        "            merged_arr.append(arr1[i])\n",
        "            i += 1\n",
        "        else:\n",
        "            merged_arr.append(arr2[j])\n",
        "            j += 1\n",
        "\n",
        "    while i < n:\n",
        "        merged_arr.append(arr1[i])\n",
        "        i += 1\n",
        "\n",
        "    while j < m:\n",
        "        merged_arr.append(arr2[j])\n",
        "        j += 1\n",
        "\n",
        "    return merged_arr\n",
        "\n",
        "# Input and test cases\n",
        "if __name__ == \"__main\":\n",
        "    t = int(stdin.readline().strip())\n",
        "\n",
        "    for _ in range(t):\n",
        "        arr1, n = list(map(int, stdin.readline().strip().split()))\n",
        "        arr2, m = list(map(int, stdin.readline().strip().split()))\n",
        "\n",
        "        result = merge(arr1, n, arr2, m)\n",
        "        print(*result)\n",
        "\n",
        "    #Your code goes here\n",
        "\n",
        "#Taking Input Using Fast I/O\n",
        "def takeInput() :\n",
        "    n = int(stdin.readline().rstrip())\n",
        "    if n != 0:\n",
        "        arr = list(map(int, stdin.readline().rstrip().split(\" \")))\n",
        "        return arr, n\n",
        "\n",
        "    return list(), 0\n",
        "\n",
        "\n",
        "#to print the array/list\n",
        "def printList(arr, n) :\n",
        "    for i in range(n) :\n",
        "        print(arr[i], end = \" \")\n",
        "\n",
        "    print()\n",
        "\n",
        "\n",
        "#main\n",
        "t = int(stdin.readline().rstrip())\n",
        "\n",
        "while t > 0 :\n",
        "\n",
        "    arr1, n = takeInput()\n",
        "    arr2, m = takeInput()\n",
        "\n",
        "    ans = merge(arr1, n, arr2, m)\n",
        "    printList(ans, (n + m))\n",
        "\n",
        "    t -= 1"
      ],
      "metadata": {
        "id": "fFahl0nGvifn"
      },
      "execution_count": null,
      "outputs": []
    },
    {
      "cell_type": "markdown",
      "source": [
        "Assignment"
      ],
      "metadata": {
        "id": "VhLHf5KNvpc2"
      }
    },
    {
      "cell_type": "markdown",
      "source": [
        "Push Zeros to end"
      ],
      "metadata": {
        "id": "EgwRDXyRvx8j"
      }
    },
    {
      "cell_type": "code",
      "source": [
        "from sys import stdin\n",
        "\n",
        "def pushZerosToEnd(arr, n):\n",
        "    non_zero_index = 0\n",
        "\n",
        "    for i in range(n):\n",
        "        if arr[i] != 0:\n",
        "            arr[non_zero_index], arr[i] = arr[i], arr[non_zero_index]\n",
        "            non_zero_index += 1\n",
        "\n",
        "# Taking Input Using Fast I/O\n",
        "def takeInput():\n",
        "    n = int(stdin.readline().rstrip())\n",
        "\n",
        "    if n == 0:\n",
        "        return list(), 0\n",
        "\n",
        "    arr = list(map(int, stdin.readline().rstrip().split()))\n",
        "    return arr, n\n",
        "\n",
        "# To print the array/list\n",
        "def printList(arr, n):\n",
        "    for i in range(n):\n",
        "        print(arr[i], end=\" \")\n",
        "\n",
        "    print()\n",
        "\n",
        "# Main\n",
        "t = int(stdin.readline().strip())\n",
        "\n",
        "while t > 0:\n",
        "    arr, n = takeInput()\n",
        "    pushZerosToEnd(arr, n)\n",
        "    printList(arr, n)\n",
        "    t -= 1"
      ],
      "metadata": {
        "id": "luIUX0axvqoS"
      },
      "execution_count": null,
      "outputs": []
    },
    {
      "cell_type": "markdown",
      "source": [
        "Rotate array"
      ],
      "metadata": {
        "id": "QFP6cLgJv889"
      }
    },
    {
      "cell_type": "code",
      "source": [
        "from sys import stdin\n",
        "\n",
        "def rotate(arr, n, d):\n",
        "    temp = arr[:d]\n",
        "    arr[:n-d] = arr[d:]\n",
        "    arr[n-d:] = temp\n",
        "\n",
        "# Taking Input Using Fast I/O\n",
        "def takeInput():\n",
        "    n = int(stdin.readline().rstrip())\n",
        "    if n == 0:\n",
        "        return list(), 0\n",
        "\n",
        "    arr = list(map(int, stdin.readline().rstrip().split(\" \")))\n",
        "    return arr, n\n",
        "\n",
        "# To print the array/list\n",
        "def printList(arr, n):\n",
        "    for i in range(n):\n",
        "        print(arr[i], end=\" \")\n",
        "    print()\n",
        "\n",
        "# Main\n",
        "t = int(stdin.readline().rstrip())\n",
        "\n",
        "while t > 0:\n",
        "    arr, n = takeInput()\n",
        "    d = int(stdin.readline().rstrip())\n",
        "    rotate(arr, n, d)\n",
        "    printList(arr, n)\n",
        "\n",
        "    t -= 1"
      ],
      "metadata": {
        "id": "OQrThxtgwEj4"
      },
      "execution_count": null,
      "outputs": []
    },
    {
      "cell_type": "markdown",
      "source": [
        "Second Largest in array"
      ],
      "metadata": {
        "id": "p_Dwl2gwwLWt"
      }
    },
    {
      "cell_type": "code",
      "source": [
        "def secondLargestElement(arr, n):\n",
        "    if n < 2:\n",
        "        return None\n",
        "\n",
        "    first = second = float('-inf')\n",
        "\n",
        "    for element in arr:\n",
        "        if element > first:\n",
        "            second = first\n",
        "            first = element\n",
        "        elif element > second and element < first:\n",
        "            second = element\n",
        "\n",
        "    return second\n",
        "\n",
        "# Taking Input Using Fast I/O\n",
        "def takeInput():\n",
        "    n = int(input())\n",
        "    if n != 0:\n",
        "        arr = list(map(int, input().split()))\n",
        "        return arr, n\n",
        "\n",
        "    return list(), 0\n",
        "\n",
        "# Main\n",
        "arr, n = takeInput()\n",
        "print(secondLargestElement(arr, n))"
      ],
      "metadata": {
        "id": "_dpalfGnwTLW"
      },
      "execution_count": null,
      "outputs": []
    },
    {
      "cell_type": "markdown",
      "source": [
        "Check Array Rotation"
      ],
      "metadata": {
        "id": "U3rLtUj-wUN3"
      }
    },
    {
      "cell_type": "code",
      "source": [
        "\n",
        "def arrayRotateCheck(arr, n):\n",
        "    for i in range(n - 1):\n",
        "        if arr[i] > arr[i + 1]:\n",
        "            return i + 1\n",
        "    return 0\n",
        "\n",
        "# Taking Input Using Fast I/O\n",
        "def takeInput():\n",
        "    n = int(input())\n",
        "    if n == 0:\n",
        "        return list(), 0\n",
        "\n",
        "    arr = list(map(int, input().split()))\n",
        "    return arr, n\n",
        "\n",
        "# Main\n",
        "t = int(input())\n",
        "\n",
        "while t > 0:\n",
        "    arr, n = takeInput()\n",
        "    print(arrayRotateCheck(arr, n))\n",
        "    t -= 1\n"
      ],
      "metadata": {
        "id": "0n_FdwqdwZl_"
      },
      "execution_count": null,
      "outputs": []
    },
    {
      "cell_type": "markdown",
      "source": [
        "Sort 0 1 2"
      ],
      "metadata": {
        "id": "04gnbKqxwbqb"
      }
    },
    {
      "cell_type": "code",
      "source": [
        "from sys import stdin\n",
        "\n",
        "def sort012(arr, n) :\n",
        "    #Your code goes here\n",
        "    low, mid, high = 0, 0, n - 1\n",
        "\n",
        "    while mid <= high:\n",
        "        if arr[mid] == 0:\n",
        "            arr[low], arr[mid] = arr[mid], arr[low]\n",
        "            low += 1\n",
        "            mid += 1\n",
        "        elif arr[mid] == 1:\n",
        "            mid += 1\n",
        "        else:\n",
        "            arr[mid], arr[high] = arr[high], arr[mid]\n",
        "            high -= 1\n",
        "\n",
        "#Taking Input Using Fast I/O\n",
        "def takeInput() :\n",
        "    n = int(stdin.readline().rstrip())\n",
        "    if n == 0 :\n",
        "        return list(), 0\n",
        "\n",
        "    arr = list(map(int, stdin.readline().rstrip().split(\" \")))\n",
        "    return arr, n\n",
        "\n",
        "\n",
        "#to print the array/list\n",
        "def printList(arr, n) :\n",
        "    for i in range(n) :\n",
        "        print(arr[i], end = \" \")\n",
        "\n",
        "    print()\n",
        "\n",
        "\n",
        "#main\n",
        "t = int(stdin.readline().rstrip())\n",
        "\n",
        "while t > 0 :\n",
        "\n",
        "    arr, n = takeInput()\n",
        "\n",
        "    sort012(arr, n)\n",
        "    printList(arr, n)\n",
        "\n",
        "    t -= 1"
      ],
      "metadata": {
        "id": "cJUfaxrzwjJS"
      },
      "execution_count": null,
      "outputs": []
    },
    {
      "cell_type": "markdown",
      "source": [
        "Sum of two Arrays"
      ],
      "metadata": {
        "id": "cN5tQQKKwkRs"
      }
    },
    {
      "cell_type": "code",
      "source": [
        "from sys import stdin\n",
        "\n",
        "def sumOfTwoArrays(arr1, n, arr2, m, output) :\n",
        "    #Your code goes here\n",
        "\n",
        "    carry = 0  # Initialize carry to 0\n",
        "    i = n - 1  # Start from the rightmost digit of arr1\n",
        "    j = m - 1  # Start from the rightmost digit of arr2\n",
        "    k = max(n, m)  # Initialize k as the maximum of n and m\n",
        "\n",
        "    while i >= 0 or j >= 0:\n",
        "        if i >= 0:\n",
        "            x = arr1[i]\n",
        "        else:\n",
        "            x = 0\n",
        "\n",
        "        if j >= 0:\n",
        "            y = arr2[j]\n",
        "        else:\n",
        "            y = 0\n",
        "\n",
        "        # Calculate the sum and carry\n",
        "        sum = x + y + carry\n",
        "        carry = sum // 10\n",
        "        output[k] = sum % 10\n",
        "        i -= 1\n",
        "        j -= 1\n",
        "        k -= 1\n",
        "\n",
        "    # If there is still a carry left, put it in the first position of the output\n",
        "    if carry:\n",
        "        output[0] = carry\n",
        "\n",
        "\n",
        "\n",
        "#Taking Input Using Fast I/O\n",
        "def takeInput() :\n",
        "    n = int(stdin.readline().rstrip())\n",
        "    if n == 0 :\n",
        "        return list(), 0\n",
        "\n",
        "    arr = list(map(int, stdin.readline().rstrip().split(\" \")))\n",
        "    return arr, n\n",
        "\n",
        "\n",
        "#to print the array/list\n",
        "def printList(arr, n) :\n",
        "    for i in range(n) :\n",
        "        print(arr[i], end = \" \")\n",
        "\n",
        "    print()\n",
        "\n",
        "\n",
        "#main\n",
        "t = int(stdin.readline().rstrip())\n",
        "\n",
        "while t > 0 :\n",
        "    arr1, n = takeInput()\n",
        "    arr2, m = takeInput()\n",
        "\n",
        "    outputSize = (1 + max(n, m))\n",
        "    output = outputSize * [0]\n",
        "\n",
        "    sumOfTwoArrays(arr1, n, arr2, m, output)\n",
        "    printList(output, outputSize)\n",
        "\n",
        "    t -= 1"
      ],
      "metadata": {
        "id": "68g5YU_rwqyr"
      },
      "execution_count": null,
      "outputs": []
    },
    {
      "cell_type": "markdown",
      "source": [
        "Strings---"
      ],
      "metadata": {
        "id": "YGw5qJ4uw0wT"
      }
    },
    {
      "cell_type": "markdown",
      "source": [
        "Lecture"
      ],
      "metadata": {
        "id": "F-GGjfYHw-Q4"
      }
    },
    {
      "cell_type": "code",
      "source": [
        "#predict output\n",
        "\"\"\"Problem statement\n",
        "What will the output of following code?\"\"\"\n",
        "\n",
        "s=\"abcd\"\n",
        "s[0]='c'\n",
        "print(s)\n",
        "\n",
        "#output - Error\n",
        "\n",
        "\n",
        "\"\"\"Problem statement\n",
        "What will be the output of following code?\"\"\"\n",
        "\n",
        "s = “abcd”\n",
        "a = “abcd”\n",
        "if id(s) == id(a):\n",
        "    print(“They are same”)\n",
        "else:\n",
        "    print(“They are not same”)\n",
        "\n",
        "\n",
        "#output:-They are same\n",
        "\n",
        "\n",
        "\"\"\"Problem statement\n",
        "What will the output of the following code?\"\"\"\n",
        "\n",
        "s = \"abcd\"\n",
        "b = s + \"ef\"\n",
        "print(s)\n",
        "\n",
        "#output :- abcd\n",
        "\n",
        "\"\"\"Problem statement\n",
        "What will the output of following code?\"\"\"\n",
        "\n",
        "s = \"abcd\"\n",
        "b = s + 2\n",
        "print(b)\n",
        "\n",
        "#output :-  Error\n",
        "\n",
        "\"\"\"Problem statement\n",
        "What will be the output of the following code?\"\"\"\n",
        "\n",
        "s = \"abcdef\"\n",
        "print (s[2:])\n",
        "\n",
        "#output:-cdef\n",
        "\n",
        "\"\"\"\"Problem statement\n",
        "What will be the output of the following code?\"\"\"\"\n",
        "\n",
        "s = \"abcdef\"\n",
        "print (s[4:2:-1])\n",
        "\n",
        "#output:- ed\n",
        "\n",
        "\"\"\"Problem statement\n",
        "What will be the output of following code?\"\"\"\n",
        "\n",
        "s = “abcd”\n",
        "print(s[-2])\n",
        "\n",
        "#output :- c"
      ],
      "metadata": {
        "id": "4J0O6wh-x5IY"
      },
      "execution_count": null,
      "outputs": []
    },
    {
      "cell_type": "markdown",
      "source": [
        "String Palndrom"
      ],
      "metadata": {
        "id": "cwTgE8EhyukQ"
      }
    },
    {
      "cell_type": "code",
      "source": [
        "# Read input as sepcified in the question\n",
        "# Print output as specified in the question\n",
        "def isPalindrome(s):\n",
        "    # Function to check if a character is alphanumeric\n",
        "    def isAlphanumeric(char):\n",
        "        return char.isalnum()\n",
        "\n",
        "    # Convert the string to lowercase\n",
        "    s = s.lower()\n",
        "\n",
        "    # Initialize two pointers at the beginning and end of the string\n",
        "    left, right = 0, len(s) - 1\n",
        "\n",
        "    while left < right:\n",
        "        while left < right and not isAlphanumeric(s[left]):\n",
        "            left += 1\n",
        "        while left < right and not isAlphanumeric(s[right]):\n",
        "            right -= 1\n",
        "\n",
        "        if s[left] != s[right]:\n",
        "            return False\n",
        "\n",
        "        left += 1\n",
        "        right -= 1\n",
        "\n",
        "    return True\n",
        "\n",
        "# Input\n",
        "s = input()\n",
        "\n",
        "# Check if the string is a palindrome\n",
        "result = isPalindrome(s)\n",
        "\n",
        "# Output\n",
        "if result:\n",
        "    print(\"true\")\n",
        "else:\n",
        "    print(\"false\")"
      ],
      "metadata": {
        "id": "MsU0DWasyFj7"
      },
      "execution_count": null,
      "outputs": []
    },
    {
      "cell_type": "code",
      "source": [
        "\"\"\"predict the output\n",
        "Problem statement\n",
        "What will be the output of the following code?\"\"\"\n",
        "\n",
        "a = \"abcdef\" == \"abcd\"\n",
        "print(a)\n",
        "\n",
        "#output:-False\n",
        "\n",
        "\n",
        "\"\"\"Problem statement\n",
        "What will be output of the following code?\"\"\"\n",
        "\n",
        "a = \"abcdef\" >= \"abcd\"\n",
        "print(a)\n",
        "\n",
        "\n",
        "#output:- True\n",
        "\n",
        "\"\"\"Problem statement\n",
        "What will be output of the following code?\"\"\"\n",
        "\n",
        "a = \"abce\" >= \"abcdef\"\n",
        "print(a)\n",
        "\n",
        "#output :- True"
      ],
      "metadata": {
        "id": "qWT5RSQ3y4j1"
      },
      "execution_count": null,
      "outputs": []
    },
    {
      "cell_type": "markdown",
      "source": [
        "Assignment"
      ],
      "metadata": {
        "id": "6Z4-ebxzzWGE"
      }
    },
    {
      "cell_type": "markdown",
      "source": [
        "Check Permutation"
      ],
      "metadata": {
        "id": "-Hk4FfKAzXcT"
      }
    },
    {
      "cell_type": "code",
      "source": [
        "\n",
        "from sys import stdin\n",
        "\n",
        "\n",
        "def isPermutation(string1, string2) :\n",
        "\t#Your code goes here\n",
        "\n",
        "    if len(string1) != len(string2):\n",
        "        return False\n",
        "\n",
        "    # Create dictionaries to store character counts for both strings\n",
        "    char_count1 = {}\n",
        "    char_count2 = {}\n",
        "\n",
        "    # Populate the character count dictionaries for both strings\n",
        "    for char in string1:\n",
        "        char_count1[char] = char_count1.get(char, 0) + 1\n",
        "\n",
        "    for char in string2:\n",
        "        char_count2[char] = char_count2.get(char, 0) + 1\n",
        "\n",
        "    # Compare the character counts of both strings\n",
        "    return char_count1 == char_count2\n",
        "\n",
        "\n",
        "#main\n",
        "string1 = stdin.readline().strip();\n",
        "string2 = stdin.readline().strip();\n",
        "\n",
        "ans = isPermutation(string1, string2)\n",
        "\n",
        "if ans :\n",
        "    print('true')\n",
        "else :\n",
        "    print('false')\n"
      ],
      "metadata": {
        "id": "3YnMnC4mzdld"
      },
      "execution_count": null,
      "outputs": []
    },
    {
      "cell_type": "markdown",
      "source": [
        "Remove Consecutive Duplicates"
      ],
      "metadata": {
        "id": "763EA8Wazezp"
      }
    },
    {
      "cell_type": "code",
      "source": [
        "\n",
        "from sys import stdin\n",
        "\n",
        "def removeConsecutiveDuplicates(string) :\n",
        "\n",
        "\t# Your code goes here\n",
        "    if len(string) <= 1:\n",
        "        return string\n",
        "\n",
        "    # Initialize the result string with the first character\n",
        "    result = string[0]\n",
        "\n",
        "    # Iterate through the string\n",
        "    for i in range(1, len(string)):\n",
        "        # Append the current character to the result if it's different from the previous character\n",
        "        if string[i] != string[i - 1]:\n",
        "            result += string[i]\n",
        "\n",
        "    return result\n",
        "\n",
        "\n",
        "#main\n",
        "string = stdin.readline().strip()\n",
        "\n",
        "ans = removeConsecutiveDuplicates(string)\n",
        "\n",
        "print(ans)"
      ],
      "metadata": {
        "id": "3Cp_MHqSzqoH"
      },
      "execution_count": null,
      "outputs": []
    },
    {
      "cell_type": "markdown",
      "source": [
        "Reverse Each words"
      ],
      "metadata": {
        "id": "49vTHhh3zvsR"
      }
    },
    {
      "cell_type": "code",
      "source": [
        "\n",
        "from sys import stdin\n",
        "\n",
        "\n",
        "def reverseEachWord(string) :\n",
        "\t# Your code goes here\n",
        "\n",
        "    words = string.split()\n",
        "\n",
        "    # Initialize an empty list to store the reversed words\n",
        "    reversed_words = []\n",
        "\n",
        "    # Iterate through the words and reverse each word\n",
        "    for word in words:\n",
        "        reversed_word = word[::-1]  # Reverse the word\n",
        "        reversed_words.append(reversed_word)\n",
        "\n",
        "    # Join the reversed words to form the final sentence\n",
        "    reversed_sentence = ' '.join(reversed_words)\n",
        "\n",
        "    return reversed_sentence\n",
        "\n",
        "\n",
        "\n",
        "#main\n",
        "string = stdin.readline().strip()\n",
        "\n",
        "ans = reverseEachWord(string)\n",
        "\n",
        "print(ans)"
      ],
      "metadata": {
        "id": "yOTeBk1Fzycn"
      },
      "execution_count": null,
      "outputs": []
    },
    {
      "cell_type": "markdown",
      "source": [
        "Remove Character"
      ],
      "metadata": {
        "id": "IP4mEG_uz1FD"
      }
    },
    {
      "cell_type": "code",
      "source": [
        "from sys import stdin\n",
        "\n",
        "\n",
        "def removeAllOccurrencesOfChar(string, ch) :\n",
        "\t# Your code goes here\n",
        "\n",
        "\n",
        "\n",
        "    result = \"\"\n",
        "\n",
        "    # Iterate through the input string\n",
        "    for char in string:\n",
        "        if char != ch:\n",
        "            result += char  # Append the character to the result if it's not equal to X\n",
        "\n",
        "    return result\n",
        "\n",
        "\n",
        "#main\n",
        "string = stdin.readline().strip()\n",
        "ch = stdin.readline().strip()[0]\n",
        "\n",
        "ans = removeAllOccurrencesOfChar(string, ch)\n",
        "\n",
        "print(ans)"
      ],
      "metadata": {
        "id": "I67KZ8d8z6_o"
      },
      "execution_count": null,
      "outputs": []
    },
    {
      "cell_type": "markdown",
      "source": [
        "Highest Occurring Character"
      ],
      "metadata": {
        "id": "ODOwtok_z8C4"
      }
    },
    {
      "cell_type": "code",
      "source": [
        "\n",
        "from sys import stdin\n",
        "\n",
        "\n",
        "def highestOccuringChar(string) :\n",
        "\t#Your code goes here\n",
        "\n",
        "\n",
        "\n",
        "    char_count = {}  # Create an empty dictionary to store character frequencies\n",
        "\n",
        "    # Iterate through the characters in the string and update their counts\n",
        "    for char in string:\n",
        "        char_count[char] = char_count.get(char, 0) + 1\n",
        "\n",
        "    # Find the character with the highest count\n",
        "    max_count_char = string[0]\n",
        "    max_count = char_count[max_count_char]\n",
        "\n",
        "    for char, count in char_count.items():\n",
        "        if count > max_count:\n",
        "            max_count = count\n",
        "            max_count_char = char\n",
        "        elif count == max_count and char < max_count_char:\n",
        "            max_count_char = char\n",
        "\n",
        "    return max_count_char\n",
        "\n",
        "#main\n",
        "string = stdin.readline().strip();\n",
        "ans = highestOccuringChar(string)\n",
        "\n",
        "print(ans)"
      ],
      "metadata": {
        "id": "Gym-AR680IS7"
      },
      "execution_count": null,
      "outputs": []
    },
    {
      "cell_type": "markdown",
      "source": [
        "Compress The String"
      ],
      "metadata": {
        "id": "8_1dLGss0MZr"
      }
    },
    {
      "cell_type": "code",
      "source": [
        "def getCompressedString(input_str):\n",
        "    compressed_str = \"\"\n",
        "\n",
        "    # Initialize the current character and count\n",
        "    current_char = input_str[0]\n",
        "    count = 1\n",
        "\n",
        "    for i in range(1, len(input_str)):\n",
        "        if input_str[i] == current_char:\n",
        "            count += 1\n",
        "        else:\n",
        "            compressed_str += current_char + (str(count) if count > 1 else \"\")\n",
        "            current_char = input_str[i]\n",
        "            count = 1\n",
        "\n",
        "    # Add the last character and its count to the compressed string\n",
        "    compressed_str += current_char + (str(count) if count > 1 else \"\")\n",
        "\n",
        "    return compressed_str\n",
        "\n",
        "# Input\n",
        "string = input()\n",
        "\n",
        "# Get the compressed string\n",
        "compressed_string = getCompressedString(string)\n",
        "\n",
        "# Output\n",
        "print(compressed_string)"
      ],
      "metadata": {
        "id": "Flj8rK1v0QbX"
      },
      "execution_count": null,
      "outputs": []
    },
    {
      "cell_type": "markdown",
      "source": [
        "week 6"
      ],
      "metadata": {
        "id": "FFmzklGz0WXq"
      }
    },
    {
      "cell_type": "markdown",
      "source": [
        "Two Dimensional List"
      ],
      "metadata": {
        "id": "Zgcv0nFyPylA"
      }
    },
    {
      "cell_type": "markdown",
      "source": [
        "output Prediction"
      ],
      "metadata": {
        "id": "4kYgspqXQHEK"
      }
    },
    {
      "cell_type": "code",
      "source": [
        "\"\"\"Problem statement\n",
        "What will be the output of following code?\"\"\"\n",
        "\n",
        "li = [[1,2,3],[4,5,6],[7,8,9]]\n",
        "print(li[2][1])\n",
        "\n",
        "#output:-8\n",
        "\n",
        "\"\"\"Problem statement\n",
        "What will be the output of following code?\"\"\"\n",
        "\n",
        "li = [[1,2,3],[4,5,6],[7,8,9]]\n",
        "print(li[1][3])\n",
        "\n",
        "#output:- Error\n",
        "\n",
        "\n",
        "\"\"\"Problem statement\n",
        "What will be the output of following code?\"\"\"\n",
        "\n",
        "li = [[1,2,3,4],[5,6],[7,8,9]]\n",
        "print(li[2])\n",
        "\n",
        "#output:-[7,8,9]\n",
        "\n",
        "\n",
        "\"\"\"Problem statement\n",
        "What will be the output of following code?\"\"\"\n",
        "\n",
        "li = [[1,2,3,4],[5,6],[7,8,9]]\n",
        "print(li[1][3])\n",
        "\n",
        "#output:- Error\n",
        "\n",
        "\"\"\"Problem statement\n",
        "What will be the output of following code?\"\"\"\n",
        "\n",
        "li = [ele**2 for ele in range(5)]\n",
        "print(li)\n",
        "\n",
        "#output:-[0,1,4,9,16]\n",
        "\n",
        "\n",
        "\"\"\"Problem statement\n",
        "What will be the output of following code?\"\"\"\n",
        "\n",
        "li = [ele**2 for ele in range(10) if ele%3 ==0]\n",
        "print(li)\n",
        "\n",
        "#output:-[0,9,36,81]\n",
        "\n",
        "\"\"\"Problem statement\n",
        "What will be the output of following code?\"\"\"\n",
        "\n",
        "li = [[ i*j for j in range(4)] for i in range(3)]\n",
        "print(li)\n",
        "\n",
        "#output:-[[0, 0, 0, 0], [0, 1, 2, 3], [0, 2,4, 6]]"
      ],
      "metadata": {
        "id": "Mww8XTrxQONH"
      },
      "execution_count": null,
      "outputs": []
    },
    {
      "cell_type": "markdown",
      "source": [
        "Row Wise Sum"
      ],
      "metadata": {
        "id": "fKDXewylRzUz"
      }
    },
    {
      "cell_type": "code",
      "source": [
        "def rowWiseSum(mat, nRows, mCols):\n",
        "    for i in range(nRows):\n",
        "        row_sum = 0\n",
        "        for j in range(mCols):\n",
        "            row_sum += mat[i][j]\n",
        "        print(row_sum, end=\" \")\n",
        "\n",
        "# Taking Input Using Fast I/O\n",
        "def take2DInput():\n",
        "    li = input().strip().split(\" \")\n",
        "    nRows = int(li[0])\n",
        "    mCols = int(li[1])\n",
        "\n",
        "    if nRows == 0:\n",
        "        return list(), 0, 0\n",
        "\n",
        "    mat = [list(map(int, input().strip().split(\" \"))) for row in range(nRows)]\n",
        "    return mat, nRows, mCols\n",
        "\n",
        "# Main\n",
        "t = int(input().strip())\n",
        "\n",
        "while t > 0:\n",
        "    mat, nRows, mCols = take2DInput()\n",
        "    rowWiseSum(mat, nRows, mCols)\n",
        "    print()\n",
        "    t -= 1"
      ],
      "metadata": {
        "id": "yzzswB2wR4Rv"
      },
      "execution_count": null,
      "outputs": []
    },
    {
      "cell_type": "code",
      "source": [
        "\"\"\"\"predict the Output\n",
        "Problem statement\n",
        "What will be the output of following code?\"\"\"\"\n",
        "\n",
        "li=[[1,2,3,4],[5,6,7,8],[9,10,11,12]]\n",
        "for j in range(4):\n",
        "    for ele in li:\n",
        "        print(ele[j],end = “ “)\n",
        "\n",
        "\n",
        "#output:- 1 5 9 2 6 10 3 7 11 4 8 12"
      ],
      "metadata": {
        "id": "PLCba8XAR_JI"
      },
      "execution_count": null,
      "outputs": []
    },
    {
      "cell_type": "markdown",
      "source": [
        "Largest row or Column"
      ],
      "metadata": {
        "id": "x0j0zTdCSWhq"
      }
    },
    {
      "cell_type": "code",
      "source": [
        "'''\n",
        "    In order to print two or more integers in a line separated by a single\n",
        "    space then you may consider printing it with the statement,\n",
        "\n",
        "    print(str(num1) + \" \" + str(num2))\n",
        "    Take Minimum value as MIN_VALUE = -2147483648\n",
        "\n",
        "'''\n",
        "from sys import stdin\n",
        "def findLargest(arr, nRows, mCols):\n",
        "    max_row_index = -1\n",
        "    max_row_sum = -2147483648  # Minimum possible value for an integer\n",
        "\n",
        "    for i in range(nRows):\n",
        "        row_sum = 0\n",
        "        for j in range(mCols):\n",
        "            row_sum += arr[i][j]\n",
        "\n",
        "        if row_sum > max_row_sum:\n",
        "            max_row_sum = row_sum\n",
        "            max_row_index = i\n",
        "\n",
        "    max_col_index = -1\n",
        "    max_col_sum = -2147483648  # Minimum possible value for an integer\n",
        "\n",
        "    for j in range(mCols):\n",
        "        col_sum = 0\n",
        "        for i in range(nRows):\n",
        "            col_sum += arr[i][j]\n",
        "\n",
        "        if col_sum > max_col_sum:\n",
        "            max_col_sum = col_sum\n",
        "            max_col_index = j\n",
        "\n",
        "    if max_row_sum >= max_col_sum:\n",
        "        if max_row_index == -1:\n",
        "            print(\"row 0 -2147483648\")\n",
        "        else:\n",
        "            print(\"row\", max_row_index, max_row_sum)\n",
        "    else:\n",
        "        if max_col_index == -1:\n",
        "            print(\"column 0 -2147483648\")\n",
        "        else:\n",
        "            print(\"column\", max_col_index, max_col_sum)\n",
        "\n",
        "# Taking Input Using Fast I/O\n",
        "def take2DInput():\n",
        "    li = stdin.readline().rstrip().split(\" \")\n",
        "    nRows = int(li[0])\n",
        "    mCols = int(li[1])\n",
        "\n",
        "    if nRows == 0:\n",
        "        return list(), 0, 0\n",
        "\n",
        "    mat = [list(map(int, input().strip().split(\" \"))) for row in range(nRows)]\n",
        "    return mat, nRows, mCols\n",
        "\n",
        "# Main\n",
        "t = int(stdin.readline().rstrip())\n",
        "\n",
        "while t > 0:\n",
        "    mat, nRows, mCols = take2DInput()\n",
        "    findLargest(mat, nRows, mCols)\n",
        "    t -= 1"
      ],
      "metadata": {
        "id": "U1WneAFGSdv9"
      },
      "execution_count": null,
      "outputs": []
    },
    {
      "cell_type": "markdown",
      "source": [
        "Print Like a Wave"
      ],
      "metadata": {
        "id": "fFQ9nRwzSlEN"
      }
    },
    {
      "cell_type": "code",
      "source": [
        "from sys import stdin\n",
        "\n",
        "def wavePrint(mat, nRows, mCols):\n",
        "    for j in range(mCols):\n",
        "        if j % 2 == 0:  # For even columns, print top to bottom\n",
        "            for i in range(nRows):\n",
        "                print(mat[i][j], end=\" \")\n",
        "        else:  # For odd columns, print bottom to top\n",
        "            for i in range(nRows - 1, -1, -1):\n",
        "                print(mat[i][j], end=\" \")\n",
        "\n",
        "# Taking Input Using Fast I/O\n",
        "def take2DInput():\n",
        "    li = stdin.readline().rstrip().split(\" \")\n",
        "    nRows = int(li[0])\n",
        "    mCols = int(li[1])\n",
        "\n",
        "    if nRows == 0:\n",
        "        return list(), 0, 0\n",
        "\n",
        "    mat = [list(map(int, input().strip().split(\" \"))) for row in range(nRows)]\n",
        "    return mat, nRows, mCols\n",
        "\n",
        "# Main\n",
        "t = int(stdin.readline().rstrip())\n",
        "\n",
        "while t > 0:\n",
        "    mat, nRows, mCols = take2DInput()\n",
        "    wavePrint(mat, nRows, mCols)\n",
        "    print()\n",
        "    t -= 1"
      ],
      "metadata": {
        "id": "OY6wKdH_SnLD"
      },
      "execution_count": null,
      "outputs": []
    },
    {
      "cell_type": "markdown",
      "source": [
        "Print Spiral"
      ],
      "metadata": {
        "id": "vpgjgZc8So5C"
      }
    },
    {
      "cell_type": "code",
      "source": [
        "from sys import stdin\n",
        "\n",
        "def spiralPrint(mat, nRows, mCols):\n",
        "    startRow = 0\n",
        "    endRow = nRows - 1\n",
        "    startCol = 0\n",
        "    endCol = mCols - 1\n",
        "\n",
        "    while startRow <= endRow and startCol <= endCol:\n",
        "        # Print the first row from left to right\n",
        "        for j in range(startCol, endCol + 1):\n",
        "            print(mat[startRow][j], end=\" \")\n",
        "\n",
        "        startRow += 1\n",
        "\n",
        "        # Print the last column from top to bottom\n",
        "        for i in range(startRow, endRow + 1):\n",
        "            print(mat[i][endCol], end=\" \")\n",
        "\n",
        "        endCol -= 1\n",
        "\n",
        "        # Print the last row from right to left\n",
        "        if startRow <= endRow:\n",
        "            for j in range(endCol, startCol - 1, -1):\n",
        "                print(mat[endRow][j], end=\" \")\n",
        "\n",
        "            endRow -= 1\n",
        "\n",
        "        # Print the first column from bottom to top\n",
        "        if startCol <= endCol:\n",
        "            for i in range(endRow, startRow - 1, -1):\n",
        "                print(mat[i][startCol], end=\" \")\n",
        "\n",
        "            startCol += 1\n",
        "\n",
        "# Taking Input Using Fast I/O\n",
        "def take2DInput():\n",
        "    li = stdin.readline().rstrip().split(\" \")\n",
        "    nRows = int(li[0])\n",
        "    mCols = int(li[1])\n",
        "\n",
        "    if nRows == 0:\n",
        "        return list(), 0, 0\n",
        "\n",
        "    mat = [list(map(int, input().strip().split(\" \"))) for row in range(nRows)]\n",
        "    return mat, nRows, mCols\n",
        "\n",
        "# Main\n",
        "t = int(stdin.readline().rstrip())\n",
        "\n",
        "while t > 0:\n",
        "    mat, nRows, mCols = take2DInput()\n",
        "    spiralPrint(mat, nRows, mCols)\n",
        "    print()\n",
        "    t -= 1"
      ],
      "metadata": {
        "id": "12OX_bzOSuWS"
      },
      "execution_count": null,
      "outputs": []
    },
    {
      "cell_type": "markdown",
      "source": [
        "Tuples ,Dictionary And Set\n",
        "\n",
        "predict the output"
      ],
      "metadata": {
        "id": "F18YAva3S32T"
      }
    },
    {
      "cell_type": "code",
      "source": [
        "\"\"\"Problem statement\n",
        "What will be the output of following code?\"\"\"\n",
        "\n",
        "a = 5,6,7\n",
        "print(a[1:])\n",
        "\n",
        "#output:-(6,7)\n",
        "\n",
        "\n",
        "\"\"\"Problem statement\n",
        "What will be the output of follwing code?\"\"\"\n",
        "\n",
        "a = 5,6,7\n",
        "a[2] = 9\n",
        "print(a)\n",
        "\n",
        "#output:-Runtime Error\n",
        "\n",
        "\n",
        "\"\"\"Problem statement\n",
        "What will be the output of following code?\"\"\"\n",
        "\n",
        "a = (1,2)\n",
        "b = (4,5)\n",
        "d = (a,b)\n",
        "print(d[0])\n",
        "\n",
        "#output:-(1,2)\n",
        "\n",
        "\"\"\"Problem statement\n",
        "What will be the output of follwing code?\"\"\"\n",
        "\n",
        "a = (1,2)\n",
        "b = (4,5)\n",
        "d = a+b\n",
        "print(d[2])\n",
        "\n",
        "#output:-  4\n",
        "\n",
        "\"\"\"Problem statement\n",
        "What will be the output of following code?\"\"\"\n",
        "\n",
        "a = (“ab”,”abc”,”def”)\n",
        "print(min(a))\n",
        "\n",
        "#output:- ab\n",
        "\n",
        "\n",
        "\"\"\"Problem statement\n",
        "What will be the output of following code?\"\"\"\n",
        "\n",
        "def multiply(a,b,c,*more):\n",
        "    value = a*b*c\n",
        "    for i in more:\n",
        "        value = value * i\n",
        "    return value\n",
        "V = multiply(1,2,3,4,5)\n",
        "print(V)\n",
        "\n",
        "#output:- 120\n",
        "\n",
        "\"\"\"Problem statement\n",
        "What will be the output of following code?\"\"\"\n",
        "\n",
        "def sum_multiply(a,b,*more):\n",
        "    sum_value = a+b\n",
        "    m_value = a*b\n",
        "    for i in more:\n",
        "        sum_value += i\n",
        "        m_value*=i\n",
        "    return sum_value,m_value\n",
        "s_m = sum_multiply(2,3,4)\n",
        "print(s_m)\n",
        "\n",
        "#output:- (9,24)\n",
        "\n",
        "\n",
        "\"\"\"Problem statement\n",
        "What will be the output of following code?\"\"\"\n",
        "\n",
        "d = {1:2, “abc”:5, “def”:7}\n",
        "print(d[0])\n",
        "\n",
        "#output:- Error\n",
        "\n",
        "\"\"\"Problem statement\n",
        "What will be the output of following code?\"\"\"\n",
        "\n",
        "d = {1:2, “abc”:5, “def”:7}\n",
        "print(d.get(0,5))\n",
        "\n",
        "#output:- 5\n",
        "\n",
        "\n",
        "\"\"\"Problem statement\n",
        "What will be the output of following code?\"\"\"\n",
        "\n",
        "d = {1:2, “abc”:5, “def”:7}\n",
        "if 2 in d:\n",
        "    print(‘Present’)\n",
        "else:\n",
        "    print(‘Not Present’)\n",
        "\n",
        "\n",
        "#output:- Not Present\n",
        "\n",
        "\"\"\"Problem statement\n",
        "What will be the output of following code?\"\"\"\n",
        "\n",
        "a = {1:2,’list’:[1,2],3:5}\n",
        "b = {4:5,3:7}\n",
        "a.update(b)\n",
        "print(a[3])\n",
        "\n",
        "#output:- 7\n",
        "\n",
        "\"\"\"Problem statement\n",
        "What will be the output of following code?\"\"\"\n",
        "\n",
        "a = {1:2,’list’:[1,2],3:5}\n",
        "a.pop(‘list’)\n",
        "a[‘list’] = [3,5]\n",
        "print(a[‘list’])\n",
        "\n",
        "#output:-[3,5]\n",
        "\n",
        "\n",
        "\"\"\"Problem statement\n",
        "What will be the output of following code?\"\"\"\n",
        "\n",
        "s = {1,2,3,5,4,2,3,1}\n",
        "print(len(s),end= “ “)\n",
        "s.add(4)\n",
        "s.add(3)\n",
        "print(len(s))\n",
        "\n",
        "#output:- 5 5\n",
        "\n",
        "\"\"\"Problem statement\n",
        "What will be the output of following code?\"\"\"\n",
        "\n",
        "s = set()\n",
        "s.add(4)\n",
        "s.add(4)\n",
        "print(len(s))\n",
        "\n",
        "#output:- 1"
      ],
      "metadata": {
        "id": "BR4jzFUTS_qI"
      },
      "execution_count": null,
      "outputs": []
    },
    {
      "cell_type": "markdown",
      "source": [
        "Test 2"
      ],
      "metadata": {
        "id": "9RFPoXTBbxui"
      }
    },
    {
      "cell_type": "markdown",
      "source": [
        "Print 2D Array"
      ],
      "metadata": {
        "id": "67XTS827b1Yw"
      }
    },
    {
      "cell_type": "code",
      "source": [
        "from os import *\n",
        "from sys import *\n",
        "from collections import *\n",
        "from math import *\n",
        "# Function to print the 2D array in the specified pattern\n",
        "def print2DArray(arr, n, m):\n",
        "    for i in range(n):\n",
        "        for j in range(n - i):\n",
        "            for k in range(m):\n",
        "                print(arr[i][k], end=\" \")\n",
        "            print()  # Print a newline after each row\n",
        "\n",
        "# Input\n",
        "n, m = map(int, input().split())\n",
        "arr = []\n",
        "for i in range(n):\n",
        "    row = list(map(int, input().split()))\n",
        "    arr.append(row)\n",
        "\n",
        "# Call the function to print the 2D array\n",
        "print2DArray(arr, n, m)"
      ],
      "metadata": {
        "id": "MRisfxaPcB8o"
      },
      "execution_count": null,
      "outputs": []
    },
    {
      "cell_type": "markdown",
      "source": [
        "Minimum Length word"
      ],
      "metadata": {
        "id": "h7133zx3cFLB"
      }
    },
    {
      "cell_type": "code",
      "source": [
        "## Read input as specified in the question.\n",
        "## Print output as specified in the question.\n",
        "def findMinimumLengthWord(s):\n",
        "    words = s.split()  # Split the string into words based on space\n",
        "    min_length_word = words[0]  # Initialize min_length_word with the first word\n",
        "\n",
        "    for word in words:\n",
        "        if len(word) < len(min_length_word):\n",
        "            min_length_word = word  # Update min_length_word if a shorter word is found\n",
        "\n",
        "    return min_length_word\n",
        "\n",
        "# Input\n",
        "s = input()\n",
        "\n",
        "# Call the function and print the result\n",
        "result = findMinimumLengthWord(s)\n",
        "print(result)\n"
      ],
      "metadata": {
        "id": "foopybMHcU3b"
      },
      "execution_count": null,
      "outputs": []
    },
    {
      "cell_type": "markdown",
      "source": [
        "Leaders In Array"
      ],
      "metadata": {
        "id": "4QR_1hPicX7j"
      }
    },
    {
      "cell_type": "code",
      "source": [
        "## Read input as specified in the question.\n",
        "## Print output as specified in the question.\n",
        "def findLeaders(arr, n):\n",
        "    leaders = []\n",
        "    max_right = arr[n - 1]\n",
        "    leaders.append(max_right)\n",
        "\n",
        "    for i in range(n - 2, -1, -1):\n",
        "        if arr[i] >= max_right:\n",
        "            max_right = arr[i]\n",
        "            leaders.append(max_right)\n",
        "\n",
        "    leaders.reverse()  # Reverse the list to maintain the order\n",
        "\n",
        "    return leaders\n",
        "\n",
        "# Input\n",
        "n = int(input())\n",
        "arr = list(map(int, input().split()))\n",
        "\n",
        "# Call the function and print the result\n",
        "result = findLeaders(arr, n)\n",
        "print(*result)"
      ],
      "metadata": {
        "id": "jIfAPQF6ceSK"
      },
      "execution_count": null,
      "outputs": []
    },
    {
      "cell_type": "markdown",
      "source": [
        "Count and Say"
      ],
      "metadata": {
        "id": "7R8mBD8tcjCd"
      }
    },
    {
      "cell_type": "code",
      "source": [
        "def writeAsYouSpeak(n):\n",
        "    def next_sequence(s):\n",
        "        result = []\n",
        "        i = 0\n",
        "        while i < len(s):\n",
        "            count = 1\n",
        "            while i + 1 < len(s) and s[i] == s[i + 1]:\n",
        "                i += 1\n",
        "                count += 1\n",
        "            result.append(str(count) + s[i])\n",
        "            i += 1\n",
        "        return ''.join(result)\n",
        "\n",
        "    sequence = \"1\"\n",
        "    for _ in range(n - 1):\n",
        "        sequence = next_sequence(sequence)\n",
        "    return sequence"
      ],
      "metadata": {
        "id": "FNpmeArOcpWJ"
      },
      "execution_count": null,
      "outputs": []
    }
  ]
}