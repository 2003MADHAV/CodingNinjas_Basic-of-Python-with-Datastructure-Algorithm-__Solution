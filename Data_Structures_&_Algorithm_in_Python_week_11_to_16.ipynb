{
  "nbformat": 4,
  "nbformat_minor": 0,
  "metadata": {
    "colab": {
      "provenance": [],
      "authorship_tag": "ABX9TyPUaqKX2HAbLAIhO4F7nPVH",
      "include_colab_link": true
    },
    "kernelspec": {
      "name": "python3",
      "display_name": "Python 3"
    },
    "language_info": {
      "name": "python"
    }
  },
  "cells": [
    {
      "cell_type": "markdown",
      "metadata": {
        "id": "view-in-github",
        "colab_type": "text"
      },
      "source": [
        "<a href=\"https://colab.research.google.com/github/2003MADHAV/CodingNinjas_Basic-of-Python-with-Datastructure-Algorithm-__Solution/blob/main/Data_Structures_%26_Algorithm_in_Python_week_11_to_16.ipynb\" target=\"_parent\"><img src=\"https://colab.research.google.com/assets/colab-badge.svg\" alt=\"Open In Colab\"/></a>"
      ]
    },
    {
      "cell_type": "markdown",
      "source": [
        "#Week11\n",
        "\n",
        "#Heap-1"
      ],
      "metadata": {
        "id": "9wHxdJtuhjDL"
      }
    },
    {
      "cell_type": "markdown",
      "source": [
        "Inplace Heap Sort"
      ],
      "metadata": {
        "id": "kirZPx8siGPw"
      }
    },
    {
      "cell_type": "code",
      "execution_count": null,
      "metadata": {
        "id": "iTDWG-O1hVry"
      },
      "outputs": [],
      "source": [
        "def heapify(arr, n, i):\n",
        "    largest = i\n",
        "    left = 2 * i + 1\n",
        "    right = 2 * i + 2\n",
        "\n",
        "    if left < n and arr[left] > arr[largest]:\n",
        "        largest = left\n",
        "\n",
        "    if right < n and arr[right] > arr[largest]:\n",
        "        largest = right\n",
        "\n",
        "    if largest != i:\n",
        "        arr[i], arr[largest] = arr[largest], arr[i]\n",
        "        heapify(arr, n, largest)\n",
        "\n",
        "def heapSort(arr):\n",
        "    n = len(arr)\n",
        "\n",
        "    # Build a max-heap\n",
        "    for i in range(n // 2 - 1, -1, -1):\n",
        "        heapify(arr, n, i)\n",
        "\n",
        "    # Extract elements one by one\n",
        "    for i in range(n - 1, 0, -1):\n",
        "        arr[i], arr[0] = arr[0], arr[i]  # Swap the root with the last element\n",
        "        heapify(arr, i, 0)\n",
        "\n",
        "# Input\n",
        "n = int(input())\n",
        "arr = [int(ele) for ele in input().split()]\n",
        "\n",
        "# Sorting\n",
        "heapSort(arr)\n",
        "\n",
        "# Output\n",
        "for ele in arr[::-1]:\n",
        "    print(ele, end=' ')"
      ]
    },
    {
      "cell_type": "markdown",
      "source": [
        "Is Binary Heap Tree"
      ],
      "metadata": {
        "id": "O7NiciAUiM_B"
      }
    },
    {
      "cell_type": "code",
      "source": [
        "from os import *\n",
        "from sys import *\n",
        "from collections import *\n",
        "from math import *\n",
        "\n",
        "class BinaryTreeNode:\n",
        "    def __init__(self, data):\n",
        "        self.data = data\n",
        "        self.left = None\n",
        "        self.right = None\n",
        "\n",
        "def isComplete(root, index, count_nodes):\n",
        "    if root is None:\n",
        "        return True\n",
        "\n",
        "    if index >= count_nodes:\n",
        "        return False\n",
        "\n",
        "    return (isComplete(root.left, 2 * index + 1, count_nodes) and\n",
        "            isComplete(root.right, 2 * index + 2, count_nodes))\n",
        "\n",
        "def isMaxHeapUtil(root):\n",
        "    if root is None:\n",
        "        return True\n",
        "\n",
        "    if root.left is not None and root.data < root.left.data:\n",
        "        return False\n",
        "\n",
        "    if root.right is not None and root.data < root.right.data:\n",
        "        return False\n",
        "\n",
        "    return isMaxHeapUtil(root.left) and isMaxHeapUtil(root.right)\n",
        "\n",
        "def isBinaryHeapTree(root):\n",
        "    def countNodes(root):\n",
        "        if root is None:\n",
        "            return 0\n",
        "        return 1 + countNodes(root.left) + countNodes(root.right)\n",
        "\n",
        "    count_nodes = countNodes(root)\n",
        "    return isComplete(root, 0, count_nodes) and isMaxHeapUtil(root)\n",
        "\n"
      ],
      "metadata": {
        "id": "j-_PsIByiUJ1"
      },
      "execution_count": null,
      "outputs": []
    },
    {
      "cell_type": "markdown",
      "source": [
        "#Heap-2\n",
        "\n",
        "#Lecture"
      ],
      "metadata": {
        "id": "O2jhRcSeiiG4"
      }
    },
    {
      "cell_type": "markdown",
      "source": [
        "K largest elements"
      ],
      "metadata": {
        "id": "e24kUYsfinn2"
      }
    },
    {
      "cell_type": "code",
      "source": [
        "import heapq\n",
        "def kLargest(lst, k):\n",
        "    min_heap = lst[:k]  # Create a min-heap with the first k elements\n",
        "    heapq.heapify(min_heap)\n",
        "\n",
        "    for num in lst[k:]:\n",
        "        if num > min_heap[0]:\n",
        "            heapq.heappop(min_heap)\n",
        "            heapq.heappush(min_heap, num)\n",
        "\n",
        "    return min_heap\n",
        "\n",
        "# Main Code\n",
        "n=int(input())\n",
        "lst=list(int(i) for i in input().strip().split(' '))\n",
        "k=int(input())\n",
        "ans=kLargest(lst, k)\n",
        "print(*ans, sep='\\n')"
      ],
      "metadata": {
        "id": "cqzWFAq9imor"
      },
      "execution_count": null,
      "outputs": []
    },
    {
      "cell_type": "markdown",
      "source": [
        "Last Stone Weight"
      ],
      "metadata": {
        "id": "-8drthtTiyDl"
      }
    },
    {
      "cell_type": "code",
      "source": [
        "from sys import stdin\n",
        "import heapq\n",
        "import sys\n",
        "\n",
        "sys.setrecursionlimit(10**7)\n",
        "\n",
        "def weightOfLastStone(stones, n):\n",
        "    # Convert the list of stones into a max-heap\n",
        "    max_heap = [-stone for stone in stones]\n",
        "    heapq.heapify(max_heap)\n",
        "\n",
        "    # Perform the smashing until there is at most one stone left\n",
        "    while len(max_heap) > 1:\n",
        "        x = -heapq.heappop(max_heap)\n",
        "        y = -heapq.heappop(max_heap)\n",
        "\n",
        "        # Calculate the new weight after smashing\n",
        "        new_weight = abs(x - y)\n",
        "\n",
        "        # If the new weight is not zero, add it back to the heap\n",
        "        if new_weight != 0:\n",
        "            heapq.heappush(max_heap, -new_weight)\n",
        "\n",
        "    # If there is a stone left, return its weight, otherwise return 0\n",
        "    return 0 if not max_heap else -max_heap[0]\n",
        "\n",
        "# Taking input using fast I/O\n",
        "def takeInput():\n",
        "    n = int(input())\n",
        "    stones = list(map(int, input().strip().split(\" \")))\n",
        "    return stones, n\n",
        "\n",
        "# Main\n",
        "stones, n = takeInput()\n",
        "print(weightOfLastStone(stones, n))"
      ],
      "metadata": {
        "id": "HVoIdM9Li434"
      },
      "execution_count": null,
      "outputs": []
    },
    {
      "cell_type": "markdown",
      "source": [
        "K Most Frequent Elements"
      ],
      "metadata": {
        "id": "iYv6YEFHi8MC"
      }
    },
    {
      "cell_type": "code",
      "source": [
        "from typing import List\n",
        "from collections import Counter\n",
        "import heapq\n",
        "\n",
        "def KMostFrequent(n: int, k: int, arr: List[int]) -> List[int]:\n",
        "    # Count the frequency of each element in the array\n",
        "    count = Counter(arr)\n",
        "\n",
        "    # Create a min-heap based on the negative frequency of elements\n",
        "    min_heap = [(-freq, num) for num, freq in count.items()]\n",
        "    heapq.heapify(min_heap)\n",
        "\n",
        "    # Extract the top K elements from the heap\n",
        "    result = [heapq.heappop(min_heap)[1] for _ in range(k)]\n",
        "\n",
        "    return result"
      ],
      "metadata": {
        "id": "PHmwx2EFjGPo"
      },
      "execution_count": null,
      "outputs": []
    },
    {
      "cell_type": "markdown",
      "source": [
        "#Assignments\n",
        "\n",
        "Buy the ticket"
      ],
      "metadata": {
        "id": "__rnRSugjLn3"
      }
    },
    {
      "cell_type": "code",
      "source": [
        "from sys import stdin\n",
        "import sys\n",
        "import heapq as heap\n",
        "\n",
        "class LinkedListNode :\n",
        "    def __init__(self, data) :\n",
        "        self.data = data\n",
        "        self.next = None\n",
        "\n",
        "class Queue :\n",
        "    def __init__(self) :\n",
        "        self.head = None\n",
        "        self.tail = None\n",
        "        self.size = 0\n",
        "\n",
        "    def enqueue(self, data) :\n",
        "        newNode = LinkedListNode(data)\n",
        "        if self.head is None :\n",
        "            self.head = self.tail = newNode\n",
        "        else :\n",
        "            self.tail.next = newNode\n",
        "            self.tail = newNode\n",
        "        self.size += 1\n",
        "        return\n",
        "\n",
        "    def dequeue(self) :\n",
        "        if self.head is None :\n",
        "            return None\n",
        "        data = self.head.data\n",
        "        self.head = self.head.next\n",
        "        self.size -= 1\n",
        "        return data\n",
        "\n",
        "    def getSize(self) :\n",
        "        return self.size\n",
        "\n",
        "    def isEmpty(self) :\n",
        "        if self.head is None :\n",
        "            return True\n",
        "        return False\n",
        "\n",
        "    def peek(self) :\n",
        "        if self.head is None :\n",
        "            return None\n",
        "        return self.head.data\n",
        "\n",
        "def buyTicket(arr, n, k) :\n",
        "    q = Queue()\n",
        "    maxHeap = []\n",
        "    heap.heapify(maxHeap)\n",
        "    for element in arr:\n",
        "        q.enqueue(element)\n",
        "        heap.heappush(maxHeap,-1*element)\n",
        "    count = 0\n",
        "    while len(maxHeap)!=0:\n",
        "        if q.peek()==-1*maxHeap[0]:\n",
        "            if k==0:\n",
        "                return count+1\n",
        "            else:\n",
        "                count+=1\n",
        "                q.dequeue()\n",
        "                heap.heappop(maxHeap)\n",
        "                k-=1\n",
        "        else:\n",
        "            q.enqueue(q.peek())\n",
        "            q.dequeue()\n",
        "            if k==0:\n",
        "                k = q.getSize()-1\n",
        "            else:\n",
        "                k-=1\n",
        "    return count\n",
        "#taking input using fast I/O\n",
        "def takeInput() :\n",
        "    n = int(stdin.readline().strip())\n",
        "    if n == 0 :\n",
        "        return n, list(), int(stdin.readline().strip())\n",
        "    arr = list(map(int, stdin.readline().strip().split(\" \")))\n",
        "    k = int(stdin.readline().strip())\n",
        "    return n, arr, k\n",
        "\n",
        "#main\n",
        "sys.setrecursionlimit(10**6)\n",
        "n, arr, k = takeInput()\n",
        "print(buyTicket(arr, n, k))"
      ],
      "metadata": {
        "id": "lVOl-EAejSsO"
      },
      "execution_count": null,
      "outputs": []
    },
    {
      "cell_type": "markdown",
      "source": [
        "Check max-Heap"
      ],
      "metadata": {
        "id": "3tLosVEUjW0h"
      }
    },
    {
      "cell_type": "code",
      "source": [
        "def checkMaxHeap(lst):\n",
        "    n = len(lst)\n",
        "    for i in range(n // 2 - 1, -1, -1):\n",
        "        left_child = 2 * i + 1\n",
        "        right_child = 2 * i + 2\n",
        "\n",
        "        # Check if left child exists and is greater than the current element\n",
        "        if left_child < n and lst[left_child] > lst[i]:\n",
        "            return False\n",
        "\n",
        "        # Check if right child exists and is greater than the current element\n",
        "        if right_child < n and lst[right_child] > lst[i]:\n",
        "            return False\n",
        "\n",
        "    return True\n",
        "# Main Code\n",
        "n=int(input())\n",
        "lst=list(int(i) for i in input().strip().split(' '))\n",
        "print('true') if checkMaxHeap(lst) else print('false')"
      ],
      "metadata": {
        "id": "1SwTYJYcjbcL"
      },
      "execution_count": null,
      "outputs": []
    },
    {
      "cell_type": "markdown",
      "source": [
        "k-th largest Sum Subarray"
      ],
      "metadata": {
        "id": "POGzZugIjcac"
      }
    },
    {
      "cell_type": "code",
      "source": [
        "def getKthLargest(arr, k):\n",
        "    n = len(arr)\n",
        "    subarray_sums = []\n",
        "\n",
        "    for i in range(n):\n",
        "        current_sum = 0\n",
        "        for j in range(i, n):\n",
        "            current_sum += arr[j]\n",
        "            subarray_sums.append(current_sum)\n",
        "\n",
        "    subarray_sums.sort(reverse=True)  # Sort the sums in descending order\n",
        "    return subarray_sums[k - 1]  # Return the Kth largest sum\n"
      ],
      "metadata": {
        "id": "-GTc1PKUjtoJ"
      },
      "execution_count": null,
      "outputs": []
    },
    {
      "cell_type": "markdown",
      "source": [
        "Fourth Largest Element in  the Array"
      ],
      "metadata": {
        "id": "06TwBV3xj1Ja"
      }
    },
    {
      "cell_type": "code",
      "source": [
        "import heapq\n",
        "\n",
        "\n",
        "def getFourthLargest(arr, n):\n",
        "    if n < 4:\n",
        "        return -2147483648\n",
        "\n",
        "    heap = arr[:4]\n",
        "    heapq.heapify(heap)\n",
        "\n",
        "    for num in arr[4:]:\n",
        "        if num > heap[0]:\n",
        "            heapq.heappop(heap)\n",
        "            heapq.heappush(heap, num)\n",
        "\n",
        "    return heap[0]"
      ],
      "metadata": {
        "id": "zKDowWr6j0cm"
      },
      "execution_count": null,
      "outputs": []
    },
    {
      "cell_type": "markdown",
      "source": [
        "Kth Minimum Floor"
      ],
      "metadata": {
        "id": "lrktVC3Xj9lK"
      }
    },
    {
      "cell_type": "code",
      "source": [
        "from os import *\n",
        "from sys import *\n",
        "from collections import *\n",
        "from math import *\n",
        "\n",
        "def kMinFloor(squareCity, n, k):\n",
        "    floors = []\n",
        "\n",
        "    for row in squareCity:\n",
        "        floors.extend(row)\n",
        "\n",
        "    floors.sort()\n",
        "    return floors[k-1]\n"
      ],
      "metadata": {
        "id": "51dL5wnIkHmW"
      },
      "execution_count": null,
      "outputs": []
    },
    {
      "cell_type": "markdown",
      "source": [
        "#Week 12\n",
        "\n",
        "#Dynamics Programming 1\n",
        "\n",
        "Lecture"
      ],
      "metadata": {
        "id": "aZu9FHxfkKJZ"
      }
    },
    {
      "cell_type": "markdown",
      "source": [
        "Count Ways To Reach The N-th Stairs"
      ],
      "metadata": {
        "id": "3tMkMU0Zk9fJ"
      }
    },
    {
      "cell_type": "code",
      "source": [
        "from os import *\n",
        "from sys import *\n",
        "from collections import *\n",
        "from math import *\n",
        "\n",
        "def countDistinctWays(nStairs: int) -> int:\n",
        "    if nStairs == 0 or nStairs == 1:\n",
        "        return 1\n",
        "\n",
        "    # Initialize an array to store the number of ways to climb each step\n",
        "    dp = [0] * (nStairs + 1)\n",
        "\n",
        "    # Base cases: there is 1 way to climb the 0th and 1st steps\n",
        "    dp[0] = dp[1] = 1\n",
        "\n",
        "    # Calculate the number of ways for each step starting from the 2nd step\n",
        "    for i in range(2, nStairs + 1):\n",
        "        dp[i] = (dp[i - 1] + dp[i - 2]) %(10**9+7)\n",
        "\n",
        "    # Return the number of ways to climb the Nth step\n",
        "    return dp[nStairs]"
      ],
      "metadata": {
        "id": "bjpSprhlk1hT"
      },
      "execution_count": null,
      "outputs": []
    },
    {
      "cell_type": "markdown",
      "source": [
        "Frog Jump"
      ],
      "metadata": {
        "id": "z6-zXx6PlEda"
      }
    },
    {
      "cell_type": "code",
      "source": [
        "from os import *\n",
        "from sys import *\n",
        "from collections import *\n",
        "from math import *\n",
        "\n",
        "from typing import *\n",
        "\n",
        "\n",
        "#from typing import List\n",
        "\n",
        "def frogJump(n: int, heights: List[int]) -> int:\n",
        "    # Base case: If there are 1 or 2 stairs, no energy is lost\n",
        "    if n <= 2:\n",
        "        return 0\n",
        "\n",
        "    # Create an array to store the minimum energy required to reach each stair\n",
        "    dp = [float('inf')] * n\n",
        "\n",
        "    # Initialize the energy required for the first two stairs\n",
        "    dp[0] = 0\n",
        "    dp[1] = abs(heights[1] - heights[0])\n",
        "\n",
        "    # Fill the dp array iteratively\n",
        "    for i in range(2, n):\n",
        "        # Calculate the energy required to reach the current stair from the previous two stairs\n",
        "        jump1 = dp[i - 1] + abs(heights[i] - heights[i - 1])\n",
        "        jump2 = dp[i - 2] + abs(heights[i] - heights[i - 2])\n",
        "\n",
        "        # Update the dp array with the minimum energy required\n",
        "        dp[i] = min(jump1, jump2)\n",
        "\n",
        "    # Return the minimum energy required to reach the last stair\n",
        "    return dp[-1]\n",
        "\n",
        "# Input handling\n",
        "if __name__ == \"__main__\":\n",
        "    T = int(input())\n",
        "    for _ in range(T):\n",
        "        n = int(input())\n",
        "        heights = list(map(int, input().split()))\n",
        "        result = frogJump(n, heights)\n",
        "        print(result)"
      ],
      "metadata": {
        "id": "t1ztl4gQlKTE"
      },
      "execution_count": null,
      "outputs": []
    },
    {
      "cell_type": "markdown",
      "source": [
        "Maximum sum of non-adjacent elements"
      ],
      "metadata": {
        "id": "fCDNBLDvlLR5"
      }
    },
    {
      "cell_type": "code",
      "source": [
        "from os import *\n",
        "from sys import *\n",
        "from collections import *\n",
        "from math import *\n",
        "\n",
        "from sys import stdin\n",
        "\n",
        "def maximumNonAdjacentSum(nums):\n",
        "    if not nums:\n",
        "        return 0\n",
        "\n",
        "    n = len(nums)\n",
        "\n",
        "    # Base cases\n",
        "    if n == 1:\n",
        "        return nums[0]\n",
        "    elif n == 2:\n",
        "        return max(nums[0], nums[1])\n",
        "\n",
        "    # Initialize two variables to store the maximum sum including and excluding the current element\n",
        "    incl = max(nums[0], nums[1])\n",
        "    excl = nums[0]\n",
        "\n",
        "    # Iterate through the array, updating incl and excl for each element\n",
        "    for i in range(2, n):\n",
        "        new_excl = max(incl, excl)  # Update excl to be the maximum of the previous incl and excl\n",
        "        incl = excl + nums[i]       # Update incl to be the sum of the previous excl and the current element\n",
        "        excl = new_excl             # Update excl for the next iteration\n",
        "\n",
        "    # Return the maximum of incl and excl as the final result\n",
        "    return max(incl, excl)\n",
        "# Main.\n",
        "t = int(stdin.readline().rstrip())\n",
        "\n",
        "while t > 0:\n",
        "\n",
        "    n = int(stdin.readline().rstrip())\n",
        "    arr = list(map(int, stdin.readline().rstrip().split(\" \")))\n",
        "    print(maximumNonAdjacentSum(arr))\n",
        "\n",
        "    t -= 1"
      ],
      "metadata": {
        "id": "94PzPY1KlPyu"
      },
      "execution_count": null,
      "outputs": []
    },
    {
      "cell_type": "markdown",
      "source": [
        "House Robber II"
      ],
      "metadata": {
        "id": "XZ6QTs05lSSi"
      }
    },
    {
      "cell_type": "code",
      "source": [
        "from os import *\n",
        "from sys import *\n",
        "from collections import *\n",
        "from math import *\n",
        "\n",
        "def houseRobber(valueInHouse):\n",
        "    # Write your function here.\n",
        "    n = len(valueInHouse)\n",
        "\n",
        "    # Base case: If there are no houses, return 0\n",
        "    if n == 0:\n",
        "        return 0\n",
        "\n",
        "    # If there is only one house, return the value of that house\n",
        "    if n == 1:\n",
        "        return valueInHouse[0]\n",
        "\n",
        "    # Calculate the maximum amount of money Mr. X can rob if he starts from the first house\n",
        "    dp_start = [0] * n\n",
        "    dp_start[0] = valueInHouse[0]\n",
        "    dp_start[1] = max(valueInHouse[0], valueInHouse[1])\n",
        "\n",
        "    for i in range(2, n):\n",
        "        dp_start[i] = max(dp_start[i - 1], dp_start[i - 2] + valueInHouse[i])\n",
        "\n",
        "    # Calculate the maximum amount of money Mr. X can rob if he doesn't start from the first house\n",
        "    dp_no_start = [0] * n\n",
        "    dp_no_start[0] = 0\n",
        "    dp_no_start[1] = valueInHouse[1]\n",
        "\n",
        "    for i in range(2, n):\n",
        "        dp_no_start[i] = max(dp_no_start[i - 1], dp_no_start[i - 2] + valueInHouse[i])\n",
        "\n",
        "    # Return the maximum of the two cases\n",
        "    return max(dp_start[-2], dp_no_start[-1])"
      ],
      "metadata": {
        "id": "zqqkUk0Flb0z"
      },
      "execution_count": null,
      "outputs": []
    },
    {
      "cell_type": "markdown",
      "source": [
        "Unique Paths II"
      ],
      "metadata": {
        "id": "UwJrrRiFld0B"
      }
    },
    {
      "cell_type": "code",
      "source": [
        "def mazeObstacles(n, m, mat):\n",
        "    MOD = 10**9 + 7\n",
        "\n",
        "    # Initialize a 2D array to store the number of paths\n",
        "    dp = [[0] * m for _ in range(n)]\n",
        "\n",
        "    # Base case: There is 1 way to reach the top-left cell\n",
        "    dp[0][0] = 1\n",
        "\n",
        "    # Initialize the first row\n",
        "    for j in range(1, m):\n",
        "        if mat[0][j] == 0:\n",
        "            dp[0][j] = dp[0][j - 1]\n",
        "\n",
        "    # Initialize the first column\n",
        "    for i in range(1, n):\n",
        "        if mat[i][0] == 0:\n",
        "            dp[i][0] = dp[i - 1][0]\n",
        "\n",
        "    # Calculate the number of paths for each cell\n",
        "    for i in range(1, n):\n",
        "        for j in range(1, m):\n",
        "            if mat[i][j] == 0:\n",
        "                dp[i][j] = (dp[i - 1][j] + dp[i][j - 1]) % MOD\n",
        "\n",
        "    # Return the number of paths to the bottom-right cell\n",
        "    return dp[-1][-1]"
      ],
      "metadata": {
        "id": "KWmA-miJlpHO"
      },
      "execution_count": null,
      "outputs": []
    },
    {
      "cell_type": "markdown",
      "source": [
        "Triangle"
      ],
      "metadata": {
        "id": "kl5QzOvBlrWa"
      }
    },
    {
      "cell_type": "code",
      "source": [
        "from os import *\n",
        "from sys import *\n",
        "from collections import *\n",
        "from math import *\n",
        "\n",
        "def minimumPathSum(triangle, n):\n",
        "    # Starting from the second-to-last row and moving upwards\n",
        "    for i in range(n - 2, -1, -1):\n",
        "        for j in range(i + 1):\n",
        "            # Update each element with the minimum sum of the two adjacent elements in the row below\n",
        "            triangle[i][j] += min(triangle[i + 1][j], triangle[i + 1][j + 1])\n",
        "\n",
        "    # The top element now contains the minimum path sum\n",
        "    return triangle[0][0]\n"
      ],
      "metadata": {
        "id": "ymqZ_Lp9lyK5"
      },
      "execution_count": null,
      "outputs": []
    },
    {
      "cell_type": "markdown",
      "source": [
        "Maximum path sum in the matrix"
      ],
      "metadata": {
        "id": "oCA1ScD8lzNA"
      }
    },
    {
      "cell_type": "code",
      "source": [
        "from os import *\n",
        "from sys import *\n",
        "from collections import *\n",
        "from math import *\n",
        "\n",
        "from sys import stdin, setrecursionlimit\n",
        "setrecursionlimit(10**7)\n",
        "\n",
        "\n",
        "def getMaxPathSum(matrix):\n",
        "    # Get the dimensions of the matrix\n",
        "    rows = len(matrix)\n",
        "    cols = len(matrix[0])\n",
        "\n",
        "    # Start from the second-to-last row and move upwards\n",
        "    for i in range(rows - 2, -1, -1):\n",
        "        for j in range(cols):\n",
        "            # Update each element with the maximum sum from the three possible moves\n",
        "            matrix[i][j] += max(matrix[i + 1][j], matrix[i + 1][max(0, j - 1)], matrix[i + 1][min(cols - 1, j + 1)])\n",
        "\n",
        "    # The top row now contains the maximum sum path\n",
        "    return max(matrix[0])\n",
        "\n",
        "\n",
        "#   taking inpit using fast I/O\n",
        "def takeInput() :\n",
        "    n_x = stdin.readline().strip().split(\" \")\n",
        "    n = int(n_x[0].strip())\n",
        "    m = int(n_x[1].strip())\n",
        "\n",
        "    matrix=[list(map(int, stdin.readline().strip().split(\" \"))) for row in range(n)]\n",
        "\n",
        "    return matrix, n, m\n",
        "\n",
        "\n",
        "#   main\n",
        "T = int(input())\n",
        "while (T > 0):\n",
        "    T -= 1\n",
        "    matrix, n, m = takeInput()\n",
        "    print(getMaxPathSum(matrix))"
      ],
      "metadata": {
        "id": "ZNlvXadEmBeL"
      },
      "execution_count": null,
      "outputs": []
    },
    {
      "cell_type": "markdown",
      "source": [
        "#Assignment\n",
        "\n",
        "Min steps to one  using DP"
      ],
      "metadata": {
        "id": "Mlvw6I3KmCfl"
      }
    },
    {
      "cell_type": "code",
      "source": [
        "from sys import stdin\n",
        "from sys import maxsize as MAX_VALUE\n",
        "\n",
        "\n",
        "\n",
        "def countMinStepsToOne(n) :\n",
        "    # Create an array to store minimum steps for each number from 1 to 'n'\n",
        "    dp = [0] * (n + 1)\n",
        "\n",
        "    # Initialize the base case\n",
        "    dp[1] = 0\n",
        "\n",
        "    # Fill the array by considering all numbers from 2 to 'n'\n",
        "    for i in range(2, n + 1):\n",
        "        # Initialize with steps required to reach 'i' by subtracting 1\n",
        "        dp[i] = dp[i - 1] + 1\n",
        "\n",
        "        # Check if 'i' is divisible by 2\n",
        "        if i % 2 == 0:\n",
        "            dp[i] = min(dp[i], dp[i // 2] + 1)\n",
        "\n",
        "        # Check if 'i' is divisible by 3\n",
        "        if i % 3 == 0:\n",
        "            dp[i] = min(dp[i], dp[i // 3] + 1)\n",
        "\n",
        "    return dp[n]\n",
        "\n",
        "\n",
        "#main\n",
        "n = int(stdin.readline().rstrip())\n",
        "print(countMinStepsToOne(n))"
      ],
      "metadata": {
        "id": "ESRvVghsmRCr"
      },
      "execution_count": null,
      "outputs": []
    },
    {
      "cell_type": "markdown",
      "source": [
        "Road Cutting Problem"
      ],
      "metadata": {
        "id": "i7Xuh022mUbp"
      }
    },
    {
      "cell_type": "code",
      "source": [
        "from sys import stdin\n",
        "import sys\n",
        "\n",
        "def cutRod(price, n):\n",
        "    # Create an array to store the maximum cost for different sub-lengths\n",
        "    dp = [0] * (n + 1)\n",
        "\n",
        "    # Fill the array based on dynamic programming\n",
        "    for i in range(1, n + 1):\n",
        "        max_cost = -1\n",
        "        for j in range(i):\n",
        "            max_cost = max(max_cost, price[j] + dp[i - j - 1])\n",
        "        dp[i] = max_cost\n",
        "\n",
        "    return dp[n]\n",
        "\n",
        "\n",
        "# Taking input using fast I/O.\n",
        "def takeInput():\n",
        "    n = int(input())\n",
        "\n",
        "    price = list(map(int, input().strip().split(\" \")))\n",
        "\n",
        "    return price, n\n",
        "\n",
        "\n",
        "# Main.\n",
        "t = int(input())\n",
        "while t:\n",
        "    price, n = takeInput()\n",
        "    print(cutRod(price, n))\n",
        "    t = t-1"
      ],
      "metadata": {
        "id": "leysoUObmbki"
      },
      "execution_count": null,
      "outputs": []
    },
    {
      "cell_type": "markdown",
      "source": [
        "Minimum Number of Squares"
      ],
      "metadata": {
        "id": "Nvkq5a-Umcc8"
      }
    },
    {
      "cell_type": "code",
      "source": [
        "\n",
        "import sys\n",
        "def minStepsTo1(n):\n",
        "    # Create an array to store the minimum number of squares for each number\n",
        "    dp = [float('inf')] * (n + 1)\n",
        "\n",
        "    # Base case: 0 squares needed for 0\n",
        "    dp[0] = 0\n",
        "\n",
        "    # Build the solution for each number\n",
        "    for i in range(1, n + 1):\n",
        "        j = 1\n",
        "        while j * j <= i:\n",
        "            dp[i] = min(dp[i], 1 + dp[i - j * j])\n",
        "            j += 1\n",
        "\n",
        "    return dp[n]\n",
        "\n",
        "\n",
        "\n",
        "\n",
        "n = int(input())\n",
        "ans = minStepsTo1(n)\n",
        "print(ans)"
      ],
      "metadata": {
        "id": "ui0nGIopmmLe"
      },
      "execution_count": null,
      "outputs": []
    },
    {
      "cell_type": "markdown",
      "source": [
        "#week 13\n",
        "\n",
        "#Dynamic Programming 2\n",
        "\n",
        "Lecture"
      ],
      "metadata": {
        "id": "OVKv2kF0m2_a"
      }
    },
    {
      "cell_type": "markdown",
      "source": [
        "Subset Sum Equal to K"
      ],
      "metadata": {
        "id": "DXfWFXV_nGmv"
      }
    },
    {
      "cell_type": "code",
      "source": [
        "from os import *\n",
        "from sys import *\n",
        "from collections import *\n",
        "from math import *\n",
        "\n",
        "def subsetSumToK(n, k, arr):\n",
        "    # Create a 2D array to store whether a subset with sum 'j' exists for 'i' elements\n",
        "    dp = [[False] * (k + 1) for _ in range(n + 1)]\n",
        "\n",
        "    # Base case: There is always an empty subset with sum 0\n",
        "    for i in range(n + 1):\n",
        "        dp[i][0] = True\n",
        "\n",
        "    # Build the solution using dynamic programming\n",
        "    for i in range(1, n + 1):\n",
        "        for j in range(1, k + 1):\n",
        "            # If the current element is greater than the sum 'j', exclude it\n",
        "            if arr[i - 1] > j:\n",
        "                dp[i][j] = dp[i - 1][j]\n",
        "            else:\n",
        "                # Include the current element or exclude it\n",
        "                dp[i][j] = dp[i - 1][j] or dp[i - 1][j - arr[i - 1]]\n",
        "\n",
        "    return dp[n][k]\n",
        ""
      ],
      "metadata": {
        "id": "4t8HCJHZnFhU"
      },
      "execution_count": null,
      "outputs": []
    },
    {
      "cell_type": "markdown",
      "source": [
        "Partitions With Given Difference"
      ],
      "metadata": {
        "id": "6K4PrvbbnVIz"
      }
    },
    {
      "cell_type": "code",
      "source": [
        "from os import *\n",
        "from sys import *\n",
        "from collections import *\n",
        "from math import *\n",
        "\n",
        "from typing import List\n",
        "\n",
        "\n",
        "mod = 10**9 + 7\n",
        "\n",
        "def countPartitions(n: int, d: int, arr: List[int]):\n",
        "\n",
        "    # Stores the sum of all the elements in the array.\n",
        "    totalSum = 0\n",
        "\n",
        "    #  Iterate over the array and add the element to 'totalSum'.\n",
        "    for i in range(n):\n",
        "        totalSum += arr[i]\n",
        "\n",
        "    # If totalSum is less than 'D', or their difference is odd.\n",
        "    if (totalSum < d or (totalSum - d) % 2):\n",
        "        # Then no partitions are possible.\n",
        "        return 0\n",
        "\n",
        "    # We want to find the number of subsets, with subset sum target.\n",
        "    target = (totalSum - d) // 2\n",
        "\n",
        "    # Create a 2D dp table.\n",
        "    # dp[i][j] represents the number of subsets which form a sum of j\n",
        "    # if we only consider first i elements.\n",
        "\n",
        "    dp = [[0 for i in range(target + 1)] for j in range(n + 1)]\n",
        "\n",
        "    # If we want to find the number of subsets with sum 0,\n",
        "    # but considering 0 elements, only way is take an empty subset.\n",
        "    dp[0][0] = 1\n",
        "\n",
        "    for i in range(1, n + 1):\n",
        "\n",
        "        for j in range(target + 1):\n",
        "\n",
        "            # Take the entry from the previous row\n",
        "            dp[i][j] = dp[i - 1][j]\n",
        "\n",
        "            # If we include this element.\n",
        "            if (j >= arr[i - 1]):\n",
        "                dp[i][j] = (dp[i][j] + dp[i - 1][j - arr[i - 1]]) % mod\n",
        "\n",
        "    #  Return the answer\n",
        "    return dp[n][target]\n",
        "\n"
      ],
      "metadata": {
        "id": "1KD_AbSxnaE5"
      },
      "execution_count": null,
      "outputs": []
    },
    {
      "cell_type": "markdown",
      "source": [
        "Partition Equal Subset Sum"
      ],
      "metadata": {
        "id": "NTzCtcGKncx9"
      }
    },
    {
      "cell_type": "code",
      "source": [
        "def canPartition(arr, n):\n",
        "    total_sum = sum(arr)\n",
        "\n",
        "    # If the total sum is odd, it's not possible to partition into two equal subsets\n",
        "    if total_sum % 2 != 0:\n",
        "        return False\n",
        "\n",
        "    target_sum = total_sum // 2\n",
        "\n",
        "    # dp[i][j] represents whether a subset of the first i elements can form a sum of j\n",
        "    dp = [[False] * (target_sum + 1) for _ in range(n + 1)]\n",
        "\n",
        "    # Initialization\n",
        "    for i in range(n + 1):\n",
        "        dp[i][0] = True\n",
        "\n",
        "    # Filling the dp table\n",
        "    for i in range(1, n + 1):\n",
        "        for j in range(1, target_sum + 1):\n",
        "            dp[i][j] = dp[i - 1][j]\n",
        "            if j >= arr[i - 1]:\n",
        "                dp[i][j] = dp[i][j] or dp[i - 1][j - arr[i - 1]]\n",
        "\n",
        "    return dp[n][target_sum]\n",
        "\n"
      ],
      "metadata": {
        "id": "aRnDwRBOnh3P"
      },
      "execution_count": null,
      "outputs": []
    },
    {
      "cell_type": "markdown",
      "source": [
        "Count Subsets with Sum K"
      ],
      "metadata": {
        "id": "AJdPv00Hnkad"
      }
    },
    {
      "cell_type": "code",
      "source": [
        "from typing import List\n",
        "\n",
        "def findWays(arr: List[int], k: int) -> int:\n",
        "    MOD = 10**9 + 7\n",
        "    n = len(arr)\n",
        "\n",
        "    # dp[i][j] represents the number of ways to achieve sum j using the first i elements\n",
        "    dp = [[0] * (k + 1) for _ in range(n + 1)]\n",
        "\n",
        "    # Base case: There is one way to achieve sum 0 (by not choosing any element)\n",
        "    for i in range(n + 1):\n",
        "        dp[i][0] = 1\n",
        "\n",
        "    # Filling the dp table\n",
        "    for i in range(1, n + 1):\n",
        "        for j in range(k + 1):\n",
        "            dp[i][j] = dp[i - 1][j]\n",
        "            if j >= arr[i - 1]:\n",
        "                dp[i][j] = (dp[i][j] + dp[i - 1][j - arr[i - 1]]) % MOD\n",
        "\n",
        "    return dp[n][k]"
      ],
      "metadata": {
        "id": "kH-H1pTdnrb-"
      },
      "execution_count": null,
      "outputs": []
    },
    {
      "cell_type": "markdown",
      "source": [
        "0 1 knapsack"
      ],
      "metadata": {
        "id": "z49zvEVWntxI"
      }
    },
    {
      "cell_type": "code",
      "source": [
        "from sys import stdin\n",
        "\n",
        "def knapsack(weights, values, n, maxWeight) :\n",
        "    # Create a 2D array to store the results of subproblems\n",
        "    dp = [[0] * (maxWeight + 1) for _ in range(n + 1)]\n",
        "\n",
        "    # Build the dp array using bottom-up approach\n",
        "    for i in range(1, n + 1):\n",
        "        for j in range(1, maxWeight + 1):\n",
        "            # If the weight of the current item is less than or equal to the remaining weight\n",
        "            if weights[i - 1] <= j:\n",
        "                # Consider the maximum value between including and excluding the current item\n",
        "                dp[i][j] = max(values[i - 1] + dp[i - 1][j - weights[i - 1]], dp[i - 1][j])\n",
        "            else:\n",
        "                # If the weight of the current item is more than the remaining weight, exclude it\n",
        "                dp[i][j] = dp[i - 1][j]\n",
        "\n",
        "    return dp[n][maxWeight]\n",
        "\n",
        "# Read the number of test cases\n",
        "t = int(stdin.readline().rstrip())\n",
        "\n",
        "for _ in range(t):\n",
        "    # Read the number of items\n",
        "    n = int(stdin.readline().rstrip())\n",
        "\n",
        "    # Read the weights of items\n",
        "    weights = list(map(int, stdin.readline().rstrip().split()))\n",
        "\n",
        "    # Read the values associated with items\n",
        "    values = list(map(int, stdin.readline().rstrip().split()))\n",
        "\n",
        "    # Read the maximum weight the thief can carry\n",
        "    maxWeight = int(stdin.readline().rstrip())\n",
        "\n",
        "    # Print the maximum value that a thief can generate\n",
        "    print(knapsack(weights, values, n, maxWeight))\n",
        "\n"
      ],
      "metadata": {
        "id": "LadYJJB-n2j7"
      },
      "execution_count": null,
      "outputs": []
    },
    {
      "cell_type": "markdown",
      "source": [
        "minimum Element"
      ],
      "metadata": {
        "id": "Om65kRRan4d4"
      }
    },
    {
      "cell_type": "code",
      "source": [
        "from os import *\n",
        "from sys import *\n",
        "from collections import *\n",
        "from math import *\n",
        "\n",
        "from typing import List\n",
        "\n",
        "\n",
        "def minimumElements(nums: List[int], x: int) -> int:\n",
        "    n = len(nums)\n",
        "\n",
        "    # dp[i][j] represents the minimum number of elements needed to achieve the sum j\n",
        "    dp = [[float('inf')] * (x + 1) for _ in range(n + 1)]\n",
        "\n",
        "    # Initialize base case\n",
        "    for i in range(n + 1):\n",
        "        dp[i][0] = 0\n",
        "\n",
        "    # Build the dp array\n",
        "    for i in range(1, n + 1):\n",
        "        for j in range(1, x + 1):\n",
        "            # If the current element is less than or equal to the target sum\n",
        "            if nums[i - 1] <= j:\n",
        "                dp[i][j] = min(dp[i - 1][j], dp[i][j - nums[i - 1]] + 1)\n",
        "            else:\n",
        "                dp[i][j] = dp[i - 1][j]\n",
        "\n",
        "    # Check if it's possible to achieve the target sum\n",
        "    if dp[n][x] == float('inf'):\n",
        "        return -1\n",
        "    else:\n",
        "        return dp[n][x]"
      ],
      "metadata": {
        "id": "5L-kLYqNn_Vz"
      },
      "execution_count": null,
      "outputs": []
    },
    {
      "cell_type": "markdown",
      "source": [
        "Longest Common Subsequence"
      ],
      "metadata": {
        "id": "mdOz29kwoAKk"
      }
    },
    {
      "cell_type": "code",
      "source": [
        "\n",
        "from sys import stdin\n",
        "\n",
        "def lcs(s, t) :\n",
        "\t#Your code goes here\n",
        "\n",
        "    m, n = len(s), len(t)\n",
        "\n",
        "    # Initialize a 2D array to store the length of LCS\n",
        "    dp = [[0] * (n + 1) for _ in range(m + 1)]\n",
        "\n",
        "    # Build the dp array\n",
        "    for i in range(1, m + 1):\n",
        "        for j in range(1, n + 1):\n",
        "            if s[i - 1] == t[j - 1]:\n",
        "                dp[i][j] = dp[i - 1][j - 1] + 1\n",
        "            else:\n",
        "                dp[i][j] = max(dp[i - 1][j], dp[i][j - 1])\n",
        "\n",
        "    # The length of LCS is stored in dp[m][n]\n",
        "    return dp[m][n]"
      ],
      "metadata": {
        "id": "vchC0Pk1oEpy"
      },
      "execution_count": null,
      "outputs": []
    },
    {
      "cell_type": "markdown",
      "source": [
        "Longest Increasing Subsequence"
      ],
      "metadata": {
        "id": "P50B8R42oHD4"
      }
    },
    {
      "cell_type": "code",
      "source": [
        "from sys import stdin\n",
        "import sys\n",
        "sys.setrecursionlimit(10**7)\n",
        "\n",
        "def ceilIndex(dp, l, r, key):\n",
        "    while (r - l > 1):\n",
        "        m = l + (r - l)//2\n",
        "        if (dp[m] >= key):\n",
        "            r = m\n",
        "        else:\n",
        "            l = m\n",
        "\n",
        "    return r\n",
        "\n",
        "\n",
        "\n",
        "def longestIncreasingSubsequence(arr, n) :\n",
        "# Creating dp list of size n + 1\n",
        "    dp = [0 for i in range(n + 1)]\n",
        "\n",
        "    dp[0] = arr[0]\n",
        "    # As Subsequence of length 1 is always considered\n",
        "    le = 1\n",
        "    for i in range(1, n):\n",
        "        if (arr[i] < dp[0]):\n",
        "            # new smallest value\n",
        "            dp[0] = arr[i]\n",
        "\n",
        "        elif (arr[i] > dp[le-1]):\n",
        "            # arr[i] wants to extend\n",
        "            #largest subsequence\n",
        "            dp[le] = arr[i]\n",
        "            le+= 1\n",
        "        else:\n",
        "            # arr[i] wants to be current\n",
        "            # end candidate of an existing\n",
        "            # subsequence. It will replace\n",
        "            # ceil value in tailTable\n",
        "            dp[ceilIndex(dp, -1, le-1, arr[i])] = arr[i]\n",
        "\n",
        "    return le\n",
        "\n",
        "\n",
        "#taking inpit using fast I/O\n",
        "def takeInput() :\n",
        "    n = int(input())\n",
        "\n",
        "    if n==0 :\n",
        "        return list(), n\n",
        "\n",
        "    arr = list(map(int, stdin.readline().strip().split(\" \")))\n",
        "\n",
        "    return arr, n\n",
        "\n",
        "\n",
        "#main\n",
        "arr, n = takeInput()\n",
        "print(longestIncreasingSubsequence(arr, n))\n",
        "'''\n",
        "def longestIncreasingSubsequence(arr, n):\n",
        "    lis = [1] * n\n",
        "\n",
        "    for i in range(1, n):\n",
        "        for j in range(0, i):\n",
        "            if arr[i] > arr[j] and lis[i] < lis[j] + 1:\n",
        "                lis[i] = lis[j] + 1\n",
        "\n",
        "    return max(lis)\n",
        "\n",
        "\n",
        "\n",
        "#taking inpit using fast I/O\n",
        "def takeInput() :\n",
        "    n = int(input())\n",
        "\n",
        "    if n==0 :\n",
        "        return list(), n\n",
        "\n",
        "    arr = list(map(int, stdin.readline().strip().split(\" \")))\n",
        "\n",
        "    return arr, n\n",
        "\n",
        "\n",
        "#main\n",
        "arr, n = takeInput()\n",
        "print(longestIncreasingSubsequence(arr, n))\n",
        "\n",
        "'''"
      ],
      "metadata": {
        "id": "Tu_RLCI6oLyQ"
      },
      "execution_count": null,
      "outputs": []
    },
    {
      "cell_type": "markdown",
      "source": [
        "Longest Palindromic Subsequence"
      ],
      "metadata": {
        "id": "ZGhPmFxBoYIq"
      }
    },
    {
      "cell_type": "code",
      "source": [
        "from os import *\n",
        "from sys import *\n",
        "from collections import *\n",
        "from math import *\n",
        "\n",
        "def longestPalindromeSubsequence(s):\n",
        "    n = len(s)\n",
        "    dp = [[0] * n for _ in range(n)]\n",
        "\n",
        "    for i in range(n):\n",
        "        dp[i][i] = 1\n",
        "\n",
        "    for cl in range(2, n + 1):\n",
        "        for i in range(n - cl + 1):\n",
        "            j = i + cl - 1\n",
        "            if s[i] == s[j] and cl == 2:\n",
        "                dp[i][j] = 2\n",
        "            elif s[i] == s[j]:\n",
        "                dp[i][j] = dp[i + 1][j - 1] + 2\n",
        "            else:\n",
        "                dp[i][j] = max(dp[i][j - 1], dp[i + 1][j])\n",
        "\n",
        "    return dp[0][n - 1]"
      ],
      "metadata": {
        "id": "mh5JzQsaoYs5"
      },
      "execution_count": null,
      "outputs": []
    },
    {
      "cell_type": "markdown",
      "source": [
        "Matrix Chain Multiplication"
      ],
      "metadata": {
        "id": "sLsztUyGobX5"
      }
    },
    {
      "cell_type": "code",
      "source": [
        "from os import *\n",
        "from sys import *\n",
        "from collections import *\n",
        "from math import *\n",
        "\n",
        "def matrixMultiplication(arr, n):\n",
        "    # Initialize a 2D DP array to store the minimum cost\n",
        "    dp = [[0 for _ in range(n)] for _ in range(n)]\n",
        "\n",
        "    # Fill the dp array using bottom-up approach\n",
        "    for cl in range(2, n):\n",
        "        for i in range(1, n - cl + 1):\n",
        "            j = i + cl - 1\n",
        "            dp[i][j] = float('inf')\n",
        "            for k in range(i, j):\n",
        "                # Calculate the cost of multiplying matrices A[i...k] and A[k+1...j]\n",
        "                cost = dp[i][k] + dp[k + 1][j] + arr[i - 1] * arr[k] * arr[j]\n",
        "                dp[i][j] = min(dp[i][j], cost)\n",
        "\n",
        "    # The result is stored in dp[1][n-1]\n",
        "    return dp[1][n - 1]\n",
        "\n"
      ],
      "metadata": {
        "id": "2Qk1aA25og3x"
      },
      "execution_count": null,
      "outputs": []
    },
    {
      "cell_type": "markdown",
      "source": [
        "#Assignment\n",
        "\n",
        "\n",
        "Target Sum"
      ],
      "metadata": {
        "id": "IDqrG8DwonDW"
      }
    },
    {
      "cell_type": "code",
      "source": [
        "from os import *\n",
        "from sys import *\n",
        "from collections import *\n",
        "from math import *\n",
        "\n",
        "from typing import List\n",
        "\n",
        "\n",
        "def targetSum(arr: List[int], target: int) -> int:\n",
        "    if len(arr) == 0:\n",
        "        return 0\n",
        "\n",
        "    def helper(index, current_sum, memo):\n",
        "        # Check if we have reached the end of the array\n",
        "        if index == len(arr):\n",
        "            # If the current sum is equal to the target, return 1, else return 0\n",
        "            return 1 if current_sum == target else 0\n",
        "\n",
        "        # Use memoization to avoid redundant calculations\n",
        "        if (index, current_sum) in memo:\n",
        "            return memo[(index, current_sum)]\n",
        "\n",
        "        # Calculate the number of ways by considering both '+' and '-' options\n",
        "        ways = helper(index + 1, current_sum + arr[index], memo) + helper(index + 1, current_sum - arr[index], memo)\n",
        "\n",
        "        # Store the result in the memo dictionary\n",
        "        memo[(index, current_sum)] = ways\n",
        "\n",
        "        return ways\n",
        "\n",
        "    # Initialize the memoization dictionary\n",
        "    memo = defaultdict(int)\n",
        "\n",
        "    # Call the helper function starting from index 0 and current sum 0\n",
        "    return helper(0, 0, memo)"
      ],
      "metadata": {
        "id": "IVwLUln8orVm"
      },
      "execution_count": null,
      "outputs": []
    },
    {
      "cell_type": "markdown",
      "source": [
        "Maximum Product Subarray"
      ],
      "metadata": {
        "id": "950zfFskouha"
      }
    },
    {
      "cell_type": "code",
      "source": [
        "from os import *\n",
        "from sys import *\n",
        "from collections import *\n",
        "from math import *\n",
        "\n",
        "def maximumProduct(arr, n):\n",
        "    if n == 0:\n",
        "        return 0\n",
        "\n",
        "    max_product = min_product = result = arr[0]\n",
        "\n",
        "    for i in range(1, n):\n",
        "        if arr[i] < 0:\n",
        "            max_product, min_product = min_product, max_product\n",
        "\n",
        "        max_product = max(arr[i], max_product * arr[i])\n",
        "        min_product = min(arr[i], min_product * arr[i])\n",
        "\n",
        "        result = max(result, max_product)\n",
        "\n",
        "    return result\n"
      ],
      "metadata": {
        "id": "NbqBCrpso5P-"
      },
      "execution_count": null,
      "outputs": []
    },
    {
      "cell_type": "markdown",
      "source": [
        "Ways To Make Coin Change"
      ],
      "metadata": {
        "id": "gtLujkvJo_4V"
      }
    },
    {
      "cell_type": "code",
      "source": [
        "from sys import stdin,setrecursionlimit\n",
        "setrecursionlimit(10**7)\n",
        "def countWaysToMakeChange(denominations, value) :\n",
        "\n",
        "    dp = [0] * (value + 1)\n",
        "    dp[0] = 1  # There is one way to make change for 0\n",
        "\n",
        "    for coin in denominations:\n",
        "        for amount in range(coin, value + 1):\n",
        "            dp[amount] += dp[amount - coin]\n",
        "\n",
        "    return dp[value]\n",
        "\n",
        "\n",
        "\n",
        "\n",
        "#taking inpit using fast I/O\n",
        "def takeInput() :\n",
        "    numDenominations = int(input())\n",
        "\n",
        "    denominations = list(map(int, stdin.readline().strip().split(\" \")))\n",
        "\n",
        "    value = int(input())\n",
        "    return denominations, numDenominations, value\n",
        "\n",
        "\n",
        "#main\n",
        "denominations, numDenomination, value = takeInput()\n",
        "print((countWaysToMakeChange(denominations, value)))"
      ],
      "metadata": {
        "id": "NmY1lklApMdd"
      },
      "execution_count": null,
      "outputs": []
    },
    {
      "cell_type": "markdown",
      "source": [
        "Shortest common Supersequence"
      ],
      "metadata": {
        "id": "Jt2_I3j4pPcW"
      }
    },
    {
      "cell_type": "code",
      "source": [
        "from os import *\n",
        "from sys import *\n",
        "from collections import *\n",
        "from math import *\n",
        "\n",
        "def shortestSupersequence(a: str, b: str) -> str:\n",
        "    m, n = len(a), len(b)\n",
        "\n",
        "    dp = [[\"\" for _ in range(n + 1)] for _ in range(m + 1)]\n",
        "\n",
        "    for i in range(m + 1):\n",
        "        for j in range(n + 1):\n",
        "            if i == 0:\n",
        "                dp[i][j] = b[:j]\n",
        "            elif j == 0:\n",
        "                dp[i][j] = a[:i]\n",
        "            elif a[i - 1] == b[j - 1]:\n",
        "                dp[i][j] = dp[i - 1][j - 1] + a[i - 1]\n",
        "            else:\n",
        "                dp[i][j] = min(dp[i - 1][j] + a[i - 1], dp[i][j - 1] + b[j - 1], key=len)\n",
        "\n",
        "    return dp[m][n]"
      ],
      "metadata": {
        "id": "qBV3g34ophRr"
      },
      "execution_count": null,
      "outputs": []
    },
    {
      "cell_type": "markdown",
      "source": [
        "#Recursion 3\n",
        "\n",
        "#lecture\n",
        "\n",
        "Return Subsequences of String"
      ],
      "metadata": {
        "id": "ZXETHBB0popy"
      }
    },
    {
      "cell_type": "code",
      "source": [
        "def subsequences(string):\n",
        "    def helper(index, current, result):\n",
        "        # Base case: when we reach the end of the string\n",
        "        if index == len(string):\n",
        "            result.append(current)\n",
        "            return\n",
        "\n",
        "        # Include the current character in the subsequence\n",
        "        helper(index + 1, current + string[index], result)\n",
        "\n",
        "        # Exclude the current character from the subsequence\n",
        "        helper(index + 1, current, result)\n",
        "\n",
        "    result = []\n",
        "    helper(0, \"\", result)\n",
        "    return result\n",
        "\n",
        "string = input()\n",
        "ans = subsequences(string)\n",
        "for ele in ans:\n",
        "    print(ele)"
      ],
      "metadata": {
        "id": "8KQcYAYKprVP"
      },
      "execution_count": null,
      "outputs": []
    },
    {
      "cell_type": "markdown",
      "source": [
        "Return Keypad"
      ],
      "metadata": {
        "id": "RN49NVgCqb2s"
      }
    },
    {
      "cell_type": "code",
      "source": [
        "def keypad(n):\n",
        "    # Mapping of digits to corresponding characters on the phone keypad\n",
        "    keypad_map = {\n",
        "        '2': 'abc',\n",
        "        '3': 'def',\n",
        "        '4': 'ghi',\n",
        "        '5': 'jkl',\n",
        "        '6': 'mno',\n",
        "        '7': 'pqrs',\n",
        "        '8': 'tuv',\n",
        "        '9': 'wxyz'\n",
        "    }\n",
        "\n",
        "    def helper(index, current, result):\n",
        "        # Base case: when we reach the end of the input n\n",
        "        if index == len(n):\n",
        "            result.append(current)\n",
        "            return\n",
        "\n",
        "        # Get the characters corresponding to the current digit\n",
        "        digit = n[index]\n",
        "        characters = keypad_map.get(digit, '')\n",
        "\n",
        "        # Recursively generate strings for the remaining digits\n",
        "        for char in characters:\n",
        "            helper(index + 1, current + char, result)\n",
        "\n",
        "    result = []\n",
        "    helper(0, '', result)\n",
        "    return result\n",
        "\n",
        "# Input reading and function invocation\n",
        "n = input()\n",
        "ans = keypad(n)\n",
        "for s in ans:\n",
        "    print(s)"
      ],
      "metadata": {
        "id": "AtDgpg8Vqez-"
      },
      "execution_count": null,
      "outputs": []
    },
    {
      "cell_type": "markdown",
      "source": [
        "Print Subsequence"
      ],
      "metadata": {
        "id": "GXbSNR0cqgLo"
      }
    },
    {
      "cell_type": "code",
      "source": [
        "## Read input as specified in the question.\n",
        "## Print output as specified in the question.\n",
        "def subsequences(string):\n",
        "    def helper(index, current):\n",
        "        # Base case: when we reach the end of the string\n",
        "        if index == len(string):\n",
        "            print(current)\n",
        "            return\n",
        "\n",
        "        # Include the current character in the subsequence\n",
        "        helper(index + 1, current + string[index])\n",
        "\n",
        "        # Exclude the current character from the subsequence\n",
        "        helper(index + 1, current)\n",
        "\n",
        "    helper(0, \"\")\n",
        "\n",
        "# Input reading and function invocation\n",
        "string = input()\n",
        "subsequences(string)"
      ],
      "metadata": {
        "id": "w-Kdq2wrqq2N"
      },
      "execution_count": null,
      "outputs": []
    },
    {
      "cell_type": "markdown",
      "source": [
        "Print Keypad"
      ],
      "metadata": {
        "id": "oZ7hqvG2qtSI"
      }
    },
    {
      "cell_type": "code",
      "source": [
        "from math import *\n",
        "from collections import *\n",
        "from sys import *\n",
        "from os import *\n",
        "\n",
        "## Read input as specified in the question.\n",
        "## Print output as specified in the question.\n",
        "def keypad(n):\n",
        "    # Mapping of digits to corresponding characters on the phone keypad\n",
        "    keypad_map = {\n",
        "        '2': 'abc',\n",
        "        '3': 'def',\n",
        "        '4': 'ghi',\n",
        "        '5': 'jkl',\n",
        "        '6': 'mno',\n",
        "        '7': 'pqrs',\n",
        "        '8': 'tuv',\n",
        "        '9': 'wxyz'\n",
        "    }\n",
        "\n",
        "    def helper(index, current):\n",
        "        # Base case: when we reach the end of the input n\n",
        "        if index == len(n):\n",
        "            print(current)\n",
        "            return\n",
        "\n",
        "        # Get the characters corresponding to the current digit\n",
        "        digit = n[index]\n",
        "        characters = keypad_map.get(digit, '')\n",
        "\n",
        "        # Recursively generate strings for the remaining digits\n",
        "        for char in characters:\n",
        "            helper(index + 1, current + char)\n",
        "\n",
        "    helper(0, '')\n",
        "\n",
        "# Input reading and function invocation\n",
        "n = input()\n",
        "keypad(n)"
      ],
      "metadata": {
        "id": "p2W5ePgUq0KZ"
      },
      "execution_count": null,
      "outputs": []
    },
    {
      "cell_type": "markdown",
      "source": [
        "#Assignment\n",
        "\n",
        "Return subsets sum to K"
      ],
      "metadata": {
        "id": "IX8ooBXzq5Pp"
      }
    },
    {
      "cell_type": "code",
      "source": [
        "import sys\n",
        "sys.setrecursionlimit(10 ** 8)\n",
        "\n",
        "def subsetsSumKHelper(arr, k, index, currentSubset, result):\n",
        "    # Base case: If the current subset's sum is equal to K, add it to the result\n",
        "    if sum(currentSubset) == k:\n",
        "        result.append(currentSubset[:])\n",
        "\n",
        "    # Recursive case: Include the current element and explore further\n",
        "    for i in range(index, len(arr)):\n",
        "        currentSubset.append(arr[i])\n",
        "        subsetsSumKHelper(arr, k, i + 1, currentSubset, result)\n",
        "        currentSubset.pop()  # Backtrack\n",
        "\n",
        "def subsetsSumK(arr, k):\n",
        "    result = []\n",
        "    subsetsSumKHelper(arr, k, 0, [], result)\n",
        "    return result\n",
        "\n",
        "# Taking input\n",
        "def takeInput():\n",
        "    n = int(input().strip())\n",
        "\n",
        "    if n == 0:\n",
        "        return list(), 0\n",
        "\n",
        "    arr = [int(element) for element in list(input().strip().split(\" \"))]\n",
        "    return arr, n\n",
        "\n",
        "# Printing the list of lists\n",
        "def printListOfList(liOfLi):\n",
        "    for li in liOfLi:\n",
        "        for elem in li:\n",
        "            print(elem, end=\" \")\n",
        "        print()\n",
        "\n",
        "# Main\n",
        "arr, n = takeInput()\n",
        "\n",
        "if n != 0:\n",
        "    k = int(input().strip())\n",
        "    liOfLi = subsetsSumK(arr, k)\n",
        "\n",
        "    printListOfList(liOfLi)\n"
      ],
      "metadata": {
        "id": "7HbTAcRMrAam"
      },
      "execution_count": null,
      "outputs": []
    },
    {
      "cell_type": "markdown",
      "source": [
        "Return subset of an Array"
      ],
      "metadata": {
        "id": "fgt4lDOPrDfU"
      }
    },
    {
      "cell_type": "code",
      "source": [
        "from math import *\n",
        "from collections import *\n",
        "from sys import *\n",
        "from os import *\n",
        "\n",
        "## Read input as specified in the question.\n",
        "## Print output as specified in the question.\n",
        "def all_subsets(arr, index, current_subset, result):\n",
        "    # Base case: when we reach the end of the array\n",
        "    if index == len(arr):\n",
        "        result.append(current_subset[:])\n",
        "        return\n",
        "\n",
        "    # Recursive case 1: Exclude the current element\n",
        "    all_subsets(arr, index + 1, current_subset, result)\n",
        "\n",
        "    # Recursive case 2: Include the current element\n",
        "    current_subset.append(arr[index])\n",
        "    all_subsets(arr, index + 1, current_subset, result)\n",
        "\n",
        "    # Backtrack to maintain the order of elements\n",
        "    current_subset.pop()\n",
        "\n",
        "def find_all_subsets(arr):\n",
        "    result = []\n",
        "    all_subsets(arr, 0, [], result)\n",
        "    return result\n",
        "\n",
        "# Taking input\n",
        "def take_input():\n",
        "    n = int(input().strip())\n",
        "\n",
        "    if n == 0:\n",
        "        return list()\n",
        "\n",
        "    arr = [int(element) for element in input().strip().split(\" \")]\n",
        "    return arr\n",
        "\n",
        "# Main\n",
        "arr = take_input()\n",
        "subsets = find_all_subsets(arr)\n",
        "\n",
        "# Printing the subsets\n",
        "for subset in subsets:\n",
        "    print(\" \".join(map(str, subset)))\n"
      ],
      "metadata": {
        "id": "6cEUyg-5rKfk"
      },
      "execution_count": null,
      "outputs": []
    },
    {
      "cell_type": "markdown",
      "source": [
        "Return Permutation of a String"
      ],
      "metadata": {
        "id": "4hm7UoFXrNye"
      }
    },
    {
      "cell_type": "code",
      "source": [
        "\n",
        "def all_permutations(s, index, current_permutation, result):\n",
        "    # Base case: when we reach the end of the string\n",
        "    if index == len(s):\n",
        "        result.append(current_permutation)\n",
        "        return\n",
        "\n",
        "    # Recursive case: Try each character in the remaining positions\n",
        "    for i in range(index, len(s)):\n",
        "        # Swap the characters at index and i\n",
        "        s_list = list(current_permutation)\n",
        "        s_list[index], s_list[i] = s_list[i], s_list[index]\n",
        "        updated_permutation = ''.join(s_list)\n",
        "\n",
        "        # Recur with the updated permutation and the next index\n",
        "        all_permutations(s, index + 1, updated_permutation, result)\n",
        "\n",
        "def find_all_permutations(s):\n",
        "    result = []\n",
        "    all_permutations(s, 0, s, result)\n",
        "    return result\n",
        "\n",
        "# Taking input\n",
        "def take_input():\n",
        "    s = input().strip()\n",
        "    return s\n",
        "\n",
        "# Main\n",
        "input_string = take_input()\n",
        "permutations = find_all_permutations(input_string)\n",
        "\n",
        "# Printing the permutations\n",
        "for permutation in permutations:\n",
        "    print(permutation)"
      ],
      "metadata": {
        "id": "Dsh_qmMrrVTa"
      },
      "execution_count": null,
      "outputs": []
    },
    {
      "cell_type": "markdown",
      "source": [
        "Get All Unique subsets"
      ],
      "metadata": {
        "id": "ICULY0gdrXI0"
      }
    },
    {
      "cell_type": "code",
      "source": [
        "from typing import List\n",
        "\n",
        "class Solution:\n",
        "    def subsetsWithDup(self, nums: List[int]) -> List[List[int]]:\n",
        "        def generate_subsets(index, current_subset):\n",
        "            result.append(current_subset[:])\n",
        "\n",
        "            for i in range(index, len(nums)):\n",
        "                # Skip duplicates to avoid duplicate subsets\n",
        "                if i > index and nums[i] == nums[i-1]:\n",
        "                    continue\n",
        "                current_subset.append(nums[i])\n",
        "                generate_subsets(i + 1, current_subset)\n",
        "                current_subset.pop()\n",
        "\n",
        "        nums.sort()  # Sort the array to handle duplicates\n",
        "        result = []\n",
        "        generate_subsets(0, [])\n",
        "        return result\n",
        "\n",
        "if __name__ == \"__main__\":\n",
        "    n = int(input())\n",
        "    nums = list(map(int, input().split()))\n",
        "    obj = Solution()\n",
        "    ans = obj.subsetsWithDup(nums)\n",
        "\n",
        "    for i in range(len(ans)):\n",
        "        for j in range(len(ans[i])):\n",
        "            print(ans[i][j], end=\" \")\n",
        "        print()"
      ],
      "metadata": {
        "id": "RCDPXhBrrfQT"
      },
      "execution_count": null,
      "outputs": []
    },
    {
      "cell_type": "markdown",
      "source": [
        "Print subset Sum to k"
      ],
      "metadata": {
        "id": "8BnBqoiqrh7W"
      }
    },
    {
      "cell_type": "code",
      "source": [
        "from math import *\n",
        "from collections import *\n",
        "from sys import *\n",
        "from os import *\n",
        "\n",
        "## Read input as specified in the question.\n",
        "## Print output as specified in the question.\n",
        "def subsetsSumKHelper(arr, k, index, currentSubset):\n",
        "    # Base case: If the current subset's sum is equal to K, print it\n",
        "    if sum(currentSubset) == k:\n",
        "        print(*currentSubset)\n",
        "\n",
        "    # Recursive case: Include the current element and explore further\n",
        "    for i in range(index, len(arr)):\n",
        "        currentSubset.append(arr[i])\n",
        "        subsetsSumKHelper(arr, k, i + 1, currentSubset)\n",
        "        currentSubset.pop()  # Backtrack\n",
        "\n",
        "def subsetsSumK(arr, k):\n",
        "    subsetsSumKHelper(arr, k, 0, [])\n",
        "\n",
        "# Taking input\n",
        "def takeInput():\n",
        "    n = int(input().strip())\n",
        "\n",
        "    if n == 0:\n",
        "        return list(), 0\n",
        "\n",
        "    arr = [int(element) for element in list(input().strip().split(\" \"))]\n",
        "    return arr, n\n",
        "\n",
        "# Main\n",
        "arr, n = takeInput()\n",
        "\n",
        "if n != 0:\n",
        "    k = int(input().strip())\n",
        "    subsetsSumK(arr, k)\n"
      ],
      "metadata": {
        "id": "cb71CKyrrrFd"
      },
      "execution_count": null,
      "outputs": []
    },
    {
      "cell_type": "markdown",
      "source": [
        "Print Permutation of a String"
      ],
      "metadata": {
        "id": "wjV_dEgdrtSK"
      }
    },
    {
      "cell_type": "code",
      "source": [
        "def printPermutationsHelper(s, current_permutation):\n",
        "    # Base case: when the current permutation is complete\n",
        "    if not s:\n",
        "        print(current_permutation)\n",
        "        return\n",
        "\n",
        "    # Recursive case: Try each character in the remaining positions\n",
        "    for i in range(len(s)):\n",
        "        updated_permutation = current_permutation + s[i]\n",
        "        remaining_characters = s[:i] + s[i + 1:]\n",
        "        printPermutationsHelper(remaining_characters, updated_permutation)\n",
        "\n",
        "def printPermutations(string):\n",
        "    printPermutationsHelper(string, \"\")\n",
        "\n",
        "# Taking input\n",
        "string = input()\n",
        "printPermutations(string)"
      ],
      "metadata": {
        "id": "yB_r7l7Cr1dk"
      },
      "execution_count": null,
      "outputs": []
    },
    {
      "cell_type": "markdown",
      "source": [
        "#week 14\n",
        "\n",
        "#Backtracking\n",
        "\n",
        "lecture"
      ],
      "metadata": {
        "id": "y2jOS3yCr_9i"
      }
    },
    {
      "cell_type": "markdown",
      "source": [
        "Rat in Maze"
      ],
      "metadata": {
        "id": "nz1EqNWosKBa"
      }
    },
    {
      "cell_type": "code",
      "source": [
        "\n",
        "def isValidMove(y, x, arr, visited):\n",
        "\n",
        "    if x == -1 or x == len(arr) or y == -1 or y == len(arr) or visited[y][x] or arr[y][x] == 0:\n",
        "        return False\n",
        "\n",
        "    return True\n",
        "\n",
        "def printPathUtil(arr, y, x, path, pathList, visited):\n",
        "\n",
        "    # This will check the initial point(i.e. (0, 0)) to start the paths.\n",
        "    if x == -1 or x == len(arr) or y == -1 or y == len(arr) or visited[y][x] or arr[y][x] == 0:\n",
        "        return\n",
        "\n",
        "    # If reach the last cell (n-1, n-1) then store the path and return.\n",
        "    if x == len(arr) - 1 and y == len(arr) - 1:\n",
        "        pathList.append(path)\n",
        "        return\n",
        "\n",
        "    visited[y][x] = True\n",
        "\n",
        "    # Try for all the 4 directions (down, left, right, up)\n",
        "    # in the given order to get the paths in lexicographical order.\n",
        "\n",
        "    if isValidMove(y + 1, x, arr, visited):\n",
        "        path += 'D'\n",
        "        printPathUtil(arr, y + 1, x, path, pathList, visited)\n",
        "        path = path[:-1]\n",
        "\n",
        "    if isValidMove(y, x - 1, arr, visited):\n",
        "        path += 'L'\n",
        "        printPathUtil(arr, y, x - 1 , path, pathList, visited)\n",
        "        path = path[:-1]\n",
        "\n",
        "    if isValidMove(y, x + 1, arr, visited):\n",
        "        path += 'R'\n",
        "        printPathUtil(arr, y, x + 1 , path, pathList, visited)\n",
        "        path = path[:-1]\n",
        "\n",
        "    if isValidMove(y - 1, x, arr, visited):\n",
        "        path += 'U'\n",
        "        printPathUtil(arr, y - 1, x, path, pathList, visited)\n",
        "        path = path[:-1]\n",
        "\n",
        "    # Mark the cell as unvisited for other possible paths.\n",
        "    visited[y][x] = False\n",
        "\n",
        "\n",
        "def searchMaze(arr, n):\n",
        "\n",
        "    # List to store all the possible paths.\n",
        "    possiblePaths = []\n",
        "    path = \"\"\n",
        "    visited = [[False for _ in range(n)]\n",
        "                      for _ in range(n)]\n",
        "\n",
        "    printPathUtil(arr, 0, 0, path, possiblePaths, visited)\n",
        "\n",
        "    return possiblePaths"
      ],
      "metadata": {
        "id": "3BtGOUDbsJB_"
      },
      "execution_count": null,
      "outputs": []
    },
    {
      "cell_type": "markdown",
      "source": [
        "Word Search - I"
      ],
      "metadata": {
        "id": "9u2OnconsVSO"
      }
    },
    {
      "cell_type": "code",
      "source": [
        "from typing import List\n",
        "\n",
        "def dfs(i: int, j: int, n: int, m: int, board: List[List[str]], word: str, k: int) -> bool:\n",
        "    # Check if the word has been found.\n",
        "    if k == len(word):\n",
        "        return True\n",
        "\n",
        "    # Check if the current position is out of bounds or the cell is visited or doesn't match the current letter.\n",
        "    elif i < 0 or i == n or j < 0 or j == m or board[i][j] == '#' or board[i][j] != word[k]:\n",
        "        return False\n",
        "    else:\n",
        "        # Store the value of the current cell.\n",
        "        temp = board[i][j]\n",
        "\n",
        "        # Mark the current cell as visited.\n",
        "        board[i][j] = '#'\n",
        "\n",
        "        # Recursively call dfs for the neighboring cells.\n",
        "        op1 = dfs(i + 1, j, n, m, board, word, k + 1)\n",
        "        op2 = dfs(i, j + 1, n, m, board, word, k + 1)\n",
        "        op3 = dfs(i - 1, j, n, m, board, word, k + 1)\n",
        "        op4 = dfs(i, j - 1, n, m, board, word, k + 1)\n",
        "\n",
        "        # Restore the original value of the current cell.\n",
        "        board[i][j] = temp\n",
        "\n",
        "        # Return True if any of the neighboring cells found the word.\n",
        "        return op1 or op2 or op3 or op4\n",
        "\n",
        "\n",
        "def present(board: List[List[str]], word: str, n: int, m: int) -> bool:\n",
        "    # Number of rows and columns in the board.\n",
        "    n, m = len(board), len(board[0])\n",
        "\n",
        "    # Checking for each cell on the board.\n",
        "    for i in range(n):\n",
        "        for j in range(m):\n",
        "            # If the first letter matches.\n",
        "            if board[i][j] == word[0]:\n",
        "                # Call dfs function to check if the word can be formed starting from the current cell.\n",
        "                if dfs(i, j, n, m, board, word, 0):\n",
        "                    return True\n",
        "\n",
        "    # Word not found on the board.\n",
        "    return False\n"
      ],
      "metadata": {
        "id": "dBAbHdT1sezl"
      },
      "execution_count": null,
      "outputs": []
    },
    {
      "cell_type": "markdown",
      "source": [
        "N Queens"
      ],
      "metadata": {
        "id": "FMazBr8Ish73"
      }
    },
    {
      "cell_type": "code",
      "source": [
        "def solveNQueens(n):\n",
        "    def is_safe(board, row, col):\n",
        "        # Check if there is a queen in the same column\n",
        "        for i in range(row):\n",
        "            if board[i][col] == 1:\n",
        "                return False\n",
        "\n",
        "        # Check if there is a queen in the left diagonal\n",
        "        for i, j in zip(range(row, -1, -1), range(col, -1, -1)):\n",
        "            if board[i][j] == 1:\n",
        "                return False\n",
        "\n",
        "        # Check if there is a queen in the right diagonal\n",
        "        for i, j in zip(range(row, -1, -1), range(col, n)):\n",
        "            if board[i][j] == 1:\n",
        "                return False\n",
        "\n",
        "        return True\n",
        "\n",
        "    def solve(board, row):\n",
        "        if row == n:\n",
        "            # If reached the end of the board, add the current configuration to the result\n",
        "            result.append([' '.join(map(str, row)) for row in board])\n",
        "            return\n",
        "\n",
        "        for col in range(n):\n",
        "            if is_safe(board, row, col):\n",
        "                # Place the queen\n",
        "                board[row][col] = 1\n",
        "                # Recur for the next row\n",
        "                solve(board, row + 1)\n",
        "                # Backtrack and remove the queen if the current placement doesn't lead to a solution\n",
        "                board[row][col] = 0\n",
        "\n",
        "    result = []\n",
        "    board = [[0] * n for _ in range(n)]\n",
        "    solve(board, 0)\n",
        "\n",
        "    return result"
      ],
      "metadata": {
        "id": "Tfu7yla8spt8"
      },
      "execution_count": null,
      "outputs": []
    },
    {
      "cell_type": "markdown",
      "source": [
        "#Assignment\n",
        "\n",
        "Reach the Destination"
      ],
      "metadata": {
        "id": "rcOfP1bAstK0"
      }
    },
    {
      "cell_type": "code",
      "source": [
        "def reachDestination(sx, sy, dx, dy):\n",
        "    # Base case: If source is already at destination\n",
        "    if sx == dx and sy == dy:\n",
        "        return True\n",
        "\n",
        "    # Check if destination is reachable using valid moves\n",
        "    if dx < sx or dy < sy:\n",
        "        return False\n",
        "\n",
        "    # Check if dx > dy and make a recursive call accordingly\n",
        "    if dx > dy:\n",
        "        return reachDestination(sx, sy, dx - dy, dy)\n",
        "    else:\n",
        "        return reachDestination(sx, sy, dx, dy - dx)"
      ],
      "metadata": {
        "id": "JEsIpdels7OZ"
      },
      "execution_count": null,
      "outputs": []
    },
    {
      "cell_type": "markdown",
      "source": [
        "Ninja And His dessert"
      ],
      "metadata": {
        "id": "qpl8qfxjs8dZ"
      }
    },
    {
      "cell_type": "code",
      "source": [
        "from os import *\n",
        "from sys import *\n",
        "from collections import *\n",
        "from math import *\n",
        "\n",
        "def close(a, b, target):\n",
        "    if a == 0:\n",
        "        return b\n",
        "    if b == 0:\n",
        "        return a\n",
        "\n",
        "    # If both are equally closest return the lower price.\n",
        "    if abs(target - a) == abs(target - b):\n",
        "        return a if a < b else b\n",
        "\n",
        "    return a if abs(target - a) < abs(target - b) else b\n",
        "\n",
        "# Function to find closest price possible for a specific flavor.\n",
        "def dfs(top, i, sum, target):\n",
        "\n",
        "    if i >= len(top):\n",
        "        return sum\n",
        "\n",
        "    # Base + one topping.\n",
        "    a = dfs(top, i + 1, sum + top[i], target)\n",
        "\n",
        "    # Base + two toppings.\n",
        "    b = dfs(top, i + 1, sum + top[i] * 2, target)\n",
        "\n",
        "    # Only base.\n",
        "    c = dfs(top, i + 1, sum, target)\n",
        "\n",
        "    # Return the closest.\n",
        "    sum = close(a, close(b, c, target), target)\n",
        "\n",
        "    return sum\n",
        "\n",
        "\n",
        "\n",
        "def closestCost(n, m, baseCosts, toppingsCost, target):\n",
        "    ans = 0\n",
        "\n",
        "    for i in range(n):\n",
        "        ans = close(dfs(toppingsCost, 0, baseCosts[i], target), ans, target)\n",
        "    return ans"
      ],
      "metadata": {
        "id": "VLxMlmhOtGRu"
      },
      "execution_count": null,
      "outputs": []
    },
    {
      "cell_type": "markdown",
      "source": [
        "Combination Sum"
      ],
      "metadata": {
        "id": "EMN8i7CltJk3"
      }
    },
    {
      "cell_type": "code",
      "source": [
        "from os import *\n",
        "from sys import *\n",
        "from collections import *\n",
        "from math import *\n",
        "\n",
        "from copy import copy\n",
        "\n",
        "def solve(result, currIndex, currSum, currList, B, ARR):\n",
        "    # If current sum equals B, add the current list to the result\n",
        "    if currSum == B:\n",
        "        result.append(copy(currList))\n",
        "        return\n",
        "\n",
        "    # If we have explored all elements or the current sum exceeds B, stop\n",
        "    if currIndex == len(ARR):\n",
        "        return\n",
        "\n",
        "    # Recurse without including the current element\n",
        "    solve(result, currIndex + 1, currSum, currList, B, ARR)\n",
        "\n",
        "    count = 0\n",
        "\n",
        "    # While current sum is less than or equal to B\n",
        "    while currSum <= B:\n",
        "        count += 1\n",
        "        currSum += ARR[currIndex]\n",
        "        currList.append(ARR[currIndex])\n",
        "\n",
        "        # Recurse with the current element included\n",
        "        solve(result, currIndex + 1, currSum, currList, B, ARR)\n",
        "\n",
        "    # Backtrack: Remove ARR[currIndex] from currList 'count' number of times\n",
        "    while count:\n",
        "        currList.pop()\n",
        "        count -= 1\n",
        "\n",
        "def combSum(ARR, B):\n",
        "    ARR.sort()  # Sort the input array\n",
        "\n",
        "    result = []   # List to store all valid combinations\n",
        "    currList = []  # Current combination being formed\n",
        "\n",
        "    # Call the solve function to find combinations\n",
        "    solve(result, 0, 0, currList, B, ARR)\n",
        "\n",
        "    return result"
      ],
      "metadata": {
        "id": "gbHJvoTLtPBZ"
      },
      "execution_count": null,
      "outputs": []
    },
    {
      "cell_type": "markdown",
      "source": [
        "Palindrome Partitioning"
      ],
      "metadata": {
        "id": "mZ4V4Gt0tRPV"
      }
    },
    {
      "cell_type": "code",
      "source": [
        "from os import *\n",
        "from sys import *\n",
        "from collections import *\n",
        "from math import *\n",
        "\n",
        "from sys import stdin\n",
        "import json\n",
        "def is_palindrome(substring):\n",
        "    return substring == substring[::-1]\n",
        "\n",
        "def partition_helper(s, start, path, result):\n",
        "    if start == len(s):\n",
        "        result.append(path.copy())\n",
        "        return\n",
        "\n",
        "    for end in range(start + 1, len(s) + 1):\n",
        "        substring = s[start:end]\n",
        "        if is_palindrome(substring):\n",
        "            path.append(substring)\n",
        "            partition_helper(s, end, path, result)\n",
        "            path.pop()\n",
        "\n",
        "def partition(s):\n",
        "    result = []\n",
        "    partition_helper(s, 0, [], result)\n",
        "    return result\n",
        "\n",
        "# Read input\n",
        "s = stdin.readline().rstrip()\n",
        "\n",
        "# Get the partitions\n",
        "final = partition(s)\n",
        "\n",
        "# Print the partitions\n",
        "for ele in final:\n",
        "    ele = sorted(ele)\n",
        "    print(json.dumps(ele))\n",
        "\n"
      ],
      "metadata": {
        "id": "mtcUA-ultWKM"
      },
      "execution_count": null,
      "outputs": []
    },
    {
      "cell_type": "markdown",
      "source": [
        "Valid Sudoku"
      ],
      "metadata": {
        "id": "zLMXaA1dtZCb"
      }
    },
    {
      "cell_type": "code",
      "source": [
        "# solution.py\n",
        "\n",
        "def isItSudoku(matrix):\n",
        "    def is_valid(num, row, col):\n",
        "        if num in matrix[row]:\n",
        "            return False\n",
        "\n",
        "        if num in [matrix[i][col] for i in range(9)]:\n",
        "            return False\n",
        "\n",
        "        sub_row, sub_col = 3 * (row // 3), 3 * (col // 3)\n",
        "        for i in range(sub_row, sub_row + 3):\n",
        "            for j in range(sub_col, sub_col + 3):\n",
        "                if matrix[i][j] == num:\n",
        "                    return False\n",
        "        return True\n",
        "\n",
        "    for i in range(9):\n",
        "        for j in range(9):\n",
        "            if matrix[i][j] == 0:\n",
        "                for num in range(1, 10):\n",
        "                    if is_valid(num, i, j):\n",
        "                        matrix[i][j] = num\n",
        "                        if isItSudoku(matrix):\n",
        "                            return True\n",
        "                        matrix[i][j] = 0\n",
        "                return False\n",
        "    return True"
      ],
      "metadata": {
        "id": "0FayMQestgwD"
      },
      "execution_count": null,
      "outputs": []
    },
    {
      "cell_type": "markdown",
      "source": [
        "Rat In a Maze All paths"
      ],
      "metadata": {
        "id": "bnH1s2XWtisb"
      }
    },
    {
      "cell_type": "code",
      "source": [
        "\n",
        "import queue\n",
        "from sys import stdin\n",
        "\n",
        "def ratInAMaze(maze , n):\n",
        "    # Initialize the 'SOLUTION' matrix by all 0s.\n",
        "    solution = [[0 for j in range(n)] for i in range (n)]\n",
        "\n",
        "    # Final call to function to print the solutions.\n",
        "    solveMaze(maze, solution, 0, 0, n)\n",
        "\n",
        "def solveMaze(maze, solution, x, y, n):\n",
        "    # Base case that we reach our destination.\n",
        "    if(x == n-1 and y == n-1):\n",
        "        solution[x][y] = 1\n",
        "        printSolution(solution , n)\n",
        "        print(\"\")\n",
        "        return\n",
        "\n",
        "    # Condition of out of boundary of the maze.\n",
        "    if (x > n-1 or x < 0 or y > n-1 or y < 0):\n",
        "        return\n",
        "\n",
        "    \"\"\"\n",
        "       Condition for 'MAZE[x][y]==0' - if that particular cell is block.\n",
        "       'SOLUTION[x][y]'' == 1 - if it is already visited or already we go through it.\n",
        "    \"\"\"\n",
        "    if(x > n-1 or x < 0 or y > n-1 or y < 0 or maze[x][y] == 0 or solution[x][y] == 1):\n",
        "        return\n",
        "\n",
        "    # No problem comes in visiting this cell so visit it.\n",
        "    solution[x][y] = 1\n",
        "\n",
        "    # Recursive calls to all directions(call to function having same name with diff value of params).\n",
        "    # Up move.\n",
        "    solveMaze(maze, solution, x - 1, y , n)\n",
        "    # Down move.\n",
        "    solveMaze(maze, solution, x + 1, y , n)\n",
        "    # Left move.\n",
        "    solveMaze(maze, solution, x , y - 1 , n)\n",
        "    # Right move.\n",
        "    solveMaze(maze, solution, x, y + 1 , n)\n",
        "\n",
        "    # Backtracking if there is no further path exists.\n",
        "    solution[x][y] = 0\n",
        "\n",
        "# Function to print the matrix elements.\n",
        "def printSolution(solution , n):\n",
        "    for i in range(0 , n):\n",
        "        for j in range(0 , n):\n",
        "            print(solution[i][j] , end = \" \")\n",
        "\n",
        "# Main.\n",
        "n = int(input())\n",
        "maze = n*[0]\n",
        "\n",
        "for i in range(0 , n):\n",
        "    maze[i]=input().split()\n",
        "    maze[i]=[int(j) for j in maze[i]]\n",
        "\n",
        "ratInAMaze(maze , n)"
      ],
      "metadata": {
        "id": "GrwFwcmvtuxW"
      },
      "execution_count": null,
      "outputs": []
    },
    {
      "cell_type": "markdown",
      "source": [
        "#Graph-II\n",
        "\n",
        "#lecture"
      ],
      "metadata": {
        "id": "YicjWqt_t-Ql"
      }
    },
    {
      "cell_type": "markdown",
      "source": [
        "BFS Traversal"
      ],
      "metadata": {
        "id": "5mhUApnuuKmP"
      }
    },
    {
      "cell_type": "code",
      "source": [
        "\n",
        "from queue import Queue\n",
        "\n",
        "def bfsTraversal(graph, visited, start, vertices):\n",
        "    result = []\n",
        "    queue = Queue()\n",
        "    queue.put(start)\n",
        "    visited[start] = True\n",
        "\n",
        "    while not queue.empty():\n",
        "        current_vertex = queue.get()\n",
        "        result.append(current_vertex)\n",
        "\n",
        "        for neighbor in range(vertices):\n",
        "            if graph[current_vertex][neighbor] == 1 and not visited[neighbor]:\n",
        "                queue.put(neighbor)\n",
        "                visited[neighbor] = True\n",
        "\n",
        "    return result\n",
        "\n",
        "def printBFS(graph, vertices):\n",
        "    visited = [False] * vertices\n",
        "    final_result = []\n",
        "\n",
        "    for vertex in range(vertices):\n",
        "        if not visited[vertex]:\n",
        "            result = bfsTraversal(graph, visited, vertex, vertices)\n",
        "            final_result.extend(result)\n",
        "\n",
        "    for vertex in final_result:\n",
        "        print(vertex, end=\" \")\n",
        "\n",
        "# Input\n",
        "V, E = map(int, input().split())\n",
        "graph = [[0] * V for _ in range(V)]\n",
        "\n",
        "for _ in range(E):\n",
        "    a, b = map(int, input().split())\n",
        "    graph[a][b] = 1\n",
        "    graph[b][a] = 1\n",
        "\n",
        "# Output\n",
        "printBFS(graph, V)"
      ],
      "metadata": {
        "id": "ePkcxu34uHCZ"
      },
      "execution_count": null,
      "outputs": []
    },
    {
      "cell_type": "markdown",
      "source": [
        "Has Path"
      ],
      "metadata": {
        "id": "PcQvKRvuuZ_e"
      }
    },
    {
      "cell_type": "code",
      "source": [
        "from collections import deque\n",
        "\n",
        "def hasPath(graph, v1, v2):\n",
        "    queue = deque([v1])\n",
        "    visited = set()\n",
        "\n",
        "    while queue:\n",
        "        current = queue.popleft()\n",
        "        if current == v2:\n",
        "            return True\n",
        "\n",
        "        visited.add(current)\n",
        "\n",
        "        for neighbor in graph[current]:\n",
        "            if neighbor not in visited:\n",
        "                queue.append(neighbor)\n",
        "\n",
        "    return False\n",
        "\n",
        "def checkPathExists(graph, vertices, v1, v2):\n",
        "    return hasPath(graph, v1, v2)\n",
        "\n",
        "# Input\n",
        "V, E = map(int, input().split())\n",
        "graph = [[] for _ in range(V)]\n",
        "\n",
        "for _ in range(E):\n",
        "    a, b = map(int, input().split())\n",
        "    graph[a].append(b)\n",
        "    graph[b].append(a)\n",
        "\n",
        "v1, v2 = map(int, input().split())\n",
        "\n",
        "# Output\n",
        "result = checkPathExists(graph, V, v1, v2)\n",
        "print(str(result).lower())"
      ],
      "metadata": {
        "id": "yK9oIy1xubLI"
      },
      "execution_count": null,
      "outputs": []
    },
    {
      "cell_type": "markdown",
      "source": [
        "Get Path -DFS"
      ],
      "metadata": {
        "id": "8c5jQlL7ucmM"
      }
    },
    {
      "cell_type": "code",
      "source": [
        "from sys import stdin, setrecursionlimit\n",
        "setrecursionlimit(10**6)\n",
        "import queue\n",
        "\n",
        "class Graph:\n",
        "    def __init__(self, nVertices):\n",
        "        self.nVertices = nVertices\n",
        "        self.adjMatrix = [[0 for i in range(nVertices)] for j in range(nVertices)]\n",
        "\n",
        "    def addEdge(self, v1, v2):\n",
        "        self.adjMatrix[v1][v2] = 1\n",
        "        self.adjMatrix[v2][v1] = 1\n",
        "\n",
        "    def removeEdge(self):\n",
        "        if self.containsEdge(v1, v2) is False :\n",
        "            return\n",
        "        self.adjMatrix[v1][v2] = 0\n",
        "        self.adjMatrix[v2][v1] = 0\n",
        "\n",
        "    def containsEdge(self, v1, v2):\n",
        "        if self.adjMatrix[v1][v2] > 0:\n",
        "            return True\n",
        "        else:\n",
        "            return False\n",
        "\n",
        "    def __str__(self):\n",
        "        return str(self.adjMatrix)\n",
        "\n",
        "\n",
        "\n",
        "\n",
        "    def __getPathDFS(self, sv, ev, visited) :\n",
        "        if sv == ev :\n",
        "            return list([sv])\n",
        "\n",
        "        visited[sv] = True\n",
        "\n",
        "        for i in range(self.nVertices) :\n",
        "            if self.adjMatrix[sv][i] == 1 and not visited[i] :\n",
        "                li = self.__getPathDFS(i, ev, visited)\n",
        "\n",
        "                if li != None :\n",
        "                    li.append(sv)\n",
        "                    return li\n",
        "\n",
        "        return None\n",
        "\n",
        "\n",
        "\n",
        "    def getPathDFS(self, sv, ev) :\n",
        "        visited = [False for i in range(self.nVertices)]\n",
        "        return self.__getPathDFS(sv, ev, visited)\n",
        "\n",
        "\n",
        "\n",
        "# Main\n",
        "li = stdin.readline().strip().split()\n",
        "V = int(li[0])\n",
        "E = int(li[1])\n",
        "\n",
        "g = Graph(V)\n",
        "\n",
        "for i in range(E) :\n",
        "    arr = stdin.readline().strip().split()\n",
        "    fv = int(arr[0])\n",
        "    sv = int(arr[1])\n",
        "    g.addEdge(fv, sv)\n",
        "\n",
        "li = stdin.readline().strip().split()\n",
        "sv = int(li[0])\n",
        "ev = int(li[1])\n",
        "\n",
        "li = g.getPathDFS(sv, ev)\n",
        "\n",
        "if li != None :\n",
        "    for element in li :\n",
        "        print(element, end = ' ')\n"
      ],
      "metadata": {
        "id": "48gyoYNJul8L"
      },
      "execution_count": null,
      "outputs": []
    },
    {
      "cell_type": "markdown",
      "source": [
        "Get Path-BFS"
      ],
      "metadata": {
        "id": "YHUXu1KguoOV"
      }
    },
    {
      "cell_type": "code",
      "source": [
        "import queue\n",
        "from sys import stdin, setrecursionlimit\n",
        "setrecursionlimit(10**6)\n",
        "class Graph:\n",
        "    def __init__(self, nVertices):\n",
        "        self.nVertices = nVertices\n",
        "        self.adjMatrix = [[0 for i in range(nVertices)] for j in range(nVertices)]\n",
        "\n",
        "    def addEdge(self, v1, v2):\n",
        "        self.adjMatrix[v1][v2] = 1\n",
        "        self.adjMatrix[v2][v1] = 1\n",
        "\n",
        "    def removeEdge(self):\n",
        "        if self.containsEdge(v1, v2) is False :\n",
        "            return\n",
        "        self.adjMatrix[v1][v2] = 0\n",
        "        self.adjMatrix[v2][v1] = 0\n",
        "\n",
        "    def containsEdge(self, v1, v2):\n",
        "        if self.adjMatrix[v1][v2] > 0:\n",
        "            return True\n",
        "        else:\n",
        "            return False\n",
        "\n",
        "    def __str__(self):\n",
        "        return str(self.adjMatrix)\n",
        "\n",
        "\n",
        "    def __getPathBFS(self, sv, ev, visited) :\n",
        "        mapp = {}\n",
        "        q = queue.Queue()\n",
        "\n",
        "        if self.adjMatrix[sv][ev] == 1 and sv == ev :\n",
        "            ans = []\n",
        "            ans.append(sv)\n",
        "            return ans\n",
        "\n",
        "        q.put(sv)\n",
        "        visited[sv] = True\n",
        "\n",
        "        while q.empty() is False :\n",
        "            front = q.get()\n",
        "\n",
        "            for i in range(self.nVertices) :\n",
        "                if self.adjMatrix[front][i] == 1 and visited[i] is False :\n",
        "                    mapp[i] = front\n",
        "                    q.put(i)\n",
        "\n",
        "                    visited[i] = True\n",
        "\n",
        "                    if i == ev :\n",
        "                        ans = []\n",
        "                        ans.append(ev)\n",
        "                        value = mapp[ev]\n",
        "\n",
        "                        while value != sv :\n",
        "                            ans.append(value)\n",
        "                            value = mapp[value]\n",
        "\n",
        "                        ans.append(value)\n",
        "                        return ans\n",
        "\n",
        "        return []\n",
        "\n",
        "\n",
        "    def getPathBFS(self, sv, ev) :\n",
        "\n",
        "        # Return empty list in case sv or ev is invalid\n",
        "        if (sv > (self.nVertices - 1)) or (ev > (self.nVertices - 1)) :\n",
        "            return list()\n",
        "        visited = [False for i in range(self.nVertices)]\n",
        "        return self.__getPathBFS(sv, ev, visited)\n",
        "\n",
        "\n",
        "# Main\n",
        "li = stdin.readline().strip().split()\n",
        "V = int(li[0])\n",
        "E = int(li[1])\n",
        "\n",
        "g = Graph(V)\n",
        "\n",
        "for i in range(E) :\n",
        "    arr = stdin.readline().strip().split()\n",
        "    fv = int(arr[0])\n",
        "    sv = int(arr[1])\n",
        "    g.addEdge(fv, sv)\n",
        "\n",
        "li = stdin.readline().strip().split()\n",
        "sv = int(li[0])\n",
        "ev = int(li[1])\n",
        "\n",
        "li = g.getPathBFS(sv, ev)\n",
        "\n",
        "if len(li) != 0 :\n",
        "\tfor element in li :\n",
        "\t\tprint(element, end = ' ')"
      ],
      "metadata": {
        "id": "ufF-aEmpuvdZ"
      },
      "execution_count": null,
      "outputs": []
    },
    {
      "cell_type": "markdown",
      "source": [
        "Is Connected ?"
      ],
      "metadata": {
        "id": "AXk7xaSbuwYC"
      }
    },
    {
      "cell_type": "code",
      "source": [
        "import queue\n",
        "from sys import stdin, setrecursionlimit\n",
        "setrecursionlimit(10**6)\n",
        "class Graph:\n",
        "    def __init__(self, nVertices):\n",
        "        self.nVertices = nVertices\n",
        "        self.adjMatrix = [[0 for i in range(nVertices)] for j in range(nVertices)]\n",
        "\n",
        "    def addEdge(self, v1, v2):\n",
        "        self.adjMatrix[v1][v2] = 1\n",
        "        self.adjMatrix[v2][v1] = 1\n",
        "\n",
        "    def removeEdge(self):\n",
        "        if self.containsEdge(v1, v2) is False :\n",
        "            return\n",
        "        self.adjMatrix[v1][v2] = 0\n",
        "        self.adjMatrix[v2][v1] = 0\n",
        "\n",
        "    def containsEdge(self, v1, v2):\n",
        "        if self.adjMatrix[v1][v2] > 0:\n",
        "            return True\n",
        "        else:\n",
        "            return False\n",
        "\n",
        "    def __str__(self):\n",
        "        return str(self.adjMatrix)\n",
        "\n",
        "\n",
        "\n",
        "    def __bfs(self, sv, visited) :\n",
        "        q = queue.Queue()\n",
        "        q.put(sv)\n",
        "\n",
        "        visited[sv] = True\n",
        "\n",
        "        while q.empty() is False :\n",
        "            u = q.get()\n",
        "            print(u, end = ' ')\n",
        "\n",
        "            for i in range(self.nVertices) :\n",
        "                if self.adjMatrix[u][i] > 0 and visited[i] is False :\n",
        "                    q.put(i)\n",
        "                    visited[i] = True\n",
        "\n",
        "\n",
        "    def bfs(self) :\n",
        "        visited = [False for i in range(self.nVertices)]\n",
        "\n",
        "        for i in range(self.nVertices) :\n",
        "            if visited[i] is False :\n",
        "                self.__bfs(i, visited)\n",
        "\n",
        "\n",
        "    def __getPathBFS(self, sv, ev, visited) :\n",
        "        mapp = {}\n",
        "        q = queue.Queue()\n",
        "\n",
        "        if self.adjMatrix[sv][ev] == 1 and sv == ev :\n",
        "            ans = []\n",
        "            ans.append(sv)\n",
        "            return ans\n",
        "\n",
        "        q.put(sv)\n",
        "        visited[sv] = True\n",
        "\n",
        "        while q.empty() is False :\n",
        "            front = q.get()\n",
        "\n",
        "            for i in range(self.nVertices) :\n",
        "                if self.adjMatrix[front][i] == 1 and visited[i] is False :\n",
        "                    mapp[i] = front\n",
        "                    q.put(i)\n",
        "\n",
        "                    visited[i] = True\n",
        "\n",
        "                    if i == ev :\n",
        "                        ans = []\n",
        "                        ans.append(ev)\n",
        "                        value = mapp[ev]\n",
        "\n",
        "                        while value != sv :\n",
        "                            ans.append(value)\n",
        "                            value = mapp[value]\n",
        "\n",
        "                        ans.append(value)\n",
        "                        return ans\n",
        "\n",
        "        return []\n",
        "\n",
        "\n",
        "    def getPathBFS(self, sv, ev) :\n",
        "        visited = [False for i in range(self.nVertices)]\n",
        "        return self.__getPathBFS(sv, ev, visited)\n",
        "\n",
        "\n",
        "    def dfs(self, sv, visited) :\n",
        "        visited[sv] = True\n",
        "\n",
        "        for i in range(self.nVertices) :\n",
        "            if self.adjMatrix[sv][i] == 1 and not visited[i] :\n",
        "                self.dfs(i, visited)\n",
        "                visited[i] = True\n",
        "\n",
        "\n",
        "    def isConnected(self) :\n",
        "        visited = [False for i in range(self.nVertices)]\n",
        "        self.dfs(0, visited)\n",
        "\n",
        "        for boolVal in visited :\n",
        "            if not boolVal:\n",
        "                return False\n",
        "        return True\n",
        "\n",
        "\n",
        "# Main\n",
        "li = stdin.readline().strip().split()\n",
        "V = int(li[0])\n",
        "E = int(li[1])\n",
        "if V==0:\n",
        "    print('true')\n",
        "else:\n",
        "    g = Graph(V)\n",
        "\n",
        "    for i in range(E) :\n",
        "        arr = stdin.readline().strip().split()\n",
        "        fv = int(arr[0])\n",
        "        sv = int(arr[1])\n",
        "        g.addEdge(fv, sv)\n",
        "\n",
        "    print()\n",
        "    if g.isConnected() :\n",
        "        print('true')\n",
        "    else :\n",
        "        print('false')"
      ],
      "metadata": {
        "id": "ZWAxCWYYu3D6"
      },
      "execution_count": null,
      "outputs": []
    },
    {
      "cell_type": "markdown",
      "source": [
        "All Connected Components"
      ],
      "metadata": {
        "id": "KNmr5zyEu8ti"
      }
    },
    {
      "cell_type": "code",
      "source": [
        "# Write your code here\n",
        "from queue import Queue\n",
        "\n",
        "class Graph:\n",
        "    def __init__(self, nVertices):\n",
        "        self.nVertices = nVertices\n",
        "        self.adjMatrix = [[0 for i in range(nVertices)] for j in range(nVertices)]\n",
        "\n",
        "    def addEdge(self, v1, v2):\n",
        "        self.adjMatrix[v1][v2] = 1\n",
        "        self.adjMatrix[v2][v1] = 1\n",
        "\n",
        "    def connectedComponents(self):\n",
        "        visited = [False] * self.nVertices\n",
        "        components = []\n",
        "\n",
        "        for v in range(self.nVertices):\n",
        "            if not visited[v]:\n",
        "                component = self.bfs(v, visited)\n",
        "                components.append(component)\n",
        "\n",
        "        return components\n",
        "\n",
        "    def bfs(self, sv, visited):\n",
        "        component = []\n",
        "        q = Queue()\n",
        "        q.put(sv)\n",
        "        visited[sv] = True\n",
        "\n",
        "        while not q.empty():\n",
        "            front = q.get()\n",
        "            component.append(front)\n",
        "\n",
        "            for i in range(self.nVertices):\n",
        "                if self.adjMatrix[front][i] == 1 and not visited[i]:\n",
        "                    q.put(i)\n",
        "                    visited[i] = True\n",
        "\n",
        "        return sorted(component)\n",
        "\n",
        "# Main\n",
        "li = input().strip().split()\n",
        "V = int(li[0])\n",
        "E = int(li[1])\n",
        "\n",
        "g = Graph(V)\n",
        "\n",
        "for i in range(E):\n",
        "    arr = input().strip().split()\n",
        "    fv = int(arr[0])\n",
        "    sv = int(arr[1])\n",
        "    g.addEdge(fv, sv)\n",
        "\n",
        "components = g.connectedComponents()\n",
        "\n",
        "for component in components:\n",
        "    for vertex in component:\n",
        "        print(vertex, end=' ')\n",
        "    print()"
      ],
      "metadata": {
        "id": "P84R84Nou_d9"
      },
      "execution_count": null,
      "outputs": []
    },
    {
      "cell_type": "markdown",
      "source": [
        "#Assignment\n",
        "\n",
        "Coding Ninjas"
      ],
      "metadata": {
        "id": "GvYr7DlkvGYQ"
      }
    },
    {
      "cell_type": "code",
      "source": [
        "from sys import stdin\n",
        "\n",
        "def is_valid(x, y, n, m, visited):\n",
        "    return 0 <= x < n and 0 <= y < m and not visited[x][y]\n",
        "\n",
        "def dfs(x, y, index, arr, visited):\n",
        "    if index == len(\"CODINGNINJA\") - 1:\n",
        "        return True\n",
        "\n",
        "    visited[x][y] = True\n",
        "\n",
        "    dx = [-1, -1, -1, 0, 1, 1, 1, 0]\n",
        "    dy = [-1, 0, 1, 1, 1, 0, -1, -1]\n",
        "\n",
        "    for i in range(8):\n",
        "        new_x, new_y = x + dx[i], y + dy[i]\n",
        "        if is_valid(new_x, new_y, len(arr), len(arr[0]), visited) and arr[new_x][new_y] == \"O\" and dfs(new_x, new_y, index + 1, arr, visited):\n",
        "            return True\n",
        "\n",
        "    visited[x][y] = False\n",
        "    return False\n",
        "\n",
        "def solve(arr, n, m):\n",
        "    for i in range(n):\n",
        "        for j in range(m):\n",
        "            if arr[i][j] == \"C\" and dfs(i, j, 0, arr, [[False] * m for _ in range(n)]):\n",
        "                return 1\n",
        "    return 0\n",
        "\n",
        "def takeInput():\n",
        "    # To take fast I/O\n",
        "    n, m = map(int, stdin.readline().strip().split())\n",
        "    arr = [stdin.readline().strip() for _ in range(n)]\n",
        "    return arr, n, m\n",
        "\n",
        "# Main\n",
        "T = int(stdin.readline().strip())\n",
        "\n",
        "for _ in range(T):\n",
        "    arr, n, m = takeInput()\n",
        "    print(solve(arr, n, m))"
      ],
      "metadata": {
        "id": "nQdfM28HvMs1"
      },
      "execution_count": null,
      "outputs": []
    },
    {
      "cell_type": "markdown",
      "source": [
        "Connecting Dots"
      ],
      "metadata": {
        "id": "N0lSM4OyvPZ4"
      }
    },
    {
      "cell_type": "code",
      "source": [
        "def dfs(x, y, index):\n",
        "    # Base case: If the entire sentence is matched\n",
        "    if index == len(sentence):\n",
        "        return True\n",
        "\n",
        "    # Check if current cell matches the current character of the sentence\n",
        "    if arr[x][y] == sentence[index]:\n",
        "        # Mark the current cell as visited\n",
        "        visited[x][y] = True\n",
        "\n",
        "        # Explore all neighboring cells\n",
        "        for i in range(-1, 2):\n",
        "            for j in range(-1, 2):\n",
        "                new_x, new_y = x + i, y + j\n",
        "                # Check if the neighboring cell is within bounds and not visited\n",
        "                if 0 <= new_x < n and 0 <= new_y < m and not visited[new_x][new_y]:\n",
        "                    # Recursive call to explore the neighboring cell\n",
        "                    if dfs(new_x, new_y, index + 1):\n",
        "                        return True\n",
        "\n",
        "        # Backtrack: Mark the current cell as not visited\n",
        "        visited[x][y] = False\n",
        "\n",
        "    return False\n",
        "\n",
        "def solve(arr, n, m):\n",
        "    global visited, sentence\n",
        "    visited = [[False] * m for _ in range(n)]\n",
        "    sentence = \"CODING\"  # Replace with the actual sentence you want to check\n",
        "\n",
        "    # Start DFS from each cell\n",
        "    for i in range(n):\n",
        "        for j in range(m):\n",
        "            if dfs(i, j, 0):\n",
        "                return True\n",
        "\n",
        "    return False\n",
        "\n",
        "from sys import stdin\n",
        "\n",
        "def takeInput():\n",
        "    # To take fast I/O\n",
        "    n, m = map(int, stdin.readline().strip().split())\n",
        "    arr = [stdin.readline().strip() for _ in range(n)]\n",
        "    return arr, n, m\n",
        "\n",
        "# Main\n",
        "arr, n, m = takeInput()\n",
        "ans = solve(arr, n, m)\n",
        "\n",
        "if ans:\n",
        "    print('true')\n",
        "else:\n",
        "    print('false')"
      ],
      "metadata": {
        "id": "cnbTHvDlvWlh"
      },
      "execution_count": null,
      "outputs": []
    },
    {
      "cell_type": "markdown",
      "source": [
        "Cycle Detection In Undirected Graph"
      ],
      "metadata": {
        "id": "OTNl1UFcvX9g"
      }
    },
    {
      "cell_type": "code",
      "source": [
        "def cycleDetection(edges, n, m):\n",
        "    # Create an adjacency list representation of the graph\n",
        "    adj_list = {i: [] for i in range(1, n + 1)}\n",
        "    for edge in edges:\n",
        "        adj_list[edge[0]].append(edge[1])\n",
        "        adj_list[edge[1]].append(edge[0])\n",
        "\n",
        "    visited = set()\n",
        "\n",
        "    def dfs(node, parent):\n",
        "        visited.add(node)\n",
        "        for neighbor in adj_list[node]:\n",
        "            if neighbor not in visited:\n",
        "                if dfs(neighbor, node):\n",
        "                    return True\n",
        "            elif neighbor != parent:\n",
        "                return True\n",
        "        return False\n",
        "\n",
        "    for i in range(1, n + 1):\n",
        "        if i not in visited:\n",
        "            if dfs(i, -1):  # -1 represents no parent for the starting node\n",
        "                return \"Yes\"\n",
        "\n",
        "    return \"No\"\n",
        "\n",
        "# Input processing and test cases\n",
        "if __name__ == \"__main__\":\n",
        "    T = int(input().strip())\n",
        "\n",
        "    for _ in range(T):\n",
        "        N, M = map(int, input().strip().split())\n",
        "        Edges = [list(map(int, input().strip().split())) for _ in range(M)]\n",
        "\n",
        "        result = cycleDetection(Edges, N, M)\n",
        "        print(result)"
      ],
      "metadata": {
        "id": "IFLjv_XrvcOg"
      },
      "execution_count": null,
      "outputs": []
    },
    {
      "cell_type": "markdown",
      "source": [
        "Detect Cycle in a Directed Graph"
      ],
      "metadata": {
        "id": "FRjxjXIQviwx"
      }
    },
    {
      "cell_type": "code",
      "source": [
        "'''\n",
        "    Time Complexity : O(V + E)\n",
        "    Space Complexity : O(V + E)\n",
        "\n",
        "\tWhere ''V' is the number of nodes and 'E' represents the number of edges in the given graph.\n",
        "'''\n",
        "\n",
        "# Recursive function to find if there is back edge\n",
        "def DFS(u, color, graph):\n",
        "\n",
        "    # This vertex will be ancestor of the future vertices.\n",
        "    color[u] = 1\n",
        "\n",
        "    # Iterate through all adjacent vertices.\n",
        "\n",
        "    for i in range(len(graph[u])):\n",
        "\n",
        "        v = graph[u][i]\n",
        "\n",
        "        # Check for the back edge.\n",
        "\n",
        "        if (color[v] == 1):\n",
        "            return True\n",
        "\n",
        "        # Check if v is not visited and there is a back edge in subtree rooted with v.\n",
        "\n",
        "        if (color[v] == 0 and DFS(v, color, graph)):\n",
        "            return True\n",
        "\n",
        "    # Mark this vertex as visited.\n",
        "    color[u] = 2\n",
        "\n",
        "    return False\n",
        "\n",
        "\n",
        "def isCyclic(edges, v, e):\n",
        "\n",
        "    #Adjacency list for the given sets of edges.\n",
        "    graph = [[] for i in range(v + 1)]\n",
        "\n",
        "    # Adding edges in the graph (adjacency list).\n",
        "    for i in range(e):\n",
        "        graph[edges[i][0]].append(edges[i][1])\n",
        "\n",
        "    # Initialize color of all vertices as unvisited.\n",
        "    color = [0 for i in range(v + 1)]\n",
        "\n",
        "    # Do a DFS traversal if the node is unvisited.\n",
        "    for i in range(v):\n",
        "        if(color[i] == 0 and DFS(i, color, graph) == True):\n",
        "            return True\n",
        "\n",
        "    return False"
      ],
      "metadata": {
        "id": "mxpCe3mGvjN4"
      },
      "execution_count": null,
      "outputs": []
    },
    {
      "cell_type": "markdown",
      "source": [
        "3 Cycle"
      ],
      "metadata": {
        "id": "YZP8Tw_-vl3S"
      }
    },
    {
      "cell_type": "code",
      "source": [
        "def count_3_cycles(N, edges):\n",
        "    adj_list = [[] for _ in range(N)]\n",
        "    count = 0\n",
        "\n",
        "    # Construct adjacency list\n",
        "    for u, v in edges:\n",
        "        adj_list[u].append(v)\n",
        "        adj_list[v].append(u)\n",
        "\n",
        "    # Iterate through all possible combinations of three vertices\n",
        "    for i in range(N):\n",
        "        for j in adj_list[i]:\n",
        "            for k in adj_list[j]:\n",
        "                if k in adj_list[i]:\n",
        "                    count += 1  # Found a 3-cycle\n",
        "\n",
        "    # Each cycle is counted three times, so divide by 3 to get the actual count\n",
        "    return count // 6\n",
        "\n",
        "def main():\n",
        "    N, M = map(int, input().split())\n",
        "    edges = []\n",
        "\n",
        "    for _ in range(M):\n",
        "        u, v = map(int, input().split())\n",
        "        edges.append((u, v))\n",
        "\n",
        "    result = count_3_cycles(N, edges)\n",
        "    print(result)\n",
        "\n",
        "if __name__ == \"__main__\":\n",
        "    main()"
      ],
      "metadata": {
        "id": "uWew972pvrWN"
      },
      "execution_count": null,
      "outputs": []
    },
    {
      "cell_type": "markdown",
      "source": [
        "Strongly Connected Components (Tarjan’s Algorithm)"
      ],
      "metadata": {
        "id": "EZOlEUwLvw5v"
      }
    },
    {
      "cell_type": "code",
      "source": [
        "'''\n",
        "    Time Complexity: O(V + E)\n",
        "    Space Complexity: O(V)\n",
        "\n",
        "    Where V is the number of vertices,\n",
        "    E is the number of edges in the graph.\n",
        "'''\n",
        "\n",
        "# This marks the discovery time of the nodes\n",
        "discoveryTime = 1\n",
        "\n",
        "\n",
        "def dfs(graph, node, disc, low, inStack, nodeStack, ans):\n",
        "    global discoveryTime\n",
        "    disc[node] = discoveryTime\n",
        "    low[node] = discoveryTime\n",
        "\n",
        "    discoveryTime += 1\n",
        "\n",
        "    nodeStack.append(node)\n",
        "    inStack[node] = True\n",
        "\n",
        "    # Using Tarjan's algorithm here\n",
        "    for v in graph[node]:\n",
        "        # Looking into all unvisited nodes\n",
        "        if disc[v] == -1:\n",
        "            dfs(graph, v, disc, low, inStack, nodeStack, ans)\n",
        "            low[node] = min(low[node], low[v])\n",
        "        elif inStack[v]:\n",
        "            low[node] = min(low[node], disc[v])\n",
        "\n",
        "    # If current node is root of a SCC\n",
        "    if low[node] == disc[node]:\n",
        "        component = []\n",
        "        # u marks the top element in the stack\n",
        "        u = 0\n",
        "        while nodeStack[-1] != node:\n",
        "            u = nodeStack[-1]\n",
        "            del nodeStack[-1]\n",
        "            inStack[u] = False\n",
        "\n",
        "            component.append(u)\n",
        "\n",
        "        u = nodeStack[-1]\n",
        "        del nodeStack[-1]\n",
        "        inStack[u] = False\n",
        "\n",
        "        component.append(u)\n",
        "        ans.append(component)\n",
        "\n",
        "\n",
        "def stronglyConnectedComponents(n, edges):\n",
        "    # This stores our graph as Adjacency list\n",
        "    graph = [[] for i in range(n)]\n",
        "\n",
        "    for edge in edges:\n",
        "        graph[edge[0]].append(edge[1])\n",
        "\n",
        "    # Arrays to store the low-link value and discovery time of the nodes\n",
        "    disc = [-1] * n\n",
        "    low = [-1] * n\n",
        "\n",
        "    nodeStack = []\n",
        "    inStack = [False] * n\n",
        "\n",
        "    ans = []\n",
        "    for i in range(n):\n",
        "        if disc[i] == -1:\n",
        "            # Node i has not been visited yet\n",
        "            dfs(graph, i, disc, low, inStack, nodeStack, ans)\n",
        "\n",
        "    return ans"
      ],
      "metadata": {
        "id": "sbq4iEjAvxYI"
      },
      "execution_count": null,
      "outputs": []
    },
    {
      "cell_type": "markdown",
      "source": [
        "#week 15\n",
        "\n",
        "#Graph -II\n",
        "\n",
        "#lecture"
      ],
      "metadata": {
        "id": "ZJFrgW9vv0Ik"
      }
    },
    {
      "cell_type": "markdown",
      "source": [
        "Topological Sorting"
      ],
      "metadata": {
        "id": "y4yjKnU2wGmi"
      }
    },
    {
      "cell_type": "code",
      "source": [
        "class Graph:\n",
        "    def __init__(self, n):\n",
        "        self.n = n\n",
        "        self.graph = [[] for _ in range(n)]\n",
        "        self.visited = [False] * n\n",
        "        self.stack = []\n",
        "\n",
        "    def add_edge(self, u, v):\n",
        "        self.graph[u].append(v)\n",
        "\n",
        "    def dfs(self, s):\n",
        "        for v in self.graph[s]:\n",
        "            if not self.visited[v]:\n",
        "                self.visited[v] = True\n",
        "                self.dfs(v)\n",
        "        self.stack.append(s)\n",
        "\n",
        "    def get_topological_sorting(self):\n",
        "        for i in range(self.n):\n",
        "            if not self.visited[i]:\n",
        "                self.visited[i] = True\n",
        "                self.dfs(i)\n",
        "\n",
        "        topological_sorting = []\n",
        "\n",
        "        while self.stack:\n",
        "            topological_sorting.append(self.stack.pop())\n",
        "\n",
        "        return topological_sorting\n",
        "\n",
        "def main():\n",
        "    t = int(input().strip())\n",
        "    for _ in range(t):\n",
        "        v, e = map(int, input().split())\n",
        "        g = Graph(v)\n",
        "        for _ in range(e):\n",
        "            u, v = map(int, input().split())\n",
        "            g.add_edge(u, v)\n",
        "\n",
        "        correct_order = [int(x) for x in input().split()]\n",
        "        topological_order = g.get_topological_sorting()\n",
        "\n",
        "        if correct_order == topological_order:\n",
        "            print(\"Correct\")\n",
        "        else:\n",
        "            print(\"Incorrect\")\n",
        "\n",
        "if __name__ == \"__main__\":\n",
        "    main()"
      ],
      "metadata": {
        "id": "Qn8jkk3FwFLO"
      },
      "execution_count": null,
      "outputs": []
    },
    {
      "cell_type": "markdown",
      "source": [
        "Code : Kruskal's Algorithm"
      ],
      "metadata": {
        "id": "HuROJtg_wQ2r"
      }
    },
    {
      "cell_type": "code",
      "source": [
        "class DisjointSet:\n",
        "    def __init__(self, n):\n",
        "        self.parent = [-1] * n\n",
        "        self.rank = [0] * n\n",
        "\n",
        "    def find(self, x):\n",
        "        if self.parent[x] == -1:\n",
        "            return x\n",
        "        self.parent[x] = self.find(self.parent[x])\n",
        "        return self.parent[x]\n",
        "\n",
        "    def union(self, x, y):\n",
        "        rootX = self.find(x)\n",
        "        rootY = self.find(y)\n",
        "        if rootX != rootY:\n",
        "            if self.rank[rootX] > self.rank[rootY]:\n",
        "                self.parent[rootY] = rootX\n",
        "            elif self.rank[rootX] < self.rank[rootY]:\n",
        "                self.parent[rootX] = rootY\n",
        "            else:\n",
        "                self.parent[rootY] = rootX\n",
        "                self.rank[rootX] += 1\n",
        "\n",
        "class Edge:\n",
        "    def __init__(self, src, dest, weight):\n",
        "        self.src = src\n",
        "        self.dest = dest\n",
        "        self.weight = weight\n",
        "\n",
        "def kruskalMST(edges, V):\n",
        "    mst = []\n",
        "    edges.sort(key=lambda x: x.weight)\n",
        "    ds = DisjointSet(V)\n",
        "    edgeCount = 0\n",
        "    for edge in edges:\n",
        "        if edgeCount == V - 1:\n",
        "            break\n",
        "        srcParent = ds.find(edge.src)\n",
        "        destParent = ds.find(edge.dest)\n",
        "        if srcParent != destParent:\n",
        "            mst.append(edge)\n",
        "            ds.union(srcParent, destParent)\n",
        "            edgeCount += 1\n",
        "    return mst\n",
        "\n",
        "if __name__ == \"__main__\":\n",
        "    V, E = map(int, input().split())\n",
        "    edges = []\n",
        "    for _ in range(E):\n",
        "        src, dest, weight = map(int, input().split())\n",
        "        edges.append(Edge(src, dest, weight))\n",
        "\n",
        "    mst = kruskalMST(edges, V)\n",
        "    for edge in mst:\n",
        "        print(min(edge.src, edge.dest), max(edge.src, edge.dest), edge.weight)\n"
      ],
      "metadata": {
        "id": "I9OPEt7IwXFF"
      },
      "execution_count": null,
      "outputs": []
    },
    {
      "cell_type": "markdown",
      "source": [
        "Code : Prim's Algorithm"
      ],
      "metadata": {
        "id": "mGYPev9CwaoO"
      }
    },
    {
      "cell_type": "code",
      "source": [
        "import sys\n",
        "\n",
        "class Graph:\n",
        "    def __init__(self, nVertices):\n",
        "        self.nVertices = nVertices\n",
        "        self.adjMatrix = [[0 for _ in range(nVertices)] for _ in range(nVertices)]\n",
        "\n",
        "    def addEdge(self, v1, v2, wt):\n",
        "        self.adjMatrix[v1][v2] = wt\n",
        "        self.adjMatrix[v2][v1] = wt\n",
        "\n",
        "    def __getMinVertex(self, visited, weight):\n",
        "        minVertex = -1\n",
        "        for i in range(self.nVertices):\n",
        "            if not visited[i] and (minVertex == -1 or weight[minVertex] > weight[i]):\n",
        "                minVertex = i\n",
        "        return minVertex\n",
        "\n",
        "    def prims(self):\n",
        "        visited = [False for _ in range(self.nVertices)]\n",
        "        parent = [-1 for _ in range(self.nVertices)]\n",
        "        weight = [sys.maxsize for _ in range(self.nVertices)]\n",
        "\n",
        "        for i in range(self.nVertices - 1):\n",
        "            minVertex = self.__getMinVertex(visited, weight)\n",
        "            visited[minVertex] = True\n",
        "\n",
        "            for j in range(self.nVertices):\n",
        "                if self.adjMatrix[minVertex][j] > 0 and not visited[j]:\n",
        "                    if weight[j] > self.adjMatrix[minVertex][j]:\n",
        "                        weight[j] = self.adjMatrix[minVertex][j]\n",
        "                        parent[j] = minVertex\n",
        "\n",
        "        # Final MST printed\n",
        "        for i in range(1, self.nVertices):\n",
        "            if parent[i] > i:\n",
        "                print(str(i) + \" \" + str(parent[i]) + \" \" + str(weight[i]))\n",
        "            else:\n",
        "                print(str(parent[i]) + \" \" + str(i) + \" \" + str(weight[i]))\n",
        "\n",
        "# Input handling\n",
        "li = [int(ele) for ele in input().split()]\n",
        "n, E = li[0], li[1]\n",
        "g = Graph(n)\n",
        "\n",
        "# Add edges to the graph\n",
        "for _ in range(E):\n",
        "    curr_edge = [int(ele) for ele in input().split()]\n",
        "    g.addEdge(curr_edge[0], curr_edge[1], curr_edge[2])\n",
        "\n",
        "# Apply Prim's algorithm\n",
        "g.prims()"
      ],
      "metadata": {
        "id": "IBRPNa3gwg_d"
      },
      "execution_count": null,
      "outputs": []
    },
    {
      "cell_type": "markdown",
      "source": [
        "Code : Dijkstra's Algorithm"
      ],
      "metadata": {
        "id": "CZKNNOq6wjiu"
      }
    },
    {
      "cell_type": "code",
      "source": [
        "import sys\n",
        "\n",
        "class Graph:\n",
        "    def __init__(self, nVertices):\n",
        "        self.nVertices = nVertices\n",
        "        self.adjMatrix = [[0 for _ in range(nVertices)] for _ in range(nVertices)]\n",
        "\n",
        "    def addEdge(self, v1, v2, wt):\n",
        "        self.adjMatrix[v1][v2] = wt\n",
        "        self.adjMatrix[v2][v1] = wt\n",
        "\n",
        "    def __getMinVertexD(self, visited, weight):\n",
        "        minVertex = -1\n",
        "        for i in range(self.nVertices):\n",
        "            if not visited[i] and (minVertex == -1 or weight[minVertex] > weight[i]):\n",
        "                minVertex = i\n",
        "        return minVertex\n",
        "\n",
        "    def djikstra(self):\n",
        "        visited = [False for _ in range(self.nVertices)]\n",
        "        dist = [sys.maxsize for _ in range(self.nVertices)]\n",
        "        parent = [-1 for _ in range(self.nVertices)]\n",
        "        dist[0] = 0\n",
        "\n",
        "        for _ in range(self.nVertices - 1):\n",
        "            minVertex = self.__getMinVertexD(visited, dist)\n",
        "            visited[minVertex] = True\n",
        "\n",
        "            for j in range(self.nVertices):\n",
        "                if self.adjMatrix[minVertex][j] > 0 and not visited[j]:\n",
        "                    if dist[j] > dist[minVertex] + self.adjMatrix[minVertex][j]:\n",
        "                        dist[j] = self.adjMatrix[minVertex][j] + dist[minVertex]\n",
        "                        parent[j] = minVertex\n",
        "\n",
        "        for i in range(self.nVertices):\n",
        "            print(str(i) + \" \" + str(dist[i]))\n",
        "\n",
        "# Input handling\n",
        "li = [int(ele) for ele in input().split()]\n",
        "n, E = li[0], li[1]\n",
        "g = Graph(n)\n",
        "\n",
        "# Add edges to the graph\n",
        "for _ in range(E):\n",
        "    curr_edge = [int(ele) for ele in input().split()]\n",
        "    g.addEdge(curr_edge[0], curr_edge[1], curr_edge[2])\n",
        "\n",
        "# Apply Dijkstra's algorithm\n",
        "g.djikstra()"
      ],
      "metadata": {
        "id": "cHSVwmzrwoPD"
      },
      "execution_count": null,
      "outputs": []
    },
    {
      "cell_type": "markdown",
      "source": [
        "Shortest Path In A Binary Maze"
      ],
      "metadata": {
        "id": "Rcwl6a59wq4T"
      }
    },
    {
      "cell_type": "code",
      "source": [
        "from queue import Queue\n",
        "def shortestPathBinaryMatrix(matrix, src, dest):\n",
        "\n",
        "    n = len(matrix)\n",
        "    m = len(matrix[0])\n",
        "    if matrix[src[0]][src[1]]==0:\n",
        "        return -1\n",
        "\n",
        "    ans = 0\n",
        "\n",
        "    visited = [[False] * m for i in range(n)]\n",
        "    visited[src[0]][src[1]] = 1\n",
        "\n",
        "    q = Queue()\n",
        "    q.put(src)\n",
        "\n",
        "    dx = [-1, 0, 0, 1]\n",
        "    dy = [0, -1, 1, 0]\n",
        "\n",
        "    while not q.empty():\n",
        "        sz = q.qsize()\n",
        "\n",
        "        for i in range(sz):\n",
        "\n",
        "            node = q.get()\n",
        "            if node[0] == dest[0] and node[1] == dest[1]:\n",
        "                return ans\n",
        "\n",
        "            for j in range(4):\n",
        "                newX = dx[j] + node[0]\n",
        "                newY = dy[j] + node[1]\n",
        "                if (newX >= 0 and newY >= 0 and newX < n and newY < m and visited[newX][newY]==0 and matrix[newX][newY]):\n",
        "                    visited[newX][newY] = 1\n",
        "                    q.put([newX, newY])\n",
        "        ans += 1\n",
        "    return -1"
      ],
      "metadata": {
        "id": "khADkLTKwwRZ"
      },
      "execution_count": null,
      "outputs": []
    },
    {
      "cell_type": "markdown",
      "source": [
        "#Assignment\n",
        "\n",
        "Topological Sort"
      ],
      "metadata": {
        "id": "zEbvq7-awzID"
      }
    },
    {
      "cell_type": "code",
      "source": [
        "from collections import deque\n",
        "\n",
        "def topologicalSort(edges, N, M):\n",
        "    # Initialize adjacency list representation of the graph\n",
        "    graph = [[] for _ in range(N)]\n",
        "    in_degree = [0] * N\n",
        "\n",
        "    # Construct the graph and calculate in-degrees\n",
        "    for u, v in edges:\n",
        "        graph[u - 1].append(v - 1)\n",
        "        in_degree[v - 1] += 1\n",
        "\n",
        "    # Queue to store nodes with in-degree 0\n",
        "    queue = deque()\n",
        "\n",
        "    # Add nodes with in-degree 0 to the queue\n",
        "    for i in range(N):\n",
        "        if in_degree[i] == 0:\n",
        "            queue.append(i)\n",
        "\n",
        "    # List to store the topological sorting result\n",
        "    result = []\n",
        "\n",
        "    # Perform topological sorting\n",
        "    while queue:\n",
        "        node = queue.popleft()\n",
        "        result.append(node + 1)\n",
        "\n",
        "        # Update in-degrees of neighbors and add them to the queue if their in-degree becomes 0\n",
        "        for neighbor in graph[node]:\n",
        "            in_degree[neighbor] -= 1\n",
        "            if in_degree[neighbor] == 0:\n",
        "                queue.append(neighbor)\n",
        "\n",
        "    return result"
      ],
      "metadata": {
        "id": "-iWvxiMFw8d-"
      },
      "execution_count": null,
      "outputs": []
    },
    {
      "cell_type": "markdown",
      "source": [
        " M - Coloring Problem"
      ],
      "metadata": {
        "id": "3F3uqJPnw_Hc"
      }
    },
    {
      "cell_type": "code",
      "source": [
        "from os import *\n",
        "from sys import *\n",
        "from collections import *\n",
        "from math import *\n",
        "\n",
        "def is_safe(adjMatrix, n, colors, v, c):\n",
        "    for i in range(n):\n",
        "        if adjMatrix[v][i] == 1 and colors[i] == c:\n",
        "            return False\n",
        "    return True\n",
        "\n",
        "def graphColoring(adjMatrix, n, m):\n",
        "    colors = [-1] * n\n",
        "\n",
        "    def graph_color_util(adjMatrix, n, m, v):\n",
        "        if v == n:\n",
        "            return True\n",
        "\n",
        "        for c in range(1, m + 1):\n",
        "            if is_safe(adjMatrix, n, colors, v, c):\n",
        "                colors[v] = c\n",
        "                if graph_color_util(adjMatrix, n, m, v + 1):\n",
        "                    return True\n",
        "                colors[v] = -1\n",
        "\n",
        "        return False\n",
        "\n",
        "    if graph_color_util(adjMatrix, n, m, 0):\n",
        "        return \"Yes\"\n",
        "    else:\n",
        "        return \"No\"\n"
      ],
      "metadata": {
        "id": "rwSWFSnqxD7y"
      },
      "execution_count": null,
      "outputs": []
    },
    {
      "cell_type": "markdown",
      "source": [
        "Minimum Spanning Tree"
      ],
      "metadata": {
        "id": "FXpemHS8xGoV"
      }
    },
    {
      "cell_type": "code",
      "source": [
        "from sys import stdin,setrecursionlimit\n",
        "setrecursionlimit(10**7)\n",
        "\n",
        "class Edge:\n",
        "    def __init__(self, start, end, weight):\n",
        "        self.start = start\n",
        "        self.end = end\n",
        "        self.weight = weight\n",
        "\n",
        "class Subset:\n",
        "    def __init__(self, parent, rank):\n",
        "        self.parent = parent\n",
        "        self.rank = rank\n",
        "\n",
        "def find(subsets, node):\n",
        "    if subsets[node].parent != node:\n",
        "        subsets[node].parent = find(subsets, subsets[node].parent)\n",
        "    return subsets[node].parent\n",
        "\n",
        "def union(subsets, x, y):\n",
        "    x_root = find(subsets, x)\n",
        "    y_root = find(subsets, y)\n",
        "\n",
        "    if subsets[x_root].rank < subsets[y_root].rank:\n",
        "        subsets[x_root].parent = y_root\n",
        "    elif subsets[x_root].rank > subsets[y_root].rank:\n",
        "        subsets[y_root].parent = x_root\n",
        "    else:\n",
        "        subsets[y_root].parent = x_root\n",
        "        subsets[x_root].rank += 1\n",
        "\n",
        "def minimumSpanningTree(edges, V, E):\n",
        "    edges.sort(key=lambda edge: edge.weight)\n",
        "    subsets = [Subset(i, 0) for i in range(V)]\n",
        "    total_weight = 0\n",
        "\n",
        "    for edge in edges:\n",
        "        x = find(subsets, edge.start)\n",
        "        y = find(subsets, edge.end)\n",
        "\n",
        "        if x != y:\n",
        "            total_weight += edge.weight\n",
        "            union(subsets, x, y)\n",
        "\n",
        "    return total_weight\n",
        "\n",
        "def takeInput():\n",
        "    n_m = stdin.readline().strip().split()\n",
        "    V = int(n_m[0])\n",
        "    E = int(n_m[1])\n",
        "\n",
        "    edges = [Edge(0, 0, 0) for _ in range(E)]\n",
        "    for i in range(E):\n",
        "        temp = list(map(int, stdin.readline().strip().split()))\n",
        "        edges[i] = Edge(temp[0], temp[1], temp[2])\n",
        "\n",
        "    return edges, V, E\n",
        "\n",
        "# Main function\n",
        "edges, V, E = takeInput()\n",
        "print(minimumSpanningTree(edges, V, E))"
      ],
      "metadata": {
        "id": "qT65QnnoxLJE"
      },
      "execution_count": null,
      "outputs": []
    },
    {
      "cell_type": "markdown",
      "source": [
        "Network Delay Time"
      ],
      "metadata": {
        "id": "r_eiiJ5KxN3f"
      }
    },
    {
      "cell_type": "code",
      "source": [
        "import heapq\n",
        "\n",
        "def networkDelayTime(edges, n, k):\n",
        "    # Initialize adjacency list to represent the graph\n",
        "    graph = {i: [] for i in range(1, n+1)}\n",
        "\n",
        "    # Construct the graph from the given edges\n",
        "    for u, v, w in edges:\n",
        "        graph[u].append((v, w))\n",
        "\n",
        "    # Initialize distance array to store shortest distances from source node to all other nodes\n",
        "    distances = [float('inf')] * (n+1)\n",
        "    distances[k] = 0\n",
        "\n",
        "    # Priority queue to store nodes to be explored, with their distances from the source\n",
        "    pq = [(0, k)]\n",
        "\n",
        "    while pq:\n",
        "        dist, node = heapq.heappop(pq)\n",
        "\n",
        "        # If the current distance is greater than the known shortest distance, skip\n",
        "        if dist > distances[node]:\n",
        "            continue\n",
        "\n",
        "        # Explore neighbors of the current node\n",
        "        for neighbor, weight in graph[node]:\n",
        "            new_dist = dist + weight\n",
        "            if new_dist < distances[neighbor]:\n",
        "                distances[neighbor] = new_dist\n",
        "                heapq.heappush(pq, (new_dist, neighbor))\n",
        "\n",
        "    # Check if all nodes are reachable from the source\n",
        "    max_distance = max(distances[1:])\n",
        "    if max_distance == float('inf'):\n",
        "        return -1\n",
        "    else:\n",
        "        return max_distance"
      ],
      "metadata": {
        "id": "G14jA74sxSoE"
      },
      "execution_count": null,
      "outputs": []
    },
    {
      "cell_type": "markdown",
      "source": [
        "Islands"
      ],
      "metadata": {
        "id": "KVevbclxxVt1"
      }
    },
    {
      "cell_type": "code",
      "source": [
        "def dfs(graph, visited, start):\n",
        "    stack = [start]\n",
        "    visited[start] = True\n",
        "\n",
        "    while stack:\n",
        "        node = stack.pop()\n",
        "        for neighbor in graph[node]:\n",
        "            if not visited[neighbor]:\n",
        "                stack.append(neighbor)\n",
        "                visited[neighbor] = True\n",
        "\n",
        "def count_connected_groups(V, E, edges):\n",
        "    # Create adjacency list representation of the graph\n",
        "    graph = [[] for _ in range(V)]\n",
        "    for a, b in edges:\n",
        "        graph[a].append(b)\n",
        "        graph[b].append(a)\n",
        "\n",
        "    # Initialize visited array\n",
        "    visited = [False] * V\n",
        "\n",
        "    # Perform DFS to find connected components\n",
        "    connected_groups = 0\n",
        "    for i in range(V):\n",
        "        if not visited[i]:\n",
        "            dfs(graph, visited, i)\n",
        "            connected_groups += 1\n",
        "\n",
        "    return connected_groups\n",
        "\n",
        "# Read input\n",
        "V, E = map(int, input().split())\n",
        "edges = []\n",
        "for _ in range(E):\n",
        "    a, b = map(int, input().split())\n",
        "    edges.append((a, b))\n",
        "\n",
        "# Count connected groups\n",
        "result = count_connected_groups(V, E, edges)\n",
        "print(result)"
      ],
      "metadata": {
        "id": "Ta9CMvS0xcH3"
      },
      "execution_count": null,
      "outputs": []
    },
    {
      "cell_type": "markdown",
      "source": [
        "#Week 16\n",
        "\n",
        "#2048 Game"
      ],
      "metadata": {
        "id": "OVjGh39_xsbl"
      }
    },
    {
      "cell_type": "code",
      "source": [
        "import random\n",
        "\n",
        "def start_game():\n",
        "    \"\"\"\n",
        "    Initialize the game board with zeros.\n",
        "    \"\"\"\n",
        "    mat = []\n",
        "    for i in range(4):\n",
        "        mat.append([0]*4)\n",
        "    return mat\n",
        "\n",
        "def transpose(matrix):\n",
        "    \"\"\"\n",
        "    Transpose the given matrix.\n",
        "    \"\"\"\n",
        "    return [list(row) for row in zip(*matrix)]\n",
        "\n",
        "def reverse_rows(matrix):\n",
        "    \"\"\"\n",
        "    Reverse the rows of the given matrix.\n",
        "    \"\"\"\n",
        "    return [row[::-1] for row in matrix]\n",
        "\n",
        "def move_up(grid):\n",
        "    \"\"\"\n",
        "    Perform the 'up' move in the 2048 game.\n",
        "    \"\"\"\n",
        "    transposed_grid = transpose(grid)\n",
        "    moved_left = move_left(transposed_grid)\n",
        "    return transpose(moved_left)\n",
        "\n",
        "def move_down(grid):\n",
        "    \"\"\"\n",
        "    Perform the 'down' move in the 2048 game.\n",
        "    \"\"\"\n",
        "    transposed_grid = transpose(grid)\n",
        "    reversed_rows = reverse_rows(transposed_grid)\n",
        "    moved_left = move_left(reversed_rows)\n",
        "    reversed_back = reverse_rows(moved_left)\n",
        "    return transpose(reversed_back)\n",
        "\n",
        "def move_left(grid):\n",
        "    \"\"\"\n",
        "    Perform the 'left' move in the 2048 game.\n",
        "    \"\"\"\n",
        "    new_grid = []\n",
        "    for row in grid:\n",
        "        row = [val for val in row if val != 0]\n",
        "        for i in range(len(row) - 1):\n",
        "            if row[i] == row[i + 1]:\n",
        "                row[i] *= 2\n",
        "                row[i + 1] = 0\n",
        "        row = [val for val in row if val != 0]\n",
        "        row += [0] * (len(grid) - len(row))\n",
        "        new_grid.append(row)\n",
        "    return new_grid\n",
        "\n",
        "def move_right(grid):\n",
        "    \"\"\"\n",
        "    Perform the 'right' move in the 2048 game.\n",
        "    \"\"\"\n",
        "    reversed_rows = reverse_rows(grid)\n",
        "    moved_left = move_left(reversed_rows)\n",
        "    return reverse_rows(moved_left)\n",
        "\n",
        "\n",
        "\n",
        "mat = start_game()\n",
        "mat[1][3] = 2\n",
        "mat[2][2] = 2\n",
        "mat[3][0] = 4\n",
        "mat[3][1] = 8\n",
        "mat[2][1] = 4\n",
        "inputs = [int(ele) for ele in input().split()]\n",
        "for ele in inputs:\n",
        "    if ele == 1:\n",
        "        mat = move_up(mat)\n",
        "    elif ele == 2:\n",
        "        mat = move_down(mat)\n",
        "    elif ele == 3:\n",
        "        mat = move_left(mat)\n",
        "    else:\n",
        "        mat = move_right(mat)\n",
        "    print(mat)"
      ],
      "metadata": {
        "colab": {
          "base_uri": "https://localhost:8080/"
        },
        "id": "Gj06yK9Dx2PZ",
        "outputId": "161c28f2-594c-4197-a920-94a17d21d4e8"
      },
      "execution_count": 1,
      "outputs": [
        {
          "output_type": "stream",
          "name": "stdout",
          "text": [
            "453\n",
            "[[0, 0, 0, 0], [0, 0, 0, 2], [0, 0, 4, 2], [0, 0, 4, 8]]\n"
          ]
        }
      ]
    },
    {
      "cell_type": "markdown",
      "source": [
        "#ALL The Best\n"
      ],
      "metadata": {
        "id": "4TbLt-K4yH_Y"
      }
    }
  ]
}